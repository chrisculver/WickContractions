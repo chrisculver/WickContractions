{
 "cells": [
  {
   "cell_type": "code",
   "execution_count": 1,
   "metadata": {},
   "outputs": [],
   "source": [
    "from src.operators import *\n",
    "from src.quarks import *\n",
    "from src.wick_utilities import *\n",
    "from src.wick_contract import *"
   ]
  },
  {
   "cell_type": "markdown",
   "metadata": {},
   "source": [
    "## Testing Operators"
   ]
  },
  {
   "cell_type": "markdown",
   "metadata": {},
   "source": [
    "Let's write our operators always in the following form, \n",
    "   \\begin{equation}\n",
    "   O_{\\alpha\\beta}=a(\\prod_i C^i_{\\alpha})(\\prod_j q^j_{\\beta}),\n",
    "   \\end{equation}\n",
    "where $a$ is a constant, $C$ is a commuting object, and $q$ is an anti-commuting object.  The superscripts just indicate that there's a product of many such objects.  The subscript is a label representing multiple indices (spin, color, ...).  When filling in the full index list, einstein summation convention will be used.  As long as our operators are input in this format we can do the following to compute the contractions.\n",
    "\n",
    "\n",
    "1. Take all the quarks, and do the wick contractions.\n",
    "2. Use any symmetries to reduce the expression.\n",
    "3. Use final expression to generate code to evaluate digarams on LapH.\n"
   ]
  },
  {
   "cell_type": "code",
   "execution_count": 2,
   "metadata": {},
   "outputs": [],
   "source": [
    "c0=Epsilon_Tensor(['c0','c1','c2'])\n",
    "c1=Spin_Matrix('Pid',['s0','s2'])\n",
    "c2=Spin_Matrix('Cg5',['s3','s4'])\n",
    "                  \n",
    "q0=Quark(False,'u','s2','c0')\n",
    "q1=Quark(False,'u','s3','c1')\n",
    "q2=Quark(False,'d','s4','c2')\n",
    "                                   \n",
    "annihilate_proton = Operator(1,[c0,c1,c2],[q0,q1,q2])\n",
    "\n",
    "c3=Epsilon_Tensor(['c3','c4','c5'])\n",
    "c4=Spin_Matrix('Pid',['s5','s7'])\n",
    "c5=Spin_Matrix('Cg5',['s8','s9'])\n",
    "\n",
    "q3=Quark(False,'u','s7','c3')\n",
    "q4=Quark(False,'u','s8','c4')\n",
    "q5=Quark(False,'d','s9','c5')\n",
    "               \n",
    "annihilate_two_protons = Operator(1,[c0,c1,c2,c3,c4,c5],[q0,q1,q2,q3,q4,q5])\n",
    "\n",
    "c6=Epsilon_Tensor(['c6','c7','c8'])\n",
    "c7=Spin_Matrix('Pid',['s10','s12'])\n",
    "c8=Spin_Matrix('Cg5',['s13','s14'])\n",
    "\n",
    "q6=Quark(True,'u','s12','c6')\n",
    "q7=Quark(True,'u','s13','c7')\n",
    "q8=Quark(True,'d','s14','c8')\n",
    "\n",
    "create_proton = Operator(1,[c6,c7,c8],[q6,q7,q8])\n",
    "\n",
    "c9=Epsilon_Tensor(['c9','c10','c11'])\n",
    "c10=Spin_Matrix('Pid',['s15','s17'])\n",
    "c11=Spin_Matrix('Cg5',['s18','s19'])\n",
    "\n",
    "q9=Quark(True,'u','s17','c9')\n",
    "q10=Quark(True,'u','s18','c10')\n",
    "q11=Quark(True,'d','s19','c11')\n",
    "\n",
    "create_two_protons = Operator(1,[c6,c7,c8,c9,c10,c11],[q6,q7,q8,q9,q10,q11])\n",
    "\n"
   ]
  },
  {
   "cell_type": "markdown",
   "metadata": {},
   "source": [
    "### Testing reducing terms with relatable epsilon tensors."
   ]
  },
  {
   "cell_type": "code",
   "execution_count": 3,
   "metadata": {},
   "outputs": [
    {
     "data": {
      "text/plain": [
       "True"
      ]
     },
     "execution_count": 3,
     "metadata": {},
     "output_type": "execute_result"
    }
   ],
   "source": [
    "type(c0) is Epsilon_Tensor"
   ]
  },
  {
   "cell_type": "code",
   "execution_count": 4,
   "metadata": {},
   "outputs": [
    {
     "name": "stdout",
     "output_type": "stream",
     "text": [
      "eps_{c0c1c2}\n"
     ]
    }
   ],
   "source": [
    "print(c0)"
   ]
  },
  {
   "cell_type": "code",
   "execution_count": 5,
   "metadata": {},
   "outputs": [
    {
     "name": "stdout",
     "output_type": "stream",
     "text": [
      "eps_{c0c1c2}\n",
      "eps_{c1c0c2}\n",
      "eps_{c2c0c1}\n",
      "eps_{c0c2c1}\n",
      "eps_{c1c2c0}\n",
      "eps_{c2c1c0}\n",
      "\n",
      "eps_{c0c1c2}\n"
     ]
    }
   ],
   "source": [
    "perms_of_c0 = c0.get_permutations()\n",
    "[ print(perm) for perm in perms_of_c0 ]\n",
    "print(\"\\n\"+str(c0))"
   ]
  },
  {
   "cell_type": "code",
   "execution_count": 6,
   "metadata": {},
   "outputs": [
    {
     "name": "stdout",
     "output_type": "stream",
     "text": [
      "True\n",
      "False\n"
     ]
    }
   ],
   "source": [
    "print(c0==perms_of_c0[0])\n",
    "print(c0==perms_of_c0[4])"
   ]
  },
  {
   "cell_type": "code",
   "execution_count": 7,
   "metadata": {},
   "outputs": [
    {
     "data": {
      "text/plain": [
       "True"
      ]
     },
     "execution_count": 7,
     "metadata": {},
     "output_type": "execute_result"
    }
   ],
   "source": [
    "c0==Epsilon_Tensor(['c0','c1','c2'])"
   ]
  },
  {
   "cell_type": "code",
   "execution_count": 8,
   "metadata": {},
   "outputs": [
    {
     "name": "stdout",
     "output_type": "stream",
     "text": [
      "0\n",
      "1\n",
      "-1\n",
      "1\n",
      "-1\n",
      "1\n",
      "-1\n"
     ]
    }
   ],
   "source": [
    "print(c0.sign_of_permutation(c1))\n",
    "[ print(c0.sign_of_permutation(perm)) for perm in perms_of_c0 ];"
   ]
  },
  {
   "cell_type": "markdown",
   "metadata": {},
   "source": [
    "## Test contracting operators"
   ]
  },
  {
   "cell_type": "code",
   "execution_count": 9,
   "metadata": {},
   "outputs": [
    {
     "name": "stdout",
     "output_type": "stream",
     "text": [
      "-1 eps_{c0c1c2}Pid_{s0s2}Cg5_{s3s4}eps_{c6c7c8}Pid_{s10s12}Cg5_{s13s14}Du^{-1}_{c0s2c6s12}Du^{-1}_{c1s3c7s13}Dd^{-1}_{c2s4c8s14}\n",
      "1 eps_{c0c1c2}Pid_{s0s2}Cg5_{s3s4}eps_{c6c7c8}Pid_{s10s12}Cg5_{s13s14}Du^{-1}_{c1s3c6s12}Du^{-1}_{c0s2c7s13}Dd^{-1}_{c2s4c8s14}\n",
      "9\n",
      "18\n"
     ]
    }
   ],
   "source": [
    "res=contract(annihilate_proton, create_proton)\n",
    "for d in res:\n",
    "    print(d)\n",
    "# 3 props - 6 ci.\n",
    "print(len(res[0].ci))\n",
    "res=contract(annihilate_two_protons, create_two_protons)\n",
    "print(len(res[0].ci))\n",
    "# 6 props - 12 ci"
   ]
  },
  {
   "cell_type": "code",
   "execution_count": 13,
   "metadata": {},
   "outputs": [
    {
     "name": "stdout",
     "output_type": "stream",
     "text": [
      "-1 eps_{c0c1c2}Pid_{s0s2}Cg5_{s3s4}eps_{c3c4c5}Pid_{s5s7}Cg5_{s8s9}eps_{c6c7c8}Pid_{s10s12}Cg5_{s13s14}eps_{c9c10c11}Pid_{s15s17}Cg5_{s18s19}Du^{-1}_{c0s2c6s12}Du^{-1}_{c1s3c7s13}Dd^{-1}_{c2s4c8s14}Du^{-1}_{c3s7c9s17}Du^{-1}_{c4s8c10s18}Dd^{-1}_{c5s9c11s19}\n",
      "1 eps_{c0c1c2}Pid_{s0s2}Cg5_{s3s4}eps_{c3c4c5}Pid_{s5s7}Cg5_{s8s9}eps_{c6c7c8}Pid_{s10s12}Cg5_{s13s14}eps_{c9c10c11}Pid_{s15s17}Cg5_{s18s19}Du^{-1}_{c1s3c6s12}Du^{-1}_{c0s2c7s13}Dd^{-1}_{c2s4c8s14}Du^{-1}_{c3s7c9s17}Du^{-1}_{c4s8c10s18}Dd^{-1}_{c5s9c11s19}\n"
     ]
    }
   ],
   "source": [
    "#for d in res:\n",
    "#    print(d)\n",
    "print(res[0])\n",
    "print(res[1])"
   ]
  },
  {
   "cell_type": "markdown",
   "metadata": {},
   "source": [
    "## Reducing number of diagrams"
   ]
  },
  {
   "cell_type": "code",
   "execution_count": 11,
   "metadata": {},
   "outputs": [],
   "source": [
    "for di in range(len(res)-1,0,-1):\n",
    "    for dj in range(len(res)-1,0,-1):\n",
    "        if(di!=dj):\n",
    "            found_match = res[di].equivalent_to(res[dj])\n",
    "            if(found_match!=0):\n",
    "                res[di].coef += res[dj].coef*found_match\n",
    "                res.remove(res[dj])\n",
    "                break\n",
    "            \n",
    "            "
   ]
  },
  {
   "cell_type": "code",
   "execution_count": 12,
   "metadata": {},
   "outputs": [
    {
     "data": {
      "text/plain": [
       "48"
      ]
     },
     "execution_count": 12,
     "metadata": {},
     "output_type": "execute_result"
    }
   ],
   "source": [
    "len(res)"
   ]
  },
  {
   "cell_type": "code",
   "execution_count": null,
   "metadata": {},
   "outputs": [],
   "source": []
  }
 ],
 "metadata": {
  "kernelspec": {
   "display_name": "Python 3",
   "language": "python",
   "name": "python3"
  },
  "language_info": {
   "codemirror_mode": {
    "name": "ipython",
    "version": 3
   },
   "file_extension": ".py",
   "mimetype": "text/x-python",
   "name": "python",
   "nbconvert_exporter": "python",
   "pygments_lexer": "ipython3",
   "version": "3.8.5"
  }
 },
 "nbformat": 4,
 "nbformat_minor": 4
}
