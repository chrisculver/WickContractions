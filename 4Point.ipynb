{
 "cells": [
  {
   "cell_type": "code",
   "execution_count": 1,
   "metadata": {},
   "outputs": [],
   "source": [
    "from src.operators import *\n",
    "from src.diagram import *\n",
    "from src.quarks import *\n",
    "from src.wick_utilities import *\n",
    "from src.wick_contract import *"
   ]
  },
  {
   "cell_type": "code",
   "execution_count": 2,
   "metadata": {},
   "outputs": [],
   "source": [
    "q0=Quark(True,'u','s0','c0','t0','x0')\n",
    "g0=Spin_Matrix('G5',['s0','s1'])\n",
    "q1=Quark(False,'d','s1','c1','t0','x0')\n",
    "\n",
    "q2=Quark(True,'u','s2','c2','t1','x1')\n",
    "g1=Spin_Matrix('Gmu',['s2','s3'])\n",
    "q3=Quark(False,'u','s3','c3','t1','x1')\n",
    "\n",
    "q4=Quark(False,'u','s4','c4','t2','x2')\n",
    "g2=Spin_Matrix('Gmu',['s4','s5'])\n",
    "q5=Quark(True,'u','s5','c5','t2','x2')\n",
    "\n",
    "q6=Quark(False,'u','s6','c6','t3','x3')\n",
    "g3=Spin_Matrix('G5',['s6','s7'])\n",
    "q7=Quark(True,'d','s7','c7','t3','x3')\n",
    "\n",
    "Au1=Indexed_Object('Au1',['c2','c3','x1'])\n",
    "Au2=Indexed_Object('Au2',['c4','c5','x2'])\n"
   ]
  },
  {
   "cell_type": "code",
   "execution_count": 3,
   "metadata": {},
   "outputs": [
    {
     "name": "stdout",
     "output_type": "stream",
     "text": [
      "1\n",
      "[<src.operators.Spin_Matrix object at 0x7f6265521c40>, <src.operators.Spin_Matrix object at 0x7f6265521d60>, <src.indexed.Indexed_Object object at 0x7f6265521fa0>]\n",
      "[<src.quarks.Quark object at 0x7f6265521e50>, <src.quarks.Quark object at 0x7f6265521e80>, <src.quarks.Quark object at 0x7f6265521ee0>, <src.quarks.Quark object at 0x7f6265521f10>]\n"
     ]
    }
   ],
   "source": [
    "o1 = Operator(1,[g0,g1,Au1],[q0,q1,q2,q3])\n",
    "o2 = Operator(1,[g2,g3,Au2],[q4,q5,q6,q7])\n",
    "\n",
    "print(o1.coef)\n",
    "print(o1.ci)\n",
    "print(o2.qj)"
   ]
  },
  {
   "cell_type": "code",
   "execution_count": 4,
   "metadata": {},
   "outputs": [
    {
     "name": "stdout",
     "output_type": "stream",
     "text": [
      "6\n"
     ]
    }
   ],
   "source": [
    "res = contract(o1,o2)\n",
    "print(len(res))"
   ]
  },
  {
   "cell_type": "code",
   "execution_count": 5,
   "metadata": {},
   "outputs": [
    {
     "name": "stdout",
     "output_type": "stream",
     "text": [
      "1 Au1_{c2 c3 x1 }Au2_{c4 c5 x2 }G5_{s0 s1 }G5_{s6 s7 }Gmu_{s2 s3 }Gmu_{s4 s5 }prop^u(t3,t0)_{c6 s6 | c0 s0}prop^u(t2,t1)_{c4 s4 | c2 s2}prop^u(t1,t2)_{c3 s3 | c5 s5}prop^d(t0,t3)_{c1 s1 | c7 s7}\n",
      "-1 Au1_{c2 c3 x1 }Au2_{c4 c5 x2 }G5_{s0 s1 }G5_{s6 s7 }Gmu_{s2 s3 }Gmu_{s4 s5 }prop^u(t2,t0)_{c4 s4 | c0 s0}prop^u(t3,t1)_{c6 s6 | c2 s2}prop^u(t1,t2)_{c3 s3 | c5 s5}prop^d(t0,t3)_{c1 s1 | c7 s7}\n",
      "1 Au1_{c2 c3 x1 }Au2_{c4 c5 x2 }G5_{s0 s1 }G5_{s6 s7 }Gmu_{s2 s3 }Gmu_{s4 s5 }prop^u(t1,t0)_{c3 s3 | c0 s0}prop^u(t3,t1)_{c6 s6 | c2 s2}prop^u(t2,t2)_{c4 s4 | c5 s5}prop^d(t0,t3)_{c1 s1 | c7 s7}\n",
      "-1 Au1_{c2 c3 x1 }Au2_{c4 c5 x2 }G5_{s0 s1 }G5_{s6 s7 }Gmu_{s2 s3 }Gmu_{s4 s5 }prop^u(t3,t0)_{c6 s6 | c0 s0}prop^u(t1,t1)_{c3 s3 | c2 s2}prop^u(t2,t2)_{c4 s4 | c5 s5}prop^d(t0,t3)_{c1 s1 | c7 s7}\n",
      "1 Au1_{c2 c3 x1 }Au2_{c4 c5 x2 }G5_{s0 s1 }G5_{s6 s7 }Gmu_{s2 s3 }Gmu_{s4 s5 }prop^u(t2,t0)_{c4 s4 | c0 s0}prop^u(t1,t1)_{c3 s3 | c2 s2}prop^u(t3,t2)_{c6 s6 | c5 s5}prop^d(t0,t3)_{c1 s1 | c7 s7}\n",
      "-1 Au1_{c2 c3 x1 }Au2_{c4 c5 x2 }G5_{s0 s1 }G5_{s6 s7 }Gmu_{s2 s3 }Gmu_{s4 s5 }prop^u(t1,t0)_{c3 s3 | c0 s0}prop^u(t2,t1)_{c4 s4 | c2 s2}prop^u(t3,t2)_{c6 s6 | c5 s5}prop^d(t0,t3)_{c1 s1 | c7 s7}\n"
     ]
    }
   ],
   "source": [
    "for d in res:\n",
    "    print(d)"
   ]
  },
  {
   "cell_type": "code",
   "execution_count": null,
   "metadata": {},
   "outputs": [],
   "source": [
    "# d[4] = (e)\n",
    "# d[3] = (f)\n",
    "# d[0] = (d)"
   ]
  }
 ],
 "metadata": {
  "kernelspec": {
   "display_name": "Python [conda env:LQCD] *",
   "language": "python",
   "name": "conda-env-LQCD-py"
  },
  "language_info": {
   "codemirror_mode": {
    "name": "ipython",
    "version": 3
   },
   "file_extension": ".py",
   "mimetype": "text/x-python",
   "name": "python",
   "nbconvert_exporter": "python",
   "pygments_lexer": "ipython3",
   "version": "3.8.5"
  }
 },
 "nbformat": 4,
 "nbformat_minor": 4
}
