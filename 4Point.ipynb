{
 "cells": [
  {
   "cell_type": "code",
   "execution_count": 1,
   "metadata": {},
   "outputs": [],
   "source": [
    "from src.operators import *\n",
    "from src.diagram import *\n",
    "from src.quarks import *\n",
    "from src.wick_utilities import *\n",
    "from src.wick_contract import *"
   ]
  },
  {
   "cell_type": "code",
   "execution_count": 2,
   "metadata": {},
   "outputs": [],
   "source": [
    "q0=Quark(True,'u','s0','c0','t0','x0')\n",
    "g0=Spin_Matrix('G5',['s0','s1'])\n",
    "q1=Quark(False,'d','s1','c1','t0','x0')\n",
    "\n",
    "q2=Quark(True,'u','s2','c2','t1','x1')\n",
    "g1=Spin_Matrix('Gmu',['s2','s3'])\n",
    "q3=Quark(False,'u','s3','c3','t1','x1')\n",
    "\n",
    "q4=Quark(False,'u','s4','c4','t2','x2')\n",
    "g2=Spin_Matrix('Gmu',['s4','s5'])\n",
    "q5=Quark(True,'u','s5','c5','t2','x2')\n",
    "\n",
    "q6=Quark(False,'u','s6','c6','t3','x3')\n",
    "g3=Spin_Matrix('G5',['s6','s7'])\n",
    "q7=Quark(True,'d','s7','c7','t3','x3')\n",
    "\n",
    "Au1=Indexed_Function('Au1',['c2','c3'],['x1'])\n",
    "Au2=Indexed_Function('Au2',['c4','c5'],['x2'])\n"
   ]
  },
  {
   "cell_type": "code",
   "execution_count": 3,
   "metadata": {},
   "outputs": [
    {
     "name": "stdout",
     "output_type": "stream",
     "text": [
      "1\n",
      "[<src.operators.Spin_Matrix object at 0x7fea6c671d00>, <src.operators.Spin_Matrix object at 0x7fea6c671dc0>, <src.indexed.Indexed_Function object at 0x7fea6c5f4070>]\n",
      "[<src.quarks.Quark object at 0x7fea6c671eb0>, <src.quarks.Quark object at 0x7fea6c671ee0>, <src.quarks.Quark object at 0x7fea6c671f70>, <src.quarks.Quark object at 0x7fea6c671fa0>]\n"
     ]
    }
   ],
   "source": [
    "o1 = Operator(1,[g0,g1,Au1],[q0,q1,q2,q3])\n",
    "o2 = Operator(1,[g2,g3,Au2],[q4,q5,q6,q7])\n",
    "\n",
    "print(o1.coef)\n",
    "print(o1.ci)\n",
    "print(o2.qj)"
   ]
  },
  {
   "cell_type": "code",
   "execution_count": 4,
   "metadata": {},
   "outputs": [
    {
     "name": "stdout",
     "output_type": "stream",
     "text": [
      "6\n"
     ]
    }
   ],
   "source": [
    "res = contract(o1,o2)\n",
    "print(len(res))"
   ]
  },
  {
   "cell_type": "code",
   "execution_count": 5,
   "metadata": {},
   "outputs": [
    {
     "name": "stdout",
     "output_type": "stream",
     "text": [
      "1 Au1(x1)_{c2 c3}Au2(x2)_{c4 c5}G5_{s0 s1 }G5_{s6 s7 }Gmu_{s2 s3 }Gmu_{s4 s5 }prop^u(t3,t0)_{c6 s6 | c0 s0}prop^u(t2,t1)_{c4 s4 | c2 s2}prop^u(t1,t2)_{c3 s3 | c5 s5}prop^d(t0,t3)_{c1 s1 | c7 s7}\n",
      "-1 Au1(x1)_{c2 c3}Au2(x2)_{c4 c5}G5_{s0 s1 }G5_{s6 s7 }Gmu_{s2 s3 }Gmu_{s4 s5 }prop^u(t2,t0)_{c4 s4 | c0 s0}prop^u(t3,t1)_{c6 s6 | c2 s2}prop^u(t1,t2)_{c3 s3 | c5 s5}prop^d(t0,t3)_{c1 s1 | c7 s7}\n",
      "1 Au1(x1)_{c2 c3}Au2(x2)_{c4 c5}G5_{s0 s1 }G5_{s6 s7 }Gmu_{s2 s3 }Gmu_{s4 s5 }prop^u(t1,t0)_{c3 s3 | c0 s0}prop^u(t3,t1)_{c6 s6 | c2 s2}prop^u(t2,t2)_{c4 s4 | c5 s5}prop^d(t0,t3)_{c1 s1 | c7 s7}\n",
      "-1 Au1(x1)_{c2 c3}Au2(x2)_{c4 c5}G5_{s0 s1 }G5_{s6 s7 }Gmu_{s2 s3 }Gmu_{s4 s5 }prop^u(t3,t0)_{c6 s6 | c0 s0}prop^u(t1,t1)_{c3 s3 | c2 s2}prop^u(t2,t2)_{c4 s4 | c5 s5}prop^d(t0,t3)_{c1 s1 | c7 s7}\n",
      "1 Au1(x1)_{c2 c3}Au2(x2)_{c4 c5}G5_{s0 s1 }G5_{s6 s7 }Gmu_{s2 s3 }Gmu_{s4 s5 }prop^u(t2,t0)_{c4 s4 | c0 s0}prop^u(t1,t1)_{c3 s3 | c2 s2}prop^u(t3,t2)_{c6 s6 | c5 s5}prop^d(t0,t3)_{c1 s1 | c7 s7}\n",
      "-1 Au1(x1)_{c2 c3}Au2(x2)_{c4 c5}G5_{s0 s1 }G5_{s6 s7 }Gmu_{s2 s3 }Gmu_{s4 s5 }prop^u(t1,t0)_{c3 s3 | c0 s0}prop^u(t2,t1)_{c4 s4 | c2 s2}prop^u(t3,t2)_{c6 s6 | c5 s5}prop^d(t0,t3)_{c1 s1 | c7 s7}\n"
     ]
    }
   ],
   "source": [
    "for d in res:\n",
    "    print(d)"
   ]
  },
  {
   "cell_type": "code",
   "execution_count": 6,
   "metadata": {},
   "outputs": [],
   "source": [
    "# d[4] = (e)\n",
    "# d[3] = (f)\n",
    "# d[0] = (d)"
   ]
  },
  {
   "cell_type": "code",
   "execution_count": null,
   "metadata": {},
   "outputs": [],
   "source": []
  },
  {
   "cell_type": "code",
   "execution_count": 7,
   "metadata": {},
   "outputs": [
    {
     "name": "stdout",
     "output_type": "stream",
     "text": [
      "6\n",
      "1 Au1(x1)_{c2 c3}Au2(x2)_{c4 c5}G5_{s0 s1 }G5_{s6 s7 }Gmu_{s2 s3 }Gmu_{s4 s5 }prop^u(t3,t0)_{c6 s6 | c0 s0}prop^d(t1,t1)_{c3 s3 | c2 s2}prop^d(t0,t2)_{c1 s1 | c5 s5}prop^d(t2,t3)_{c4 s4 | c7 s7}\n",
      "-1 Au1(x1)_{c2 c3}Au2(x2)_{c4 c5}G5_{s0 s1 }G5_{s6 s7 }Gmu_{s2 s3 }Gmu_{s4 s5 }prop^u(t3,t0)_{c6 s6 | c0 s0}prop^d(t0,t1)_{c1 s1 | c2 s2}prop^d(t1,t2)_{c3 s3 | c5 s5}prop^d(t2,t3)_{c4 s4 | c7 s7}\n",
      "1 Au1(x1)_{c2 c3}Au2(x2)_{c4 c5}G5_{s0 s1 }G5_{s6 s7 }Gmu_{s2 s3 }Gmu_{s4 s5 }prop^u(t3,t0)_{c6 s6 | c0 s0}prop^d(t0,t1)_{c1 s1 | c2 s2}prop^d(t2,t2)_{c4 s4 | c5 s5}prop^d(t1,t3)_{c3 s3 | c7 s7}\n",
      "-1 Au1(x1)_{c2 c3}Au2(x2)_{c4 c5}G5_{s0 s1 }G5_{s6 s7 }Gmu_{s2 s3 }Gmu_{s4 s5 }prop^u(t3,t0)_{c6 s6 | c0 s0}prop^d(t2,t1)_{c4 s4 | c2 s2}prop^d(t0,t2)_{c1 s1 | c5 s5}prop^d(t1,t3)_{c3 s3 | c7 s7}\n",
      "1 Au1(x1)_{c2 c3}Au2(x2)_{c4 c5}G5_{s0 s1 }G5_{s6 s7 }Gmu_{s2 s3 }Gmu_{s4 s5 }prop^u(t3,t0)_{c6 s6 | c0 s0}prop^d(t2,t1)_{c4 s4 | c2 s2}prop^d(t1,t2)_{c3 s3 | c5 s5}prop^d(t0,t3)_{c1 s1 | c7 s7}\n",
      "-1 Au1(x1)_{c2 c3}Au2(x2)_{c4 c5}G5_{s0 s1 }G5_{s6 s7 }Gmu_{s2 s3 }Gmu_{s4 s5 }prop^u(t3,t0)_{c6 s6 | c0 s0}prop^d(t1,t1)_{c3 s3 | c2 s2}prop^d(t2,t2)_{c4 s4 | c5 s5}prop^d(t0,t3)_{c1 s1 | c7 s7}\n"
     ]
    }
   ],
   "source": [
    "q0=Quark(True,'u','s0','c0','t0','x0')\n",
    "g0=Spin_Matrix('G5',['s0','s1'])\n",
    "q1=Quark(False,'d','s1','c1','t0','x0')\n",
    "\n",
    "q2=Quark(True,'d','s2','c2','t1','x1')\n",
    "g1=Spin_Matrix('Gmu',['s2','s3'])\n",
    "q3=Quark(False,'d','s3','c3','t1','x1')\n",
    "\n",
    "q4=Quark(False,'d','s4','c4','t2','x2')\n",
    "g2=Spin_Matrix('Gmu',['s4','s5'])\n",
    "q5=Quark(True,'d','s5','c5','t2','x2')\n",
    "\n",
    "q6=Quark(False,'u','s6','c6','t3','x3')\n",
    "g3=Spin_Matrix('G5',['s6','s7'])\n",
    "q7=Quark(True,'d','s7','c7','t3','x3')\n",
    "\n",
    "Au1=Indexed_Function('Au1',['c2','c3'],['x1'])\n",
    "Au2=Indexed_Function('Au2',['c4','c5'],['x2'])\n",
    "\n",
    "o1 = Operator(1,[g0,g1,Au1],[q0,q1,q2,q3])\n",
    "o2 = Operator(1,[g2,g3,Au2],[q4,q5,q6,q7])\n",
    "\n",
    "res2 = contract(o1,o2)\n",
    "print(len(res))\n",
    "\n",
    "for d in res2:\n",
    "    print(d)"
   ]
  },
  {
   "cell_type": "code",
   "execution_count": 8,
   "metadata": {},
   "outputs": [
    {
     "name": "stdout",
     "output_type": "stream",
     "text": [
      "6\n",
      "-1 Au1(x1)_{c2 c3}Au2(x2)_{c4 c5}G5_{s0 s1 }G5_{s6 s7 }Gmu_{s2 s3 }Gmu_{s4 s5 }prop^u(t2,t0)_{c4 s4 | c0 s0}prop^d(t0,t1)_{c1 s1 | c2 s2}prop^u(t3,t2)_{c6 s6 | c5 s5}prop^d(t1,t3)_{c3 s3 | c7 s7}\n",
      "1 Au1(x1)_{c2 c3}Au2(x2)_{c4 c5}G5_{s0 s1 }G5_{s6 s7 }Gmu_{s2 s3 }Gmu_{s4 s5 }prop^u(t3,t0)_{c6 s6 | c0 s0}prop^d(t0,t1)_{c1 s1 | c2 s2}prop^u(t2,t2)_{c4 s4 | c5 s5}prop^d(t1,t3)_{c3 s3 | c7 s7}\n",
      "-1 Au1(x1)_{c2 c3}Au2(x2)_{c4 c5}G5_{s0 s1 }G5_{s6 s7 }Gmu_{s2 s3 }Gmu_{s4 s5 }prop^u(t3,t0)_{c6 s6 | c0 s0}prop^d(t1,t1)_{c3 s3 | c2 s2}prop^u(t2,t2)_{c4 s4 | c5 s5}prop^d(t0,t3)_{c1 s1 | c7 s7}\n",
      "1 Au1(x1)_{c2 c3}Au2(x2)_{c4 c5}G5_{s0 s1 }G5_{s6 s7 }Gmu_{s2 s3 }Gmu_{s4 s5 }prop^u(t2,t0)_{c4 s4 | c0 s0}prop^d(t1,t1)_{c3 s3 | c2 s2}prop^u(t3,t2)_{c6 s6 | c5 s5}prop^d(t0,t3)_{c1 s1 | c7 s7}\n"
     ]
    }
   ],
   "source": [
    "q0=Quark(True,'u','s0','c0','t0','x0')\n",
    "g0=Spin_Matrix('G5',['s0','s1'])\n",
    "q1=Quark(False,'d','s1','c1','t0','x0')\n",
    "\n",
    "q2=Quark(True,'d','s2','c2','t1','x1')\n",
    "g1=Spin_Matrix('Gmu',['s2','s3'])\n",
    "q3=Quark(False,'d','s3','c3','t1','x1')\n",
    "\n",
    "q4=Quark(False,'u','s4','c4','t2','x2')\n",
    "g2=Spin_Matrix('Gmu',['s4','s5'])\n",
    "q5=Quark(True,'u','s5','c5','t2','x2')\n",
    "\n",
    "q6=Quark(False,'u','s6','c6','t3','x3')\n",
    "g3=Spin_Matrix('G5',['s6','s7'])\n",
    "q7=Quark(True,'d','s7','c7','t3','x3')\n",
    "\n",
    "Au1=Indexed_Function('Au1',['c2','c3'],['x1'])\n",
    "Au2=Indexed_Function('Au2',['c4','c5'],['x2'])\n",
    "\n",
    "o1 = Operator(1,[g0,g1,Au1],[q0,q1,q2,q3])\n",
    "o2 = Operator(1,[g2,g3,Au2],[q4,q5,q6,q7])\n",
    "\n",
    "res3 = contract(o1,o2)\n",
    "print(len(res))\n",
    "\n",
    "for d in res3:\n",
    "    print(d)"
   ]
  },
  {
   "cell_type": "code",
   "execution_count": 9,
   "metadata": {},
   "outputs": [
    {
     "name": "stdout",
     "output_type": "stream",
     "text": [
      "6\n",
      "1 Au1(x1)_{c2 c3}Au2(x2)_{c4 c5}G5_{s0 s1 }G5_{s6 s7 }Gmu_{s2 s3 }Gmu_{s4 s5 }prop^u(t3,t0)_{c6 s6 | c0 s0}prop^u(t1,t1)_{c3 s3 | c2 s2}prop^d(t0,t2)_{c1 s1 | c5 s5}prop^d(t2,t3)_{c4 s4 | c7 s7}\n",
      "-1 Au1(x1)_{c2 c3}Au2(x2)_{c4 c5}G5_{s0 s1 }G5_{s6 s7 }Gmu_{s2 s3 }Gmu_{s4 s5 }prop^u(t1,t0)_{c3 s3 | c0 s0}prop^u(t3,t1)_{c6 s6 | c2 s2}prop^d(t0,t2)_{c1 s1 | c5 s5}prop^d(t2,t3)_{c4 s4 | c7 s7}\n",
      "1 Au1(x1)_{c2 c3}Au2(x2)_{c4 c5}G5_{s0 s1 }G5_{s6 s7 }Gmu_{s2 s3 }Gmu_{s4 s5 }prop^u(t1,t0)_{c3 s3 | c0 s0}prop^u(t3,t1)_{c6 s6 | c2 s2}prop^d(t2,t2)_{c4 s4 | c5 s5}prop^d(t0,t3)_{c1 s1 | c7 s7}\n",
      "-1 Au1(x1)_{c2 c3}Au2(x2)_{c4 c5}G5_{s0 s1 }G5_{s6 s7 }Gmu_{s2 s3 }Gmu_{s4 s5 }prop^u(t3,t0)_{c6 s6 | c0 s0}prop^u(t1,t1)_{c3 s3 | c2 s2}prop^d(t2,t2)_{c4 s4 | c5 s5}prop^d(t0,t3)_{c1 s1 | c7 s7}\n"
     ]
    }
   ],
   "source": [
    "q0=Quark(True,'u','s0','c0','t0','x0')\n",
    "g0=Spin_Matrix('G5',['s0','s1'])\n",
    "q1=Quark(False,'d','s1','c1','t0','x0')\n",
    "\n",
    "q2=Quark(True,'u','s2','c2','t1','x1')\n",
    "g1=Spin_Matrix('Gmu',['s2','s3'])\n",
    "q3=Quark(False,'u','s3','c3','t1','x1')\n",
    "\n",
    "q4=Quark(False,'d','s4','c4','t2','x2')\n",
    "g2=Spin_Matrix('Gmu',['s4','s5'])\n",
    "q5=Quark(True,'d','s5','c5','t2','x2')\n",
    "\n",
    "q6=Quark(False,'u','s6','c6','t3','x3')\n",
    "g3=Spin_Matrix('G5',['s6','s7'])\n",
    "q7=Quark(True,'d','s7','c7','t3','x3')\n",
    "\n",
    "Au1=Indexed_Function('Au1',['c2','c3'],['x1'])\n",
    "Au2=Indexed_Function('Au2',['c4','c5'],['x2'])\n",
    "\n",
    "o1 = Operator(1,[g0,g1,Au1],[q0,q1,q2,q3])\n",
    "o2 = Operator(1,[g2,g3,Au2],[q4,q5,q6,q7])\n",
    "\n",
    "res4 = contract(o1,o2)\n",
    "print(len(res))\n",
    "\n",
    "for d in res4:\n",
    "    print(d)"
   ]
  },
  {
   "cell_type": "code",
   "execution_count": 10,
   "metadata": {},
   "outputs": [
    {
     "name": "stdout",
     "output_type": "stream",
     "text": [
      "12\n"
     ]
    }
   ],
   "source": [
    "import copy\n",
    "\n",
    "t1 = copy.deepcopy(res)\n",
    "t2 = copy.deepcopy(res2)\n",
    "t3 = copy.deepcopy(res3)\n",
    "t4 = copy.deepcopy(res4)\n",
    "\n",
    "t = t1+t2+t3+t4\n",
    "for d in t:\n",
    "    for p in d.props:\n",
    "        p.name = 'D^{-1}'\n",
    "\n",
    "for i in range(len(t)-1,-1,-1):\n",
    "    for j in range(len(t)-1,-1,-1):\n",
    "        if(i!=j):\n",
    "            if(t[i]==t[j]):\n",
    "                t[i].coef+=t[j].coef\n",
    "                t.pop(j)\n",
    "                break\n",
    "print(len(t))"
   ]
  },
  {
   "cell_type": "code",
   "execution_count": 11,
   "metadata": {},
   "outputs": [
    {
     "name": "stdout",
     "output_type": "stream",
     "text": [
      "-1 D^{-1}(t2,t0)_{c4 s4 | c0 s0}D^{-1}(t3,t1)_{c6 s6 | c2 s2}D^{-1}(t1,t2)_{c3 s3 | c5 s5}D^{-1}(t0,t3)_{c1 s1 | c7 s7}\n",
      "-1 D^{-1}(t1,t0)_{c3 s3 | c0 s0}D^{-1}(t2,t1)_{c4 s4 | c2 s2}D^{-1}(t3,t2)_{c6 s6 | c5 s5}D^{-1}(t0,t3)_{c1 s1 | c7 s7}\n",
      "-1 D^{-1}(t3,t0)_{c6 s6 | c0 s0}D^{-1}(t0,t1)_{c1 s1 | c2 s2}D^{-1}(t1,t2)_{c3 s3 | c5 s5}D^{-1}(t2,t3)_{c4 s4 | c7 s7}\n",
      "-1 D^{-1}(t3,t0)_{c6 s6 | c0 s0}D^{-1}(t2,t1)_{c4 s4 | c2 s2}D^{-1}(t0,t2)_{c1 s1 | c5 s5}D^{-1}(t1,t3)_{c3 s3 | c7 s7}\n",
      "2 D^{-1}(t3,t0)_{c6 s6 | c0 s0}D^{-1}(t2,t1)_{c4 s4 | c2 s2}D^{-1}(t1,t2)_{c3 s3 | c5 s5}D^{-1}(t0,t3)_{c1 s1 | c7 s7}\n",
      "-4 D^{-1}(t3,t0)_{c6 s6 | c0 s0}D^{-1}(t1,t1)_{c3 s3 | c2 s2}D^{-1}(t2,t2)_{c4 s4 | c5 s5}D^{-1}(t0,t3)_{c1 s1 | c7 s7}\n",
      "-1 D^{-1}(t2,t0)_{c4 s4 | c0 s0}D^{-1}(t0,t1)_{c1 s1 | c2 s2}D^{-1}(t3,t2)_{c6 s6 | c5 s5}D^{-1}(t1,t3)_{c3 s3 | c7 s7}\n",
      "2 D^{-1}(t3,t0)_{c6 s6 | c0 s0}D^{-1}(t0,t1)_{c1 s1 | c2 s2}D^{-1}(t2,t2)_{c4 s4 | c5 s5}D^{-1}(t1,t3)_{c3 s3 | c7 s7}\n",
      "2 D^{-1}(t2,t0)_{c4 s4 | c0 s0}D^{-1}(t1,t1)_{c3 s3 | c2 s2}D^{-1}(t3,t2)_{c6 s6 | c5 s5}D^{-1}(t0,t3)_{c1 s1 | c7 s7}\n",
      "2 D^{-1}(t3,t0)_{c6 s6 | c0 s0}D^{-1}(t1,t1)_{c3 s3 | c2 s2}D^{-1}(t0,t2)_{c1 s1 | c5 s5}D^{-1}(t2,t3)_{c4 s4 | c7 s7}\n",
      "-1 D^{-1}(t1,t0)_{c3 s3 | c0 s0}D^{-1}(t3,t1)_{c6 s6 | c2 s2}D^{-1}(t0,t2)_{c1 s1 | c5 s5}D^{-1}(t2,t3)_{c4 s4 | c7 s7}\n",
      "2 D^{-1}(t1,t0)_{c3 s3 | c0 s0}D^{-1}(t3,t1)_{c6 s6 | c2 s2}D^{-1}(t2,t2)_{c4 s4 | c5 s5}D^{-1}(t0,t3)_{c1 s1 | c7 s7}\n"
     ]
    }
   ],
   "source": [
    "for d in t:\n",
    "    tmp=str(d.coef) + ' '\n",
    "    for p in d.props:\n",
    "        tmp+=str(p)\n",
    "    print(tmp)"
   ]
  }
 ],
 "metadata": {
  "kernelspec": {
   "display_name": "Python [conda env:LQCD] *",
   "language": "python",
   "name": "conda-env-LQCD-py"
  },
  "language_info": {
   "codemirror_mode": {
    "name": "ipython",
    "version": 3
   },
   "file_extension": ".py",
   "mimetype": "text/x-python",
   "name": "python",
   "nbconvert_exporter": "python",
   "pygments_lexer": "ipython3",
   "version": "3.8.5"
  }
 },
 "nbformat": 4,
 "nbformat_minor": 4
}
