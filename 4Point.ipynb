{
 "cells": [
  {
   "cell_type": "code",
   "execution_count": 1,
   "metadata": {},
   "outputs": [],
   "source": [
    "from WickContractions.elemental_operator import *\n",
    "from WickContractions.diagram import *\n",
    "from WickContractions.quarks import *\n",
    "from WickContractions.wick_utilities import *\n",
    "from WickContractions.wick_contract import *"
   ]
  },
  {
   "cell_type": "code",
   "execution_count": 2,
   "metadata": {},
   "outputs": [],
   "source": [
    "q0=Quark(True,'u','s_0','c_0','t_0','x_0')\n",
    "g0=Spin_Matrix('\\\\gamma_5',['s_0','s_1'])\n",
    "q1=Quark(False,'d','s_1','c_0','t_0','x_0')\n",
    "\n",
    "q2=Quark(True,'u','s_2','c_1','t_1','x_1')\n",
    "g1=Spin_Matrix('\\\\gamma_{\\mu}',['s_2','s_3'])\n",
    "q3=Quark(False,'u','s_3','c_1','t_1','x_1')\n",
    "\n",
    "q4=Quark(False,'u','s_4','c_2','t_2','x_2')\n",
    "g2=Spin_Matrix('\\\\gamma_{\\\\nu}',['s_4','s_5'])\n",
    "q5=Quark(True,'u','s_5','c_2','t_2','x_2')\n",
    "\n",
    "q6=Quark(False,'u','s_6','c_3','t_3','x_3')\n",
    "g3=Spin_Matrix('\\\\gamma_5',['s_6','s_7'])\n",
    "q7=Quark(True,'d','s_7','c_3','t_3','x_3')"
   ]
  },
  {
   "cell_type": "code",
   "execution_count": 3,
   "metadata": {},
   "outputs": [
    {
     "name": "stdout",
     "output_type": "stream",
     "text": [
      "1\n",
      "[<WickContractions.elemental_operator.Spin_Matrix object at 0x7f258520baf0>, <WickContractions.elemental_operator.Spin_Matrix object at 0x7f258520bb80>]\n",
      "[<WickContractions.quarks.Quark object at 0x7f258520bc70>, <WickContractions.quarks.Quark object at 0x7f258520bca0>, <WickContractions.quarks.Quark object at 0x7f258520bd30>, <WickContractions.quarks.Quark object at 0x7f258520bd60>]\n"
     ]
    }
   ],
   "source": [
    "o1 = ElementalOperator(1,[g0,g1],[q0,q1,q2,q3])\n",
    "o2 = ElementalOperator(1,[g2,g3],[q4,q5,q6,q7])\n",
    "\n",
    "print(o1.coef)\n",
    "print(o1.ci)\n",
    "print(o2.qj)"
   ]
  },
  {
   "cell_type": "code",
   "execution_count": 4,
   "metadata": {},
   "outputs": [
    {
     "name": "stdout",
     "output_type": "stream",
     "text": [
      "6\n"
     ]
    }
   ],
   "source": [
    "res = contract(o1,o2)\n",
    "print(len(res))"
   ]
  },
  {
   "cell_type": "code",
   "execution_count": 5,
   "metadata": {},
   "outputs": [
    {
     "name": "stdout",
     "output_type": "stream",
     "text": [
      "1 \\gamma_5_{s_0 s_1 }\\gamma_5_{s_6 s_7 }\\gamma_{\\mu}_{s_2 s_3 }\\gamma_{\\nu}_{s_4 s_5 }prop^u(t_3,t_0)_{c_3 s_6 | c_0 s_0}prop^u(t_2,t_1)_{c_2 s_4 | c_1 s_2}prop^u(t_1,t_2)_{c_1 s_3 | c_2 s_5}prop^d(t_0,t_3)_{c_0 s_1 | c_3 s_7}\n",
      "-1 \\gamma_5_{s_0 s_1 }\\gamma_5_{s_6 s_7 }\\gamma_{\\mu}_{s_2 s_3 }\\gamma_{\\nu}_{s_4 s_5 }prop^u(t_2,t_0)_{c_2 s_4 | c_0 s_0}prop^u(t_3,t_1)_{c_3 s_6 | c_1 s_2}prop^u(t_1,t_2)_{c_1 s_3 | c_2 s_5}prop^d(t_0,t_3)_{c_0 s_1 | c_3 s_7}\n",
      "1 \\gamma_5_{s_0 s_1 }\\gamma_5_{s_6 s_7 }\\gamma_{\\mu}_{s_2 s_3 }\\gamma_{\\nu}_{s_4 s_5 }prop^u(t_1,t_0)_{c_1 s_3 | c_0 s_0}prop^u(t_3,t_1)_{c_3 s_6 | c_1 s_2}prop^u(t_2,t_2)_{c_2 s_4 | c_2 s_5}prop^d(t_0,t_3)_{c_0 s_1 | c_3 s_7}\n",
      "-1 \\gamma_5_{s_0 s_1 }\\gamma_5_{s_6 s_7 }\\gamma_{\\mu}_{s_2 s_3 }\\gamma_{\\nu}_{s_4 s_5 }prop^u(t_3,t_0)_{c_3 s_6 | c_0 s_0}prop^u(t_1,t_1)_{c_1 s_3 | c_1 s_2}prop^u(t_2,t_2)_{c_2 s_4 | c_2 s_5}prop^d(t_0,t_3)_{c_0 s_1 | c_3 s_7}\n",
      "1 \\gamma_5_{s_0 s_1 }\\gamma_5_{s_6 s_7 }\\gamma_{\\mu}_{s_2 s_3 }\\gamma_{\\nu}_{s_4 s_5 }prop^u(t_2,t_0)_{c_2 s_4 | c_0 s_0}prop^u(t_1,t_1)_{c_1 s_3 | c_1 s_2}prop^u(t_3,t_2)_{c_3 s_6 | c_2 s_5}prop^d(t_0,t_3)_{c_0 s_1 | c_3 s_7}\n",
      "-1 \\gamma_5_{s_0 s_1 }\\gamma_5_{s_6 s_7 }\\gamma_{\\mu}_{s_2 s_3 }\\gamma_{\\nu}_{s_4 s_5 }prop^u(t_1,t_0)_{c_1 s_3 | c_0 s_0}prop^u(t_2,t_1)_{c_2 s_4 | c_1 s_2}prop^u(t_3,t_2)_{c_3 s_6 | c_2 s_5}prop^d(t_0,t_3)_{c_0 s_1 | c_3 s_7}\n"
     ]
    }
   ],
   "source": [
    "for d in res:\n",
    "    print(d)"
   ]
  },
  {
   "cell_type": "code",
   "execution_count": 6,
   "metadata": {},
   "outputs": [],
   "source": [
    "# d[4] = (e)\n",
    "# d[3] = (f)\n",
    "# d[0] = (d)"
   ]
  },
  {
   "cell_type": "code",
   "execution_count": null,
   "metadata": {},
   "outputs": [],
   "source": []
  },
  {
   "cell_type": "code",
   "execution_count": 7,
   "metadata": {},
   "outputs": [
    {
     "name": "stdout",
     "output_type": "stream",
     "text": [
      "6\n",
      "1 \\gamma_5_{s_0 s_1 }\\gamma_5_{s_6 s_7 }\\gamma_{\\mu}_{s_2 s_3 }\\gamma_{\\nu}_{s_4 s_5 }prop^u(t_3,t_0)_{c_3 s_6 | c_0 s_0}prop^d(t_1,t_1)_{c_1 s_3 | c_1 s_2}prop^d(t_0,t_2)_{c_0 s_1 | c_2 s_5}prop^d(t_2,t_3)_{c_2 s_4 | c_3 s_7}\n",
      "-1 \\gamma_5_{s_0 s_1 }\\gamma_5_{s_6 s_7 }\\gamma_{\\mu}_{s_2 s_3 }\\gamma_{\\nu}_{s_4 s_5 }prop^u(t_3,t_0)_{c_3 s_6 | c_0 s_0}prop^d(t_0,t_1)_{c_0 s_1 | c_1 s_2}prop^d(t_1,t_2)_{c_1 s_3 | c_2 s_5}prop^d(t_2,t_3)_{c_2 s_4 | c_3 s_7}\n",
      "1 \\gamma_5_{s_0 s_1 }\\gamma_5_{s_6 s_7 }\\gamma_{\\mu}_{s_2 s_3 }\\gamma_{\\nu}_{s_4 s_5 }prop^u(t_3,t_0)_{c_3 s_6 | c_0 s_0}prop^d(t_0,t_1)_{c_0 s_1 | c_1 s_2}prop^d(t_2,t_2)_{c_2 s_4 | c_2 s_5}prop^d(t_1,t_3)_{c_1 s_3 | c_3 s_7}\n",
      "-1 \\gamma_5_{s_0 s_1 }\\gamma_5_{s_6 s_7 }\\gamma_{\\mu}_{s_2 s_3 }\\gamma_{\\nu}_{s_4 s_5 }prop^u(t_3,t_0)_{c_3 s_6 | c_0 s_0}prop^d(t_2,t_1)_{c_2 s_4 | c_1 s_2}prop^d(t_0,t_2)_{c_0 s_1 | c_2 s_5}prop^d(t_1,t_3)_{c_1 s_3 | c_3 s_7}\n",
      "1 \\gamma_5_{s_0 s_1 }\\gamma_5_{s_6 s_7 }\\gamma_{\\mu}_{s_2 s_3 }\\gamma_{\\nu}_{s_4 s_5 }prop^u(t_3,t_0)_{c_3 s_6 | c_0 s_0}prop^d(t_2,t_1)_{c_2 s_4 | c_1 s_2}prop^d(t_1,t_2)_{c_1 s_3 | c_2 s_5}prop^d(t_0,t_3)_{c_0 s_1 | c_3 s_7}\n",
      "-1 \\gamma_5_{s_0 s_1 }\\gamma_5_{s_6 s_7 }\\gamma_{\\mu}_{s_2 s_3 }\\gamma_{\\nu}_{s_4 s_5 }prop^u(t_3,t_0)_{c_3 s_6 | c_0 s_0}prop^d(t_1,t_1)_{c_1 s_3 | c_1 s_2}prop^d(t_2,t_2)_{c_2 s_4 | c_2 s_5}prop^d(t_0,t_3)_{c_0 s_1 | c_3 s_7}\n"
     ]
    }
   ],
   "source": [
    "q0=Quark(True,'u','s_0','c_0','t_0','x_0')\n",
    "g0=Spin_Matrix('\\\\gamma_5',['s_0','s_1'])\n",
    "q1=Quark(False,'d','s_1','c_0','t_0','x_0')\n",
    "\n",
    "q2=Quark(True,'d','s_2','c_1','t_1','x_1')\n",
    "g1=Spin_Matrix('\\\\gamma_{\\mu}',['s_2','s_3'])\n",
    "q3=Quark(False,'d','s_3','c_1','t_1','x_1')\n",
    "\n",
    "q4=Quark(False,'d','s_4','c_2','t_2','x_2')\n",
    "g2=Spin_Matrix('\\\\gamma_{\\\\nu}',['s_4','s_5'])\n",
    "q5=Quark(True,'d','s_5','c_2','t_2','x_2')\n",
    "\n",
    "q6=Quark(False,'u','s_6','c_3','t_3','x_3')\n",
    "g3=Spin_Matrix('\\\\gamma_5',['s_6','s_7'])\n",
    "q7=Quark(True,'d','s_7','c_3','t_3','x_3')\n",
    "\n",
    "o1 = ElementalOperator(1,[g0,g1],[q0,q1,q2,q3])\n",
    "o2 = ElementalOperator(1,[g2,g3],[q4,q5,q6,q7])\n",
    "\n",
    "res_2 = contract(o1,o2)\n",
    "print(len(res))\n",
    "\n",
    "for d in res_2:\n",
    "    print(d)"
   ]
  },
  {
   "cell_type": "code",
   "execution_count": 8,
   "metadata": {},
   "outputs": [
    {
     "name": "stdout",
     "output_type": "stream",
     "text": [
      "6\n",
      "-1 \\gamma_5_{s_0 s_1 }\\gamma_5_{s_6 s_7 }\\gamma_{\\mu}_{s_2 s_3 }\\gamma_{\\nu}_{s_4 s_5 }prop^u(t_2,t_0)_{c_2 s_4 | c_0 s_0}prop^d(t_0,t_1)_{c_0 s_1 | c_1 s_2}prop^u(t_3,t_2)_{c_3 s_6 | c_2 s_5}prop^d(t_1,t_3)_{c_1 s_3 | c_3 s_7}\n",
      "1 \\gamma_5_{s_0 s_1 }\\gamma_5_{s_6 s_7 }\\gamma_{\\mu}_{s_2 s_3 }\\gamma_{\\nu}_{s_4 s_5 }prop^u(t_3,t_0)_{c_3 s_6 | c_0 s_0}prop^d(t_0,t_1)_{c_0 s_1 | c_1 s_2}prop^u(t_2,t_2)_{c_2 s_4 | c_2 s_5}prop^d(t_1,t_3)_{c_1 s_3 | c_3 s_7}\n",
      "-1 \\gamma_5_{s_0 s_1 }\\gamma_5_{s_6 s_7 }\\gamma_{\\mu}_{s_2 s_3 }\\gamma_{\\nu}_{s_4 s_5 }prop^u(t_3,t_0)_{c_3 s_6 | c_0 s_0}prop^d(t_1,t_1)_{c_1 s_3 | c_1 s_2}prop^u(t_2,t_2)_{c_2 s_4 | c_2 s_5}prop^d(t_0,t_3)_{c_0 s_1 | c_3 s_7}\n",
      "1 \\gamma_5_{s_0 s_1 }\\gamma_5_{s_6 s_7 }\\gamma_{\\mu}_{s_2 s_3 }\\gamma_{\\nu}_{s_4 s_5 }prop^u(t_2,t_0)_{c_2 s_4 | c_0 s_0}prop^d(t_1,t_1)_{c_1 s_3 | c_1 s_2}prop^u(t_3,t_2)_{c_3 s_6 | c_2 s_5}prop^d(t_0,t_3)_{c_0 s_1 | c_3 s_7}\n"
     ]
    }
   ],
   "source": [
    "q0=Quark(True,'u','s_0','c_0','t_0','x_0')\n",
    "g0=Spin_Matrix('\\\\gamma_5',['s_0','s_1'])\n",
    "q1=Quark(False,'d','s_1','c_0','t_0','x_0')\n",
    "\n",
    "q2=Quark(True,'d','s_2','c_1','t_1','x_1')\n",
    "g1=Spin_Matrix('\\\\gamma_{\\mu}',['s_2','s_3'])\n",
    "q3=Quark(False,'d','s_3','c_1','t_1','x_1')\n",
    "\n",
    "q4=Quark(False,'u','s_4','c_2','t_2','x_2')\n",
    "g2=Spin_Matrix('\\\\gamma_{\\\\nu}',['s_4','s_5'])\n",
    "q5=Quark(True,'u','s_5','c_2','t_2','x_2')\n",
    "\n",
    "q6=Quark(False,'u','s_6','c_3','t_3','x_3')\n",
    "g3=Spin_Matrix('\\\\gamma_5',['s_6','s_7'])\n",
    "q7=Quark(True,'d','s_7','c_3','t_3','x_3')\n",
    "\n",
    "o1 = ElementalOperator(1,[g0,g1],[q0,q1,q2,q3])\n",
    "o2 = ElementalOperator(1,[g2,g3],[q4,q5,q6,q7])\n",
    "\n",
    "res_3 = contract(o1,o2)\n",
    "print(len(res))\n",
    "\n",
    "for d in res_3:\n",
    "    print(d)"
   ]
  },
  {
   "cell_type": "code",
   "execution_count": 9,
   "metadata": {},
   "outputs": [
    {
     "name": "stdout",
     "output_type": "stream",
     "text": [
      "6\n",
      "1 \\gamma_5_{s_0 s_1 }\\gamma_5_{s_6 s_7 }\\gamma_{\\mu}_{s_2 s_3 }\\gamma_{\\nu}_{s_4 s_5 }prop^u(t_3,t_0)_{c_3 s_6 | c_0 s_0}prop^u(t_1,t_1)_{c_1 s_3 | c_1 s_2}prop^d(t_0,t_2)_{c_0 s_1 | c_2 s_5}prop^d(t_2,t_3)_{c_2 s_4 | c_3 s_7}\n",
      "-1 \\gamma_5_{s_0 s_1 }\\gamma_5_{s_6 s_7 }\\gamma_{\\mu}_{s_2 s_3 }\\gamma_{\\nu}_{s_4 s_5 }prop^u(t_1,t_0)_{c_1 s_3 | c_0 s_0}prop^u(t_3,t_1)_{c_3 s_6 | c_1 s_2}prop^d(t_0,t_2)_{c_0 s_1 | c_2 s_5}prop^d(t_2,t_3)_{c_2 s_4 | c_3 s_7}\n",
      "1 \\gamma_5_{s_0 s_1 }\\gamma_5_{s_6 s_7 }\\gamma_{\\mu}_{s_2 s_3 }\\gamma_{\\nu}_{s_4 s_5 }prop^u(t_1,t_0)_{c_1 s_3 | c_0 s_0}prop^u(t_3,t_1)_{c_3 s_6 | c_1 s_2}prop^d(t_2,t_2)_{c_2 s_4 | c_2 s_5}prop^d(t_0,t_3)_{c_0 s_1 | c_3 s_7}\n",
      "-1 \\gamma_5_{s_0 s_1 }\\gamma_5_{s_6 s_7 }\\gamma_{\\mu}_{s_2 s_3 }\\gamma_{\\nu}_{s_4 s_5 }prop^u(t_3,t_0)_{c_3 s_6 | c_0 s_0}prop^u(t_1,t_1)_{c_1 s_3 | c_1 s_2}prop^d(t_2,t_2)_{c_2 s_4 | c_2 s_5}prop^d(t_0,t_3)_{c_0 s_1 | c_3 s_7}\n"
     ]
    }
   ],
   "source": [
    "q0=Quark(True,'u','s_0','c_0','t_0','x_0')\n",
    "g0=Spin_Matrix('\\\\gamma_5',['s_0','s_1'])\n",
    "q1=Quark(False,'d','s_1','c_0','t_0','x_0')\n",
    "\n",
    "q2=Quark(True,'u','s_2','c_1','t_1','x_1')\n",
    "g1=Spin_Matrix('\\\\gamma_{\\mu}',['s_2','s_3'])\n",
    "q3=Quark(False,'u','s_3','c_1','t_1','x_1')\n",
    "\n",
    "q4=Quark(False,'d','s_4','c_2','t_2','x_2')\n",
    "g2=Spin_Matrix('\\\\gamma_{\\\\nu}',['s_4','s_5'])\n",
    "q5=Quark(True,'d','s_5','c_2','t_2','x_2')\n",
    "\n",
    "q6=Quark(False,'u','s_6','c_3','t_3','x_3')\n",
    "g3=Spin_Matrix('\\\\gamma_5',['s_6','s_7'])\n",
    "q7=Quark(True,'d','s_7','c_3','t_3','x_3')\n",
    "\n",
    "o1 = ElementalOperator(1,[g0,g1],[q0,q1,q2,q3])\n",
    "o2 = ElementalOperator(1,[g2,g3],[q4,q5,q6,q7])\n",
    "\n",
    "res_4 = contract(o1,o2)\n",
    "print(len(res))\n",
    "\n",
    "for d in res_4:\n",
    "    print(d)"
   ]
  },
  {
   "cell_type": "code",
   "execution_count": 14,
   "metadata": {},
   "outputs": [
    {
     "name": "stdout",
     "output_type": "stream",
     "text": [
      "d_0=1 D^{-1}(x_3t_3\\mid x_0t_0)_{\\substack{s_6\\\\c_3}\\substack{s_0\\\\c_0}}D^{-1}(x_2t_2\\mid x_1t_1)_{\\substack{s_4\\\\c_2}\\substack{s_2\\\\c_1}}D^{-1}(x_1t_1\\mid x_2t_2)_{\\substack{s_3\\\\c_1}\\substack{s_5\\\\c_2}}D^{-1}(x_0t_0\\mid x_3t_3)_{\\substack{s_1\\\\c_0}\\substack{s_7\\\\c_3}}\\gamma_{5_{s_0s_1}}\\gamma_{5_{s_6s_7}}\\gamma_{{\\mu}_{s_2s_3}}\\gamma_{{\\nu}_{s_4s_5}}\\\\\n",
      "d_1=-1 D^{-1}(x_2t_2\\mid x_0t_0)_{\\substack{s_4\\\\c_2}\\substack{s_0\\\\c_0}}D^{-1}(x_3t_3\\mid x_1t_1)_{\\substack{s_6\\\\c_3}\\substack{s_2\\\\c_1}}D^{-1}(x_1t_1\\mid x_2t_2)_{\\substack{s_3\\\\c_1}\\substack{s_5\\\\c_2}}D^{-1}(x_0t_0\\mid x_3t_3)_{\\substack{s_1\\\\c_0}\\substack{s_7\\\\c_3}}\\gamma_{5_{s_0s_1}}\\gamma_{5_{s_6s_7}}\\gamma_{{\\mu}_{s_2s_3}}\\gamma_{{\\nu}_{s_4s_5}}\\\\\n",
      "d_2=1 D^{-1}(x_1t_1\\mid x_0t_0)_{\\substack{s_3\\\\c_1}\\substack{s_0\\\\c_0}}D^{-1}(x_3t_3\\mid x_1t_1)_{\\substack{s_6\\\\c_3}\\substack{s_2\\\\c_1}}D^{-1}(x_2t_2\\mid x_2t_2)_{\\substack{s_4\\\\c_2}\\substack{s_5\\\\c_2}}D^{-1}(x_0t_0\\mid x_3t_3)_{\\substack{s_1\\\\c_0}\\substack{s_7\\\\c_3}}\\gamma_{5_{s_0s_1}}\\gamma_{5_{s_6s_7}}\\gamma_{{\\mu}_{s_2s_3}}\\gamma_{{\\nu}_{s_4s_5}}\\\\\n",
      "d_3=-1 D^{-1}(x_3t_3\\mid x_0t_0)_{\\substack{s_6\\\\c_3}\\substack{s_0\\\\c_0}}D^{-1}(x_1t_1\\mid x_1t_1)_{\\substack{s_3\\\\c_1}\\substack{s_2\\\\c_1}}D^{-1}(x_2t_2\\mid x_2t_2)_{\\substack{s_4\\\\c_2}\\substack{s_5\\\\c_2}}D^{-1}(x_0t_0\\mid x_3t_3)_{\\substack{s_1\\\\c_0}\\substack{s_7\\\\c_3}}\\gamma_{5_{s_0s_1}}\\gamma_{5_{s_6s_7}}\\gamma_{{\\mu}_{s_2s_3}}\\gamma_{{\\nu}_{s_4s_5}}\\\\\n",
      "d_4=1 D^{-1}(x_2t_2\\mid x_0t_0)_{\\substack{s_4\\\\c_2}\\substack{s_0\\\\c_0}}D^{-1}(x_1t_1\\mid x_1t_1)_{\\substack{s_3\\\\c_1}\\substack{s_2\\\\c_1}}D^{-1}(x_3t_3\\mid x_2t_2)_{\\substack{s_6\\\\c_3}\\substack{s_5\\\\c_2}}D^{-1}(x_0t_0\\mid x_3t_3)_{\\substack{s_1\\\\c_0}\\substack{s_7\\\\c_3}}\\gamma_{5_{s_0s_1}}\\gamma_{5_{s_6s_7}}\\gamma_{{\\mu}_{s_2s_3}}\\gamma_{{\\nu}_{s_4s_5}}\\\\\n",
      "d_5=-1 D^{-1}(x_1t_1\\mid x_0t_0)_{\\substack{s_3\\\\c_1}\\substack{s_0\\\\c_0}}D^{-1}(x_2t_2\\mid x_1t_1)_{\\substack{s_4\\\\c_2}\\substack{s_2\\\\c_1}}D^{-1}(x_3t_3\\mid x_2t_2)_{\\substack{s_6\\\\c_3}\\substack{s_5\\\\c_2}}D^{-1}(x_0t_0\\mid x_3t_3)_{\\substack{s_1\\\\c_0}\\substack{s_7\\\\c_3}}\\gamma_{5_{s_0s_1}}\\gamma_{5_{s_6s_7}}\\gamma_{{\\mu}_{s_2s_3}}\\gamma_{{\\nu}_{s_4s_5}}\\\\\n",
      "d_6=1 D^{-1}(x_3t_3\\mid x_0t_0)_{\\substack{s_6\\\\c_3}\\substack{s_0\\\\c_0}}D^{-1}(x_1t_1\\mid x_1t_1)_{\\substack{s_3\\\\c_1}\\substack{s_2\\\\c_1}}D^{-1}(x_0t_0\\mid x_2t_2)_{\\substack{s_1\\\\c_0}\\substack{s_5\\\\c_2}}D^{-1}(x_2t_2\\mid x_3t_3)_{\\substack{s_4\\\\c_2}\\substack{s_7\\\\c_3}}\\gamma_{5_{s_0s_1}}\\gamma_{5_{s_6s_7}}\\gamma_{{\\mu}_{s_2s_3}}\\gamma_{{\\nu}_{s_4s_5}}\\\\\n",
      "d_7=-1 D^{-1}(x_3t_3\\mid x_0t_0)_{\\substack{s_6\\\\c_3}\\substack{s_0\\\\c_0}}D^{-1}(x_0t_0\\mid x_1t_1)_{\\substack{s_1\\\\c_0}\\substack{s_2\\\\c_1}}D^{-1}(x_1t_1\\mid x_2t_2)_{\\substack{s_3\\\\c_1}\\substack{s_5\\\\c_2}}D^{-1}(x_2t_2\\mid x_3t_3)_{\\substack{s_4\\\\c_2}\\substack{s_7\\\\c_3}}\\gamma_{5_{s_0s_1}}\\gamma_{5_{s_6s_7}}\\gamma_{{\\mu}_{s_2s_3}}\\gamma_{{\\nu}_{s_4s_5}}\\\\\n",
      "d_8=1 D^{-1}(x_3t_3\\mid x_0t_0)_{\\substack{s_6\\\\c_3}\\substack{s_0\\\\c_0}}D^{-1}(x_0t_0\\mid x_1t_1)_{\\substack{s_1\\\\c_0}\\substack{s_2\\\\c_1}}D^{-1}(x_2t_2\\mid x_2t_2)_{\\substack{s_4\\\\c_2}\\substack{s_5\\\\c_2}}D^{-1}(x_1t_1\\mid x_3t_3)_{\\substack{s_3\\\\c_1}\\substack{s_7\\\\c_3}}\\gamma_{5_{s_0s_1}}\\gamma_{5_{s_6s_7}}\\gamma_{{\\mu}_{s_2s_3}}\\gamma_{{\\nu}_{s_4s_5}}\\\\\n",
      "d_9=-1 D^{-1}(x_3t_3\\mid x_0t_0)_{\\substack{s_6\\\\c_3}\\substack{s_0\\\\c_0}}D^{-1}(x_2t_2\\mid x_1t_1)_{\\substack{s_4\\\\c_2}\\substack{s_2\\\\c_1}}D^{-1}(x_0t_0\\mid x_2t_2)_{\\substack{s_1\\\\c_0}\\substack{s_5\\\\c_2}}D^{-1}(x_1t_1\\mid x_3t_3)_{\\substack{s_3\\\\c_1}\\substack{s_7\\\\c_3}}\\gamma_{5_{s_0s_1}}\\gamma_{5_{s_6s_7}}\\gamma_{{\\mu}_{s_2s_3}}\\gamma_{{\\nu}_{s_4s_5}}\\\\\n",
      "d_10=1 D^{-1}(x_3t_3\\mid x_0t_0)_{\\substack{s_6\\\\c_3}\\substack{s_0\\\\c_0}}D^{-1}(x_2t_2\\mid x_1t_1)_{\\substack{s_4\\\\c_2}\\substack{s_2\\\\c_1}}D^{-1}(x_1t_1\\mid x_2t_2)_{\\substack{s_3\\\\c_1}\\substack{s_5\\\\c_2}}D^{-1}(x_0t_0\\mid x_3t_3)_{\\substack{s_1\\\\c_0}\\substack{s_7\\\\c_3}}\\gamma_{5_{s_0s_1}}\\gamma_{5_{s_6s_7}}\\gamma_{{\\mu}_{s_2s_3}}\\gamma_{{\\nu}_{s_4s_5}}\\\\\n",
      "d_11=-1 D^{-1}(x_3t_3\\mid x_0t_0)_{\\substack{s_6\\\\c_3}\\substack{s_0\\\\c_0}}D^{-1}(x_1t_1\\mid x_1t_1)_{\\substack{s_3\\\\c_1}\\substack{s_2\\\\c_1}}D^{-1}(x_2t_2\\mid x_2t_2)_{\\substack{s_4\\\\c_2}\\substack{s_5\\\\c_2}}D^{-1}(x_0t_0\\mid x_3t_3)_{\\substack{s_1\\\\c_0}\\substack{s_7\\\\c_3}}\\gamma_{5_{s_0s_1}}\\gamma_{5_{s_6s_7}}\\gamma_{{\\mu}_{s_2s_3}}\\gamma_{{\\nu}_{s_4s_5}}\\\\\n",
      "d_12=-1 D^{-1}(x_2t_2\\mid x_0t_0)_{\\substack{s_4\\\\c_2}\\substack{s_0\\\\c_0}}D^{-1}(x_0t_0\\mid x_1t_1)_{\\substack{s_1\\\\c_0}\\substack{s_2\\\\c_1}}D^{-1}(x_3t_3\\mid x_2t_2)_{\\substack{s_6\\\\c_3}\\substack{s_5\\\\c_2}}D^{-1}(x_1t_1\\mid x_3t_3)_{\\substack{s_3\\\\c_1}\\substack{s_7\\\\c_3}}\\gamma_{5_{s_0s_1}}\\gamma_{5_{s_6s_7}}\\gamma_{{\\mu}_{s_2s_3}}\\gamma_{{\\nu}_{s_4s_5}}\\\\\n",
      "d_13=1 D^{-1}(x_3t_3\\mid x_0t_0)_{\\substack{s_6\\\\c_3}\\substack{s_0\\\\c_0}}D^{-1}(x_0t_0\\mid x_1t_1)_{\\substack{s_1\\\\c_0}\\substack{s_2\\\\c_1}}D^{-1}(x_2t_2\\mid x_2t_2)_{\\substack{s_4\\\\c_2}\\substack{s_5\\\\c_2}}D^{-1}(x_1t_1\\mid x_3t_3)_{\\substack{s_3\\\\c_1}\\substack{s_7\\\\c_3}}\\gamma_{5_{s_0s_1}}\\gamma_{5_{s_6s_7}}\\gamma_{{\\mu}_{s_2s_3}}\\gamma_{{\\nu}_{s_4s_5}}\\\\\n",
      "d_14=-1 D^{-1}(x_3t_3\\mid x_0t_0)_{\\substack{s_6\\\\c_3}\\substack{s_0\\\\c_0}}D^{-1}(x_1t_1\\mid x_1t_1)_{\\substack{s_3\\\\c_1}\\substack{s_2\\\\c_1}}D^{-1}(x_2t_2\\mid x_2t_2)_{\\substack{s_4\\\\c_2}\\substack{s_5\\\\c_2}}D^{-1}(x_0t_0\\mid x_3t_3)_{\\substack{s_1\\\\c_0}\\substack{s_7\\\\c_3}}\\gamma_{5_{s_0s_1}}\\gamma_{5_{s_6s_7}}\\gamma_{{\\mu}_{s_2s_3}}\\gamma_{{\\nu}_{s_4s_5}}\\\\\n",
      "d_15=1 D^{-1}(x_2t_2\\mid x_0t_0)_{\\substack{s_4\\\\c_2}\\substack{s_0\\\\c_0}}D^{-1}(x_1t_1\\mid x_1t_1)_{\\substack{s_3\\\\c_1}\\substack{s_2\\\\c_1}}D^{-1}(x_3t_3\\mid x_2t_2)_{\\substack{s_6\\\\c_3}\\substack{s_5\\\\c_2}}D^{-1}(x_0t_0\\mid x_3t_3)_{\\substack{s_1\\\\c_0}\\substack{s_7\\\\c_3}}\\gamma_{5_{s_0s_1}}\\gamma_{5_{s_6s_7}}\\gamma_{{\\mu}_{s_2s_3}}\\gamma_{{\\nu}_{s_4s_5}}\\\\\n",
      "d_16=1 D^{-1}(x_3t_3\\mid x_0t_0)_{\\substack{s_6\\\\c_3}\\substack{s_0\\\\c_0}}D^{-1}(x_1t_1\\mid x_1t_1)_{\\substack{s_3\\\\c_1}\\substack{s_2\\\\c_1}}D^{-1}(x_0t_0\\mid x_2t_2)_{\\substack{s_1\\\\c_0}\\substack{s_5\\\\c_2}}D^{-1}(x_2t_2\\mid x_3t_3)_{\\substack{s_4\\\\c_2}\\substack{s_7\\\\c_3}}\\gamma_{5_{s_0s_1}}\\gamma_{5_{s_6s_7}}\\gamma_{{\\mu}_{s_2s_3}}\\gamma_{{\\nu}_{s_4s_5}}\\\\\n",
      "d_17=-1 D^{-1}(x_1t_1\\mid x_0t_0)_{\\substack{s_3\\\\c_1}\\substack{s_0\\\\c_0}}D^{-1}(x_3t_3\\mid x_1t_1)_{\\substack{s_6\\\\c_3}\\substack{s_2\\\\c_1}}D^{-1}(x_0t_0\\mid x_2t_2)_{\\substack{s_1\\\\c_0}\\substack{s_5\\\\c_2}}D^{-1}(x_2t_2\\mid x_3t_3)_{\\substack{s_4\\\\c_2}\\substack{s_7\\\\c_3}}\\gamma_{5_{s_0s_1}}\\gamma_{5_{s_6s_7}}\\gamma_{{\\mu}_{s_2s_3}}\\gamma_{{\\nu}_{s_4s_5}}\\\\\n",
      "d_18=1 D^{-1}(x_1t_1\\mid x_0t_0)_{\\substack{s_3\\\\c_1}\\substack{s_0\\\\c_0}}D^{-1}(x_3t_3\\mid x_1t_1)_{\\substack{s_6\\\\c_3}\\substack{s_2\\\\c_1}}D^{-1}(x_2t_2\\mid x_2t_2)_{\\substack{s_4\\\\c_2}\\substack{s_5\\\\c_2}}D^{-1}(x_0t_0\\mid x_3t_3)_{\\substack{s_1\\\\c_0}\\substack{s_7\\\\c_3}}\\gamma_{5_{s_0s_1}}\\gamma_{5_{s_6s_7}}\\gamma_{{\\mu}_{s_2s_3}}\\gamma_{{\\nu}_{s_4s_5}}\\\\\n",
      "d_19=-1 D^{-1}(x_3t_3\\mid x_0t_0)_{\\substack{s_6\\\\c_3}\\substack{s_0\\\\c_0}}D^{-1}(x_1t_1\\mid x_1t_1)_{\\substack{s_3\\\\c_1}\\substack{s_2\\\\c_1}}D^{-1}(x_2t_2\\mid x_2t_2)_{\\substack{s_4\\\\c_2}\\substack{s_5\\\\c_2}}D^{-1}(x_0t_0\\mid x_3t_3)_{\\substack{s_1\\\\c_0}\\substack{s_7\\\\c_3}}\\gamma_{5_{s_0s_1}}\\gamma_{5_{s_6s_7}}\\gamma_{{\\mu}_{s_2s_3}}\\gamma_{{\\nu}_{s_4s_5}}\\\\\n"
     ]
    }
   ],
   "source": [
    "import copy\n",
    "\n",
    "def latexStr(gamma):\n",
    "    tmp=gamma.name.split('_')\n",
    "    return tmp[0] + '_{' + tmp[1] + '_{' + gamma.indices[0] + gamma.indices[1] + '}}'\n",
    "\n",
    "t_1 = copy.deepcopy(res)\n",
    "t_2 = copy.deepcopy(res_2)\n",
    "t_3 = copy.deepcopy(res_3)\n",
    "t4 = copy.deepcopy(res_4)\n",
    "\n",
    "t = t_1+t_2+t_3+t4\n",
    "for d in t:\n",
    "    for p in d.props:\n",
    "        p.name = 'D^{-1}'\n",
    "\n",
    "        \n",
    "\n",
    "for i,d in enumerate(t):\n",
    "    tmp='d_'+str(i)+'='+str(d.coef) + ' '\n",
    "    for p in d.props:\n",
    "        tmp+=p.latexStr()\n",
    "    for c in d.ci:\n",
    "        tmp+=latexStr(c)\n",
    "    print(tmp+'\\\\\\\\')\n",
    "        \n",
    "        \n",
    "        \n",
    "for i in range(len(t)-1,-1,-1):\n",
    "    for j in range(len(t)-1,-1,-1):\n",
    "        if(i!=j):\n",
    "            if(t[i]==t[j]):\n",
    "                t[i].coef+=t[j].coef\n",
    "                t.pop(j)\n",
    "                break"
   ]
  },
  {
   "cell_type": "code",
   "execution_count": 13,
   "metadata": {},
   "outputs": [
    {
     "name": "stdout",
     "output_type": "stream",
     "text": [
      "d_0=-1 D^{-1}(x_2t_2\\mid x_0t_0)_{\\substack{s_4\\\\c_2}\\substack{s_0\\\\c_0}}D^{-1}(x_3t_3\\mid x_1t_1)_{\\substack{s_6\\\\c_3}\\substack{s_2\\\\c_1}}D^{-1}(x_1t_1\\mid x_2t_2)_{\\substack{s_3\\\\c_1}\\substack{s_5\\\\c_2}}D^{-1}(x_0t_0\\mid x_3t_3)_{\\substack{s_1\\\\c_0}\\substack{s_7\\\\c_3}}\\gamma_{5_{s_0s_1}}\\gamma_{5_{s_6s_7}}\\gamma_{{\\mu}_{s_2s_3}}\\gamma_{{\\nu}_{s_4s_5}}\\\\\n",
      "d_1=-1 D^{-1}(x_1t_1\\mid x_0t_0)_{\\substack{s_3\\\\c_1}\\substack{s_0\\\\c_0}}D^{-1}(x_2t_2\\mid x_1t_1)_{\\substack{s_4\\\\c_2}\\substack{s_2\\\\c_1}}D^{-1}(x_3t_3\\mid x_2t_2)_{\\substack{s_6\\\\c_3}\\substack{s_5\\\\c_2}}D^{-1}(x_0t_0\\mid x_3t_3)_{\\substack{s_1\\\\c_0}\\substack{s_7\\\\c_3}}\\gamma_{5_{s_0s_1}}\\gamma_{5_{s_6s_7}}\\gamma_{{\\mu}_{s_2s_3}}\\gamma_{{\\nu}_{s_4s_5}}\\\\\n",
      "d_2=-1 D^{-1}(x_3t_3\\mid x_0t_0)_{\\substack{s_6\\\\c_3}\\substack{s_0\\\\c_0}}D^{-1}(x_0t_0\\mid x_1t_1)_{\\substack{s_1\\\\c_0}\\substack{s_2\\\\c_1}}D^{-1}(x_1t_1\\mid x_2t_2)_{\\substack{s_3\\\\c_1}\\substack{s_5\\\\c_2}}D^{-1}(x_2t_2\\mid x_3t_3)_{\\substack{s_4\\\\c_2}\\substack{s_7\\\\c_3}}\\gamma_{5_{s_0s_1}}\\gamma_{5_{s_6s_7}}\\gamma_{{\\mu}_{s_2s_3}}\\gamma_{{\\nu}_{s_4s_5}}\\\\\n",
      "d_3=-1 D^{-1}(x_3t_3\\mid x_0t_0)_{\\substack{s_6\\\\c_3}\\substack{s_0\\\\c_0}}D^{-1}(x_2t_2\\mid x_1t_1)_{\\substack{s_4\\\\c_2}\\substack{s_2\\\\c_1}}D^{-1}(x_0t_0\\mid x_2t_2)_{\\substack{s_1\\\\c_0}\\substack{s_5\\\\c_2}}D^{-1}(x_1t_1\\mid x_3t_3)_{\\substack{s_3\\\\c_1}\\substack{s_7\\\\c_3}}\\gamma_{5_{s_0s_1}}\\gamma_{5_{s_6s_7}}\\gamma_{{\\mu}_{s_2s_3}}\\gamma_{{\\nu}_{s_4s_5}}\\\\\n",
      "d_4=2 D^{-1}(x_3t_3\\mid x_0t_0)_{\\substack{s_6\\\\c_3}\\substack{s_0\\\\c_0}}D^{-1}(x_2t_2\\mid x_1t_1)_{\\substack{s_4\\\\c_2}\\substack{s_2\\\\c_1}}D^{-1}(x_1t_1\\mid x_2t_2)_{\\substack{s_3\\\\c_1}\\substack{s_5\\\\c_2}}D^{-1}(x_0t_0\\mid x_3t_3)_{\\substack{s_1\\\\c_0}\\substack{s_7\\\\c_3}}\\gamma_{5_{s_0s_1}}\\gamma_{5_{s_6s_7}}\\gamma_{{\\mu}_{s_2s_3}}\\gamma_{{\\nu}_{s_4s_5}}\\\\\n",
      "d_5=-4 D^{-1}(x_3t_3\\mid x_0t_0)_{\\substack{s_6\\\\c_3}\\substack{s_0\\\\c_0}}D^{-1}(x_1t_1\\mid x_1t_1)_{\\substack{s_3\\\\c_1}\\substack{s_2\\\\c_1}}D^{-1}(x_2t_2\\mid x_2t_2)_{\\substack{s_4\\\\c_2}\\substack{s_5\\\\c_2}}D^{-1}(x_0t_0\\mid x_3t_3)_{\\substack{s_1\\\\c_0}\\substack{s_7\\\\c_3}}\\gamma_{5_{s_0s_1}}\\gamma_{5_{s_6s_7}}\\gamma_{{\\mu}_{s_2s_3}}\\gamma_{{\\nu}_{s_4s_5}}\\\\\n",
      "d_6=-1 D^{-1}(x_2t_2\\mid x_0t_0)_{\\substack{s_4\\\\c_2}\\substack{s_0\\\\c_0}}D^{-1}(x_0t_0\\mid x_1t_1)_{\\substack{s_1\\\\c_0}\\substack{s_2\\\\c_1}}D^{-1}(x_3t_3\\mid x_2t_2)_{\\substack{s_6\\\\c_3}\\substack{s_5\\\\c_2}}D^{-1}(x_1t_1\\mid x_3t_3)_{\\substack{s_3\\\\c_1}\\substack{s_7\\\\c_3}}\\gamma_{5_{s_0s_1}}\\gamma_{5_{s_6s_7}}\\gamma_{{\\mu}_{s_2s_3}}\\gamma_{{\\nu}_{s_4s_5}}\\\\\n",
      "d_7=2 D^{-1}(x_3t_3\\mid x_0t_0)_{\\substack{s_6\\\\c_3}\\substack{s_0\\\\c_0}}D^{-1}(x_0t_0\\mid x_1t_1)_{\\substack{s_1\\\\c_0}\\substack{s_2\\\\c_1}}D^{-1}(x_2t_2\\mid x_2t_2)_{\\substack{s_4\\\\c_2}\\substack{s_5\\\\c_2}}D^{-1}(x_1t_1\\mid x_3t_3)_{\\substack{s_3\\\\c_1}\\substack{s_7\\\\c_3}}\\gamma_{5_{s_0s_1}}\\gamma_{5_{s_6s_7}}\\gamma_{{\\mu}_{s_2s_3}}\\gamma_{{\\nu}_{s_4s_5}}\\\\\n",
      "d_8=2 D^{-1}(x_2t_2\\mid x_0t_0)_{\\substack{s_4\\\\c_2}\\substack{s_0\\\\c_0}}D^{-1}(x_1t_1\\mid x_1t_1)_{\\substack{s_3\\\\c_1}\\substack{s_2\\\\c_1}}D^{-1}(x_3t_3\\mid x_2t_2)_{\\substack{s_6\\\\c_3}\\substack{s_5\\\\c_2}}D^{-1}(x_0t_0\\mid x_3t_3)_{\\substack{s_1\\\\c_0}\\substack{s_7\\\\c_3}}\\gamma_{5_{s_0s_1}}\\gamma_{5_{s_6s_7}}\\gamma_{{\\mu}_{s_2s_3}}\\gamma_{{\\nu}_{s_4s_5}}\\\\\n",
      "d_9=2 D^{-1}(x_3t_3\\mid x_0t_0)_{\\substack{s_6\\\\c_3}\\substack{s_0\\\\c_0}}D^{-1}(x_1t_1\\mid x_1t_1)_{\\substack{s_3\\\\c_1}\\substack{s_2\\\\c_1}}D^{-1}(x_0t_0\\mid x_2t_2)_{\\substack{s_1\\\\c_0}\\substack{s_5\\\\c_2}}D^{-1}(x_2t_2\\mid x_3t_3)_{\\substack{s_4\\\\c_2}\\substack{s_7\\\\c_3}}\\gamma_{5_{s_0s_1}}\\gamma_{5_{s_6s_7}}\\gamma_{{\\mu}_{s_2s_3}}\\gamma_{{\\nu}_{s_4s_5}}\\\\\n",
      "d_10=-1 D^{-1}(x_1t_1\\mid x_0t_0)_{\\substack{s_3\\\\c_1}\\substack{s_0\\\\c_0}}D^{-1}(x_3t_3\\mid x_1t_1)_{\\substack{s_6\\\\c_3}\\substack{s_2\\\\c_1}}D^{-1}(x_0t_0\\mid x_2t_2)_{\\substack{s_1\\\\c_0}\\substack{s_5\\\\c_2}}D^{-1}(x_2t_2\\mid x_3t_3)_{\\substack{s_4\\\\c_2}\\substack{s_7\\\\c_3}}\\gamma_{5_{s_0s_1}}\\gamma_{5_{s_6s_7}}\\gamma_{{\\mu}_{s_2s_3}}\\gamma_{{\\nu}_{s_4s_5}}\\\\\n",
      "d_11=2 D^{-1}(x_1t_1\\mid x_0t_0)_{\\substack{s_3\\\\c_1}\\substack{s_0\\\\c_0}}D^{-1}(x_3t_3\\mid x_1t_1)_{\\substack{s_6\\\\c_3}\\substack{s_2\\\\c_1}}D^{-1}(x_2t_2\\mid x_2t_2)_{\\substack{s_4\\\\c_2}\\substack{s_5\\\\c_2}}D^{-1}(x_0t_0\\mid x_3t_3)_{\\substack{s_1\\\\c_0}\\substack{s_7\\\\c_3}}\\gamma_{5_{s_0s_1}}\\gamma_{5_{s_6s_7}}\\gamma_{{\\mu}_{s_2s_3}}\\gamma_{{\\nu}_{s_4s_5}}\\\\\n"
     ]
    }
   ],
   "source": [
    "for i,d in enumerate(t):\n",
    "    tmp='d_'+str(i)+'='+str(d.coef) + ' '\n",
    "    for p in d.props:\n",
    "        tmp+=p.latexStr()\n",
    "    for c in d.ci:\n",
    "        tmp+=latexStr(c)\n",
    "    print(tmp+'\\\\\\\\')"
   ]
  },
  {
   "cell_type": "code",
   "execution_count": null,
   "metadata": {},
   "outputs": [],
   "source": []
  },
  {
   "cell_type": "code",
   "execution_count": null,
   "metadata": {},
   "outputs": [],
   "source": []
  }
 ],
 "metadata": {
  "kernelspec": {
   "display_name": "Python [conda env:LQCD] *",
   "language": "python",
   "name": "conda-env-LQCD-py"
  },
  "language_info": {
   "codemirror_mode": {
    "name": "ipython",
    "version": 3
   },
   "file_extension": ".py",
   "mimetype": "text/x-python",
   "name": "python",
   "nbconvert_exporter": "python",
   "pygments_lexer": "ipython3",
   "version": "3.8.5"
  }
 },
 "nbformat": 4,
 "nbformat_minor": 4
}
