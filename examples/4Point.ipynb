{
 "cells": [
  {
   "cell_type": "code",
   "execution_count": 54,
   "metadata": {},
   "outputs": [],
   "source": [
    "import sys\n",
    "import os\n",
    "\n",
    "sys.path.append(os.getcwd()[:-9])\n",
    "from src.ops.operator import Operator\n",
    "from src.ops.elemental import ElementalOperator\n",
    "from src.ops.quarks import Quark\n",
    "from src.ops.indexed import IndexedObject\n",
    "from src.wick.contract import contract"
   ]
  },
  {
   "cell_type": "code",
   "execution_count": 74,
   "metadata": {},
   "outputs": [],
   "source": [
    "q0=Quark(True,'u','s_0','c_0','t_3','x_3')\n",
    "g0=IndexedObject('\\\\gamma_5',['s_0','s_1'])\n",
    "q1=Quark(False,'d','s_1','c_0','t_3','x_3')\n",
    "\n",
    "annihilate=Operator([ElementalOperator(+1,[g0],[q0,q1])])\n",
    "\n",
    "elementals=[]\n",
    "for pi2 in [['u',+1],['d',+1]]:\n",
    "    for pi1 in [['u',+1],['d',+1]]:\n",
    "        q2=Quark(True,pi2[0],'s_2','c_1','t_2','x_2')\n",
    "        g1=IndexedObject('\\\\gamma_{\\mu}',['s_2','s_3'])\n",
    "        q3=Quark(False,pi2[0],'s_3','c_1','t_2','x_2')\n",
    "\n",
    "        q4=Quark(True,pi1[0],'s_4','c_2','t_1','x_1')\n",
    "        g2=IndexedObject('\\\\gamma_{\\\\nu}',['s_4','s_5'])\n",
    "        q5=Quark(False,pi1[0],'s_5','c_2','t_1','x_1')\n",
    "\n",
    "        q6=Quark(False,'u','s_6','c_3','t_0','x_0')\n",
    "        g3=IndexedObject('\\\\gamma_5',['s_6','s_7'])\n",
    "        q7=Quark(True,'d','s_7','c_3','t_0','x_0')\n",
    "        elementals.append(ElementalOperator(pi2[1]*pi1[1],[g1,g2,g3],[q2,q3,q4,q5,q6,q7]))\n",
    "        \n",
    "create=Operator(elementals)"
   ]
  },
  {
   "cell_type": "code",
   "execution_count": 75,
   "metadata": {},
   "outputs": [],
   "source": [
    "res=contract(annihilate,create)"
   ]
  },
  {
   "cell_type": "code",
   "execution_count": 76,
   "metadata": {},
   "outputs": [
    {
     "data": {
      "text/plain": [
       "20"
      ]
     },
     "execution_count": 76,
     "metadata": {},
     "output_type": "execute_result"
    }
   ],
   "source": [
    "len(res)"
   ]
  },
  {
   "cell_type": "code",
   "execution_count": 78,
   "metadata": {},
   "outputs": [
    {
     "name": "stdout",
     "output_type": "stream",
     "text": [
      "20\n",
      "12\n"
     ]
    }
   ],
   "source": [
    "import copy\n",
    "\n",
    "def latexStr(gamma):\n",
    "    tmp=gamma.name.split('_')\n",
    "    if(tmp[0]=='\\\\gamma'):\n",
    "        return tmp[0] + '_{' + tmp[1] + '_{' + gamma.indices[0] + gamma.indices[1] + '}}'\n",
    "    else:\n",
    "        return str(tmp)\n",
    "  \n",
    "def platexStr(p):\n",
    "    return p.name + '(' + p.ti.replace('t','x') + p.ti + '\\mid ' + p.tf.replace('t','x') + p.tf + ')' + '_{\\\\substack{' + p.left_indices.s + '\\\\\\\\' + p.left_indices.c + '}' +  '\\\\substack{' + p.right_indices.s + '\\\\\\\\' + p.right_indices.c + '}}'\n",
    "    \n",
    "total=copy.deepcopy(res)\n",
    "\n",
    "print(len(total))\n",
    "\n",
    "for d in total:\n",
    "    for p in d.props:\n",
    "        p.name = 'D^{-1}'\n",
    "        \n",
    "for i in range(len(total)-1,-1,-1):\n",
    "    for j in range(len(total)-1,-1,-1):\n",
    "        if(i!=j):\n",
    "            if((total[i].commuting==total[j].commuting) and (total[i].props==total[j].props)):\n",
    "            #if(total[i]==total[j]):\n",
    "                total[i].coef+=total[j].coef\n",
    "                total.pop(j)\n",
    "                break\n",
    "for i in range(len(total)-1,-1,-1):\n",
    "    if(total[i].coef==0):\n",
    "        total.pop(i)\n",
    "        \n",
    "print(len(total))"
   ]
  },
  {
   "cell_type": "code",
   "execution_count": 86,
   "metadata": {},
   "outputs": [
    {
     "name": "stdout",
     "output_type": "stream",
     "text": [
      "d_{0}=1 D^{-1}(x_1t_1\\mid x_3t_3)_{\\substack{s_5\\\\c_2}\\substack{s_0\\\\c_0}}D^{-1}(x_0t_0\\mid x_2t_2)_{\\substack{s_6\\\\c_3}\\substack{s_2\\\\c_1}}D^{-1}(x_2t_2\\mid x_1t_1)_{\\substack{s_3\\\\c_1}\\substack{s_4\\\\c_2}}D^{-1}(x_3t_3\\mid x_0t_0)_{\\substack{s_1\\\\c_0}\\substack{s_7\\\\c_3}}\\gamma_{5_{s_0s_1}}\\gamma_{5_{s_6s_7}}\\gamma_{{\\mu}_{s_2s_3}}\\gamma_{{\\nu}_{s_4s_5}}\\\\\n",
      "d_{1}=1 D^{-1}(x_2t_2\\mid x_3t_3)_{\\substack{s_3\\\\c_1}\\substack{s_0\\\\c_0}}D^{-1}(x_1t_1\\mid x_2t_2)_{\\substack{s_5\\\\c_2}\\substack{s_2\\\\c_1}}D^{-1}(x_0t_0\\mid x_1t_1)_{\\substack{s_6\\\\c_3}\\substack{s_4\\\\c_2}}D^{-1}(x_3t_3\\mid x_0t_0)_{\\substack{s_1\\\\c_0}\\substack{s_7\\\\c_3}}\\gamma_{5_{s_0s_1}}\\gamma_{5_{s_6s_7}}\\gamma_{{\\mu}_{s_2s_3}}\\gamma_{{\\nu}_{s_4s_5}}\\\\\n",
      "d_{2}=1 D^{-1}(x_2t_2\\mid x_3t_3)_{\\substack{s_3\\\\c_1}\\substack{s_0\\\\c_0}}D^{-1}(x_0t_0\\mid x_2t_2)_{\\substack{s_6\\\\c_3}\\substack{s_2\\\\c_1}}D^{-1}(x_3t_3\\mid x_1t_1)_{\\substack{s_1\\\\c_0}\\substack{s_4\\\\c_2}}D^{-1}(x_1t_1\\mid x_0t_0)_{\\substack{s_5\\\\c_2}\\substack{s_7\\\\c_3}}\\gamma_{5_{s_0s_1}}\\gamma_{5_{s_6s_7}}\\gamma_{{\\mu}_{s_2s_3}}\\gamma_{{\\nu}_{s_4s_5}}\\\\\n",
      "d_{3}=-2 D^{-1}(x_2t_2\\mid x_3t_3)_{\\substack{s_3\\\\c_1}\\substack{s_0\\\\c_0}}D^{-1}(x_0t_0\\mid x_2t_2)_{\\substack{s_6\\\\c_3}\\substack{s_2\\\\c_1}}D^{-1}(x_1t_1\\mid x_1t_1)_{\\substack{s_5\\\\c_2}\\substack{s_4\\\\c_2}}D^{-1}(x_3t_3\\mid x_0t_0)_{\\substack{s_1\\\\c_0}\\substack{s_7\\\\c_3}}\\gamma_{5_{s_0s_1}}\\gamma_{5_{s_6s_7}}\\gamma_{{\\mu}_{s_2s_3}}\\gamma_{{\\nu}_{s_4s_5}}\\\\\n",
      "d_{4}=1 D^{-1}(x_1t_1\\mid x_3t_3)_{\\substack{s_5\\\\c_2}\\substack{s_0\\\\c_0}}D^{-1}(x_3t_3\\mid x_2t_2)_{\\substack{s_1\\\\c_0}\\substack{s_2\\\\c_1}}D^{-1}(x_0t_0\\mid x_1t_1)_{\\substack{s_6\\\\c_3}\\substack{s_4\\\\c_2}}D^{-1}(x_2t_2\\mid x_0t_0)_{\\substack{s_3\\\\c_1}\\substack{s_7\\\\c_3}}\\gamma_{5_{s_0s_1}}\\gamma_{5_{s_6s_7}}\\gamma_{{\\mu}_{s_2s_3}}\\gamma_{{\\nu}_{s_4s_5}}\\\\\n",
      "d_{5}=-2 D^{-1}(x_1t_1\\mid x_3t_3)_{\\substack{s_5\\\\c_2}\\substack{s_0\\\\c_0}}D^{-1}(x_2t_2\\mid x_2t_2)_{\\substack{s_3\\\\c_1}\\substack{s_2\\\\c_1}}D^{-1}(x_0t_0\\mid x_1t_1)_{\\substack{s_6\\\\c_3}\\substack{s_4\\\\c_2}}D^{-1}(x_3t_3\\mid x_0t_0)_{\\substack{s_1\\\\c_0}\\substack{s_7\\\\c_3}}\\gamma_{5_{s_0s_1}}\\gamma_{5_{s_6s_7}}\\gamma_{{\\mu}_{s_2s_3}}\\gamma_{{\\nu}_{s_4s_5}}\\\\\n",
      "d_{6}=-2 D^{-1}(x_0t_0\\mid x_3t_3)_{\\substack{s_6\\\\c_3}\\substack{s_0\\\\c_0}}D^{-1}(x_2t_2\\mid x_2t_2)_{\\substack{s_3\\\\c_1}\\substack{s_2\\\\c_1}}D^{-1}(x_3t_3\\mid x_1t_1)_{\\substack{s_1\\\\c_0}\\substack{s_4\\\\c_2}}D^{-1}(x_1t_1\\mid x_0t_0)_{\\substack{s_5\\\\c_2}\\substack{s_7\\\\c_3}}\\gamma_{5_{s_0s_1}}\\gamma_{5_{s_6s_7}}\\gamma_{{\\mu}_{s_2s_3}}\\gamma_{{\\nu}_{s_4s_5}}\\\\\n",
      "d_{7}=1 D^{-1}(x_0t_0\\mid x_3t_3)_{\\substack{s_6\\\\c_3}\\substack{s_0\\\\c_0}}D^{-1}(x_3t_3\\mid x_2t_2)_{\\substack{s_1\\\\c_0}\\substack{s_2\\\\c_1}}D^{-1}(x_2t_2\\mid x_1t_1)_{\\substack{s_3\\\\c_1}\\substack{s_4\\\\c_2}}D^{-1}(x_1t_1\\mid x_0t_0)_{\\substack{s_5\\\\c_2}\\substack{s_7\\\\c_3}}\\gamma_{5_{s_0s_1}}\\gamma_{5_{s_6s_7}}\\gamma_{{\\mu}_{s_2s_3}}\\gamma_{{\\nu}_{s_4s_5}}\\\\\n",
      "d_{8}=-2 D^{-1}(x_0t_0\\mid x_3t_3)_{\\substack{s_6\\\\c_3}\\substack{s_0\\\\c_0}}D^{-1}(x_3t_3\\mid x_2t_2)_{\\substack{s_1\\\\c_0}\\substack{s_2\\\\c_1}}D^{-1}(x_1t_1\\mid x_1t_1)_{\\substack{s_5\\\\c_2}\\substack{s_4\\\\c_2}}D^{-1}(x_2t_2\\mid x_0t_0)_{\\substack{s_3\\\\c_1}\\substack{s_7\\\\c_3}}\\gamma_{5_{s_0s_1}}\\gamma_{5_{s_6s_7}}\\gamma_{{\\mu}_{s_2s_3}}\\gamma_{{\\nu}_{s_4s_5}}\\\\\n",
      "d_{9}=1 D^{-1}(x_0t_0\\mid x_3t_3)_{\\substack{s_6\\\\c_3}\\substack{s_0\\\\c_0}}D^{-1}(x_1t_1\\mid x_2t_2)_{\\substack{s_5\\\\c_2}\\substack{s_2\\\\c_1}}D^{-1}(x_3t_3\\mid x_1t_1)_{\\substack{s_1\\\\c_0}\\substack{s_4\\\\c_2}}D^{-1}(x_2t_2\\mid x_0t_0)_{\\substack{s_3\\\\c_1}\\substack{s_7\\\\c_3}}\\gamma_{5_{s_0s_1}}\\gamma_{5_{s_6s_7}}\\gamma_{{\\mu}_{s_2s_3}}\\gamma_{{\\nu}_{s_4s_5}}\\\\\n",
      "d_{10}=-2 D^{-1}(x_0t_0\\mid x_3t_3)_{\\substack{s_6\\\\c_3}\\substack{s_0\\\\c_0}}D^{-1}(x_1t_1\\mid x_2t_2)_{\\substack{s_5\\\\c_2}\\substack{s_2\\\\c_1}}D^{-1}(x_2t_2\\mid x_1t_1)_{\\substack{s_3\\\\c_1}\\substack{s_4\\\\c_2}}D^{-1}(x_3t_3\\mid x_0t_0)_{\\substack{s_1\\\\c_0}\\substack{s_7\\\\c_3}}\\gamma_{5_{s_0s_1}}\\gamma_{5_{s_6s_7}}\\gamma_{{\\mu}_{s_2s_3}}\\gamma_{{\\nu}_{s_4s_5}}\\\\\n",
      "d_{11}=4 D^{-1}(x_0t_0\\mid x_3t_3)_{\\substack{s_6\\\\c_3}\\substack{s_0\\\\c_0}}D^{-1}(x_2t_2\\mid x_2t_2)_{\\substack{s_3\\\\c_1}\\substack{s_2\\\\c_1}}D^{-1}(x_1t_1\\mid x_1t_1)_{\\substack{s_5\\\\c_2}\\substack{s_4\\\\c_2}}D^{-1}(x_3t_3\\mid x_0t_0)_{\\substack{s_1\\\\c_0}\\substack{s_7\\\\c_3}}\\gamma_{5_{s_0s_1}}\\gamma_{5_{s_6s_7}}\\gamma_{{\\mu}_{s_2s_3}}\\gamma_{{\\nu}_{s_4s_5}}\\\\\n"
     ]
    }
   ],
   "source": [
    "for i,d in enumerate(total):\n",
    "    #if(i==1 or i==6):\n",
    "        tmp='d_{'+str(i)+'}='+str(d.coef) + ' '\n",
    "        for p in d.props:\n",
    "            tmp+=platexStr(p)\n",
    "        for c in d.commuting:\n",
    "            tmp+=latexStr(c)\n",
    "        print(tmp+'\\\\\\\\')"
   ]
  },
  {
   "cell_type": "code",
   "execution_count": null,
   "metadata": {},
   "outputs": [],
   "source": []
  },
  {
   "cell_type": "code",
   "execution_count": 80,
   "metadata": {},
   "outputs": [
    {
     "name": "stdout",
     "output_type": "stream",
     "text": [
      "d_0:  t_3->t_1   t_2->t_0   t_1->t_2   t_0->t_3   \n",
      "d_1:  t_3->t_2   t_2->t_1   t_1->t_0   t_0->t_3   \n",
      "d_2:  t_3->t_2   t_2->t_0   t_1->t_3   t_0->t_1   \n",
      "d_3:  t_3->t_2   t_2->t_0   t_1->t_1   t_0->t_3   \n",
      "d_4:  t_3->t_1   t_2->t_3   t_1->t_0   t_0->t_2   \n",
      "d_5:  t_3->t_1   t_2->t_2   t_1->t_0   t_0->t_3   \n",
      "d_6:  t_3->t_0   t_2->t_2   t_1->t_3   t_0->t_1   \n",
      "d_7:  t_3->t_0   t_2->t_3   t_1->t_2   t_0->t_1   \n",
      "d_8:  t_3->t_0   t_2->t_3   t_1->t_1   t_0->t_2   \n",
      "d_9:  t_3->t_0   t_2->t_1   t_1->t_3   t_0->t_2   \n",
      "d_10:  t_3->t_0   t_2->t_1   t_1->t_2   t_0->t_3   \n",
      "d_11:  t_3->t_0   t_2->t_2   t_1->t_1   t_0->t_3   \n"
     ]
    }
   ],
   "source": [
    "diagrams = {}\n",
    "\n",
    "for i,d in enumerate(total):\n",
    "    top = []\n",
    "    d_str='d_' + str(i) + ':  '\n",
    "    for p in d.props:\n",
    "        d_str+=p.tf + '->' + p.ti + '   '\n",
    "        top.append([p.tf.split('_')[1],p.ti.split('_')[1]])\n",
    "    diagrams[i]=top\n",
    "    print(d_str)"
   ]
  },
  {
   "cell_type": "code",
   "execution_count": 81,
   "metadata": {},
   "outputs": [],
   "source": [
    "# d_0 -> z\n"
   ]
  },
  {
   "cell_type": "code",
   "execution_count": 82,
   "metadata": {},
   "outputs": [
    {
     "data": {
      "text/plain": [
       "{0: [['3', '1'], ['2', '0'], ['1', '2'], ['0', '3']],\n",
       " 1: [['3', '2'], ['2', '1'], ['1', '0'], ['0', '3']],\n",
       " 2: [['3', '2'], ['2', '0'], ['1', '3'], ['0', '1']],\n",
       " 3: [['3', '2'], ['2', '0'], ['1', '1'], ['0', '3']],\n",
       " 4: [['3', '1'], ['2', '3'], ['1', '0'], ['0', '2']],\n",
       " 5: [['3', '1'], ['2', '2'], ['1', '0'], ['0', '3']],\n",
       " 6: [['3', '0'], ['2', '2'], ['1', '3'], ['0', '1']],\n",
       " 7: [['3', '0'], ['2', '3'], ['1', '2'], ['0', '1']],\n",
       " 8: [['3', '0'], ['2', '3'], ['1', '1'], ['0', '2']],\n",
       " 9: [['3', '0'], ['2', '1'], ['1', '3'], ['0', '2']],\n",
       " 10: [['3', '0'], ['2', '1'], ['1', '2'], ['0', '3']],\n",
       " 11: [['3', '0'], ['2', '2'], ['1', '1'], ['0', '3']]}"
      ]
     },
     "execution_count": 82,
     "metadata": {},
     "output_type": "execute_result"
    }
   ],
   "source": [
    "diagrams"
   ]
  },
  {
   "cell_type": "code",
   "execution_count": 83,
   "metadata": {},
   "outputs": [],
   "source": [
    "refTopologies={}\n",
    "refTopologies['A']=[['1','0'],['0','2'],['2','3'],['3','1']]\n",
    "refTopologies['A-bwd']=[['0','1'],['1','3'],['3','2'],['2','0']]\n",
    "refTopologies['B']=[['1','0'],['0','3'],['3','2'],['2','1']]\n",
    "refTopologies['B-bwd']=[['0','1'],['1','2'],['2','3'],['3','0']]\n",
    "refTopologies['C']=[['2','0'],['0','3'],['3','1'],['1','2']]\n",
    "refTopologies['C-bwd']=[['0','2'],['2','1'],['1','3'],['3','0']]\n",
    "refTopologies['D']=[['0','3'],['3','0'],['2','1'],['1','2']]\n",
    "refTopologies['El']=[['2','2'],['3','1'],['1','0'],['0','3']]\n",
    "refTopologies['El-bwd']=[['2','2'],['1','3'],['3','0'],['0','1']]\n",
    "refTopologies['Er']=[['1','1'],['3','2'],['2','0'],['0','3']]\n",
    "refTopologies['Er-bwd']=[['1','1'],['2','3'],['3','0'],['0','2']]\n",
    "refTopologies['F']=[['0','3'],['3','0'],['1','1'],['2','2']]"
   ]
  },
  {
   "cell_type": "code",
   "execution_count": 84,
   "metadata": {},
   "outputs": [],
   "source": [
    "def swap(list, i, j):\n",
    "    list[i], list[j] = list[j], list[i]\n",
    "    return list\n",
    "\n",
    "for idx,d in diagrams.items():\n",
    "    for p in range(len(d)):\n",
    "        if d[p][1] != d[(p+1)%len(d)][0]:\n",
    "            for pp in range(p,len(d)):\n",
    "                if d[p][1] == d[pp][0]:\n",
    "                    swap(d,(p+1)%len(d),pp)\n",
    "                    "
   ]
  },
  {
   "cell_type": "code",
   "execution_count": 85,
   "metadata": {},
   "outputs": [
    {
     "name": "stdout",
     "output_type": "stream",
     "text": [
      "\\begin{tabular}{c | c}\n",
      "d & Diagrams\\\\\n",
      "\\hline\n",
      "0 & C\\\\\n",
      "1 & B\\\\\n",
      "2 & A\\\\\n",
      "3 & E\\\\\n",
      "4 & A\\\\\n",
      "5 & E\\\\\n",
      "6 & E\\\\\n",
      "7 & B\\\\\n",
      "8 & E\\\\\n",
      "9 & C\\\\\n",
      "10 & D\\\\\n",
      "11 & F\\\\\n",
      "\\end{tabular}\n"
     ]
    }
   ],
   "source": [
    "from src.wick.utilities import permutations\n",
    "\n",
    "def cyclic_permutations(list):\n",
    "    return [[list[i-j] for i in range(len(list))] for j in range(len(list))]\n",
    "\n",
    "print('\\\\begin{tabular}{c | c}')\n",
    "print('d & Diagrams\\\\\\\\')\n",
    "print('\\\\hline')\n",
    "for idx,d in diagrams.items():\n",
    "    for label, top in refTopologies.items():\n",
    "        if d in permutations(top):\n",
    "            print('{} & {}\\\\\\\\'.format(idx,label[0]))\n",
    "print('\\\\end{tabular}')"
   ]
  },
  {
   "cell_type": "code",
   "execution_count": null,
   "metadata": {},
   "outputs": [],
   "source": []
  },
  {
   "cell_type": "code",
   "execution_count": null,
   "metadata": {},
   "outputs": [],
   "source": []
  }
 ],
 "metadata": {
  "kernelspec": {
   "display_name": "Python [conda env:LQCD] *",
   "language": "python",
   "name": "conda-env-LQCD-py"
  },
  "language_info": {
   "codemirror_mode": {
    "name": "ipython",
    "version": 3
   },
   "file_extension": ".py",
   "mimetype": "text/x-python",
   "name": "python",
   "nbconvert_exporter": "python",
   "pygments_lexer": "ipython3",
   "version": "3.8.5"
  }
 },
 "nbformat": 4,
 "nbformat_minor": 4
}
