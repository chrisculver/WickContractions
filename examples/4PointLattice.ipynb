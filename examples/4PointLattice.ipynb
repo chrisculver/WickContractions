{
 "cells": [
  {
   "cell_type": "code",
   "execution_count": 4,
   "metadata": {},
   "outputs": [],
   "source": [
    "from WickContractions.elemental_operator import *\n",
    "from WickContractions.diagram import *\n",
    "from WickContractions.quarks import *\n",
    "from WickContractions.wick_utilities import *\n",
    "from WickContractions.wick_contract import *"
   ]
  },
  {
   "cell_type": "code",
   "execution_count": 5,
   "metadata": {},
   "outputs": [],
   "source": [
    "q0=Quark(True,'u','s_0','c_0','t_3','x_3')\n",
    "g0=Spin_Matrix('\\\\gamma_5',['s_0','s_1'])\n",
    "q1=Quark(False,'d','s_1','c_0','t_3','x_3')\n",
    "\n",
    "q2=Quark(True,'u','s_2','c_1','t_2','x_2')\n",
    "g1=Spin_Matrix('PS_{\\mu}',['s_2','s_3','c_1','c_2','x_2'])\n",
    "q3=Quark(False,'u','s_3','c_2','t_2','x_2')\n",
    "\n",
    "q4=Quark(False,'u','s_4','c_3','t_1','x_1')\n",
    "g2=Spin_Matrix('PS_{\\nu}',['s_4','s_5','c_3','c_4','x_1'])\n",
    "q5=Quark(True,'u','s_5','c_4','t_1','x_1')\n",
    "\n",
    "q6=Quark(False,'u','s_6','c_5','t_0','x_0')\n",
    "g3=Spin_Matrix('\\\\gamma_5',['s_6','s_7'])\n",
    "q7=Quark(True,'d','s_7','c_5','t_0','x_0')"
   ]
  },
  {
   "cell_type": "code",
   "execution_count": 6,
   "metadata": {},
   "outputs": [
    {
     "name": "stdout",
     "output_type": "stream",
     "text": [
      "1\n",
      "[<WickContractions.elemental_operator.Spin_Matrix object at 0x7f62887f49a0>, <WickContractions.elemental_operator.Spin_Matrix object at 0x7f62887a3d90>]\n",
      "[<WickContractions.quarks.Quark object at 0x7f62887f4550>, <WickContractions.quarks.Quark object at 0x7f62887a30a0>, <WickContractions.quarks.Quark object at 0x7f62887a3040>, <WickContractions.quarks.Quark object at 0x7f628882ee50>]\n",
      "6\n"
     ]
    }
   ],
   "source": [
    "o1 = ElementalOperator(1,[g0,g1],[q0,q1,q2,q3])\n",
    "o2 = ElementalOperator(1,[g2,g3],[q4,q5,q6,q7])\n",
    "\n",
    "print(o1.coef)\n",
    "print(o1.ci)\n",
    "print(o2.qj)\n",
    "\n",
    "res = contract(o1,o2)\n",
    "print(len(res))"
   ]
  },
  {
   "cell_type": "code",
   "execution_count": 7,
   "metadata": {},
   "outputs": [
    {
     "name": "stdout",
     "output_type": "stream",
     "text": [
      "1 PS_{\n",
      "u}_{s_4 s_5 c_3 c_4 x_1 }PS_{\\mu}_{s_2 s_3 c_1 c_2 x_2 }\\gamma_5_{s_0 s_1 }\\gamma_5_{s_6 s_7 }prop^u(t_0,t_3)_{c_5 s_6 | c_0 s_0}prop^u(t_1,t_2)_{c_3 s_4 | c_1 s_2}prop^u(t_2,t_1)_{c_2 s_3 | c_4 s_5}prop^d(t_3,t_0)_{c_0 s_1 | c_5 s_7}\n",
      "-1 PS_{\n",
      "u}_{s_4 s_5 c_3 c_4 x_1 }PS_{\\mu}_{s_2 s_3 c_1 c_2 x_2 }\\gamma_5_{s_0 s_1 }\\gamma_5_{s_6 s_7 }prop^u(t_1,t_3)_{c_3 s_4 | c_0 s_0}prop^u(t_0,t_2)_{c_5 s_6 | c_1 s_2}prop^u(t_2,t_1)_{c_2 s_3 | c_4 s_5}prop^d(t_3,t_0)_{c_0 s_1 | c_5 s_7}\n",
      "1 PS_{\n",
      "u}_{s_4 s_5 c_3 c_4 x_1 }PS_{\\mu}_{s_2 s_3 c_1 c_2 x_2 }\\gamma_5_{s_0 s_1 }\\gamma_5_{s_6 s_7 }prop^u(t_2,t_3)_{c_2 s_3 | c_0 s_0}prop^u(t_0,t_2)_{c_5 s_6 | c_1 s_2}prop^u(t_1,t_1)_{c_3 s_4 | c_4 s_5}prop^d(t_3,t_0)_{c_0 s_1 | c_5 s_7}\n",
      "-1 PS_{\n",
      "u}_{s_4 s_5 c_3 c_4 x_1 }PS_{\\mu}_{s_2 s_3 c_1 c_2 x_2 }\\gamma_5_{s_0 s_1 }\\gamma_5_{s_6 s_7 }prop^u(t_0,t_3)_{c_5 s_6 | c_0 s_0}prop^u(t_2,t_2)_{c_2 s_3 | c_1 s_2}prop^u(t_1,t_1)_{c_3 s_4 | c_4 s_5}prop^d(t_3,t_0)_{c_0 s_1 | c_5 s_7}\n",
      "1 PS_{\n",
      "u}_{s_4 s_5 c_3 c_4 x_1 }PS_{\\mu}_{s_2 s_3 c_1 c_2 x_2 }\\gamma_5_{s_0 s_1 }\\gamma_5_{s_6 s_7 }prop^u(t_1,t_3)_{c_3 s_4 | c_0 s_0}prop^u(t_2,t_2)_{c_2 s_3 | c_1 s_2}prop^u(t_0,t_1)_{c_5 s_6 | c_4 s_5}prop^d(t_3,t_0)_{c_0 s_1 | c_5 s_7}\n",
      "-1 PS_{\n",
      "u}_{s_4 s_5 c_3 c_4 x_1 }PS_{\\mu}_{s_2 s_3 c_1 c_2 x_2 }\\gamma_5_{s_0 s_1 }\\gamma_5_{s_6 s_7 }prop^u(t_2,t_3)_{c_2 s_3 | c_0 s_0}prop^u(t_1,t_2)_{c_3 s_4 | c_1 s_2}prop^u(t_0,t_1)_{c_5 s_6 | c_4 s_5}prop^d(t_3,t_0)_{c_0 s_1 | c_5 s_7}\n"
     ]
    }
   ],
   "source": [
    "for d in res:\n",
    "    print(d)"
   ]
  },
  {
   "cell_type": "code",
   "execution_count": 8,
   "metadata": {},
   "outputs": [],
   "source": [
    "# d[4] = (e)\n",
    "# d[3] = (f)\n",
    "# d[0] = (d)"
   ]
  },
  {
   "cell_type": "code",
   "execution_count": null,
   "metadata": {},
   "outputs": [],
   "source": []
  },
  {
   "cell_type": "code",
   "execution_count": 9,
   "metadata": {},
   "outputs": [
    {
     "name": "stdout",
     "output_type": "stream",
     "text": [
      "6\n",
      "1 PS_{\n",
      "u}_{s_4 s_5 c_3 c_4 x_1 }PS_{\\mu}_{s_2 s_3 c_1 c_2 x_2 }\\gamma_5_{s_0 s_1 }\\gamma_5_{s_6 s_7 }prop^u(t_0,t_3)_{c_3 s_6 | c_0 s_0}prop^d(t_2,t_2)_{c_1 s_3 | c_1 s_2}prop^d(t_3,t_1)_{c_0 s_1 | c_2 s_5}prop^d(t_1,t_0)_{c_2 s_4 | c_3 s_7}\n",
      "-1 PS_{\n",
      "u}_{s_4 s_5 c_3 c_4 x_1 }PS_{\\mu}_{s_2 s_3 c_1 c_2 x_2 }\\gamma_5_{s_0 s_1 }\\gamma_5_{s_6 s_7 }prop^u(t_0,t_3)_{c_3 s_6 | c_0 s_0}prop^d(t_3,t_2)_{c_0 s_1 | c_1 s_2}prop^d(t_2,t_1)_{c_1 s_3 | c_2 s_5}prop^d(t_1,t_0)_{c_2 s_4 | c_3 s_7}\n",
      "1 PS_{\n",
      "u}_{s_4 s_5 c_3 c_4 x_1 }PS_{\\mu}_{s_2 s_3 c_1 c_2 x_2 }\\gamma_5_{s_0 s_1 }\\gamma_5_{s_6 s_7 }prop^u(t_0,t_3)_{c_3 s_6 | c_0 s_0}prop^d(t_3,t_2)_{c_0 s_1 | c_1 s_2}prop^d(t_1,t_1)_{c_2 s_4 | c_2 s_5}prop^d(t_2,t_0)_{c_1 s_3 | c_3 s_7}\n",
      "-1 PS_{\n",
      "u}_{s_4 s_5 c_3 c_4 x_1 }PS_{\\mu}_{s_2 s_3 c_1 c_2 x_2 }\\gamma_5_{s_0 s_1 }\\gamma_5_{s_6 s_7 }prop^u(t_0,t_3)_{c_3 s_6 | c_0 s_0}prop^d(t_1,t_2)_{c_2 s_4 | c_1 s_2}prop^d(t_3,t_1)_{c_0 s_1 | c_2 s_5}prop^d(t_2,t_0)_{c_1 s_3 | c_3 s_7}\n",
      "1 PS_{\n",
      "u}_{s_4 s_5 c_3 c_4 x_1 }PS_{\\mu}_{s_2 s_3 c_1 c_2 x_2 }\\gamma_5_{s_0 s_1 }\\gamma_5_{s_6 s_7 }prop^u(t_0,t_3)_{c_3 s_6 | c_0 s_0}prop^d(t_1,t_2)_{c_2 s_4 | c_1 s_2}prop^d(t_2,t_1)_{c_1 s_3 | c_2 s_5}prop^d(t_3,t_0)_{c_0 s_1 | c_3 s_7}\n",
      "-1 PS_{\n",
      "u}_{s_4 s_5 c_3 c_4 x_1 }PS_{\\mu}_{s_2 s_3 c_1 c_2 x_2 }\\gamma_5_{s_0 s_1 }\\gamma_5_{s_6 s_7 }prop^u(t_0,t_3)_{c_3 s_6 | c_0 s_0}prop^d(t_2,t_2)_{c_1 s_3 | c_1 s_2}prop^d(t_1,t_1)_{c_2 s_4 | c_2 s_5}prop^d(t_3,t_0)_{c_0 s_1 | c_3 s_7}\n"
     ]
    }
   ],
   "source": [
    "q0=Quark(True,'u','s_0','c_0','t_3','x_3')\n",
    "q1=Quark(False,'d','s_1','c_0','t_3','x_3')\n",
    "\n",
    "q2=Quark(True,'d','s_2','c_1','t_2','x_2')\n",
    "q3=Quark(False,'d','s_3','c_1','t_2','x_2')\n",
    "\n",
    "q4=Quark(False,'d','s_4','c_2','t_1','x_1')\n",
    "q5=Quark(True,'d','s_5','c_2','t_1','x_1')\n",
    "\n",
    "q6=Quark(False,'u','s_6','c_3','t_0','x_0')\n",
    "q7=Quark(True,'d','s_7','c_3','t_0','x_0')\n",
    "\n",
    "o1 = ElementalOperator(1,[g0,g1],[q0,q1,q2,q3])\n",
    "o2 = ElementalOperator(1,[g2,g3],[q4,q5,q6,q7])\n",
    "\n",
    "res_2 = contract(o1,o2)\n",
    "print(len(res_2))\n",
    "\n",
    "for d in res_2:\n",
    "    print(d)"
   ]
  },
  {
   "cell_type": "code",
   "execution_count": 10,
   "metadata": {},
   "outputs": [
    {
     "name": "stdout",
     "output_type": "stream",
     "text": [
      "4\n",
      "-1 PS_{\n",
      "u}_{s_4 s_5 c_3 c_4 x_1 }PS_{\\mu}_{s_2 s_3 c_1 c_2 x_2 }\\gamma_5_{s_0 s_1 }\\gamma_5_{s_6 s_7 }prop^u(t_1,t_3)_{c_2 s_4 | c_0 s_0}prop^d(t_3,t_2)_{c_0 s_1 | c_1 s_2}prop^u(t_0,t_1)_{c_3 s_6 | c_2 s_5}prop^d(t_2,t_0)_{c_1 s_3 | c_3 s_7}\n",
      "1 PS_{\n",
      "u}_{s_4 s_5 c_3 c_4 x_1 }PS_{\\mu}_{s_2 s_3 c_1 c_2 x_2 }\\gamma_5_{s_0 s_1 }\\gamma_5_{s_6 s_7 }prop^u(t_0,t_3)_{c_3 s_6 | c_0 s_0}prop^d(t_3,t_2)_{c_0 s_1 | c_1 s_2}prop^u(t_1,t_1)_{c_2 s_4 | c_2 s_5}prop^d(t_2,t_0)_{c_1 s_3 | c_3 s_7}\n",
      "-1 PS_{\n",
      "u}_{s_4 s_5 c_3 c_4 x_1 }PS_{\\mu}_{s_2 s_3 c_1 c_2 x_2 }\\gamma_5_{s_0 s_1 }\\gamma_5_{s_6 s_7 }prop^u(t_0,t_3)_{c_3 s_6 | c_0 s_0}prop^d(t_2,t_2)_{c_1 s_3 | c_1 s_2}prop^u(t_1,t_1)_{c_2 s_4 | c_2 s_5}prop^d(t_3,t_0)_{c_0 s_1 | c_3 s_7}\n",
      "1 PS_{\n",
      "u}_{s_4 s_5 c_3 c_4 x_1 }PS_{\\mu}_{s_2 s_3 c_1 c_2 x_2 }\\gamma_5_{s_0 s_1 }\\gamma_5_{s_6 s_7 }prop^u(t_1,t_3)_{c_2 s_4 | c_0 s_0}prop^d(t_2,t_2)_{c_1 s_3 | c_1 s_2}prop^u(t_0,t_1)_{c_3 s_6 | c_2 s_5}prop^d(t_3,t_0)_{c_0 s_1 | c_3 s_7}\n"
     ]
    }
   ],
   "source": [
    "q0=Quark(True,'u','s_0','c_0','t_3','x_3')\n",
    "q1=Quark(False,'d','s_1','c_0','t_3','x_3')\n",
    "\n",
    "q2=Quark(True,'d','s_2','c_1','t_2','x_2')\n",
    "q3=Quark(False,'d','s_3','c_1','t_2','x_2')\n",
    "\n",
    "q4=Quark(False,'u','s_4','c_2','t_1','x_1')\n",
    "q5=Quark(True,'u','s_5','c_2','t_1','x_1')\n",
    "\n",
    "q6=Quark(False,'u','s_6','c_3','t_0','x_0')\n",
    "q7=Quark(True,'d','s_7','c_3','t_0','x_0')\n",
    "\n",
    "o1 = ElementalOperator(1,[g0,g1],[q0,q1,q2,q3])\n",
    "o2 = ElementalOperator(1,[g2,g3],[q4,q5,q6,q7])\n",
    "\n",
    "res_3 = contract(o1,o2)\n",
    "print(len(res_3))\n",
    "\n",
    "for d in res_3:\n",
    "    print(d)"
   ]
  },
  {
   "cell_type": "code",
   "execution_count": 11,
   "metadata": {},
   "outputs": [
    {
     "name": "stdout",
     "output_type": "stream",
     "text": [
      "4\n",
      "1 PS_{\n",
      "u}_{s_4 s_5 c_3 c_4 x_1 }PS_{\\mu}_{s_2 s_3 c_1 c_2 x_2 }\\gamma_5_{s_0 s_1 }\\gamma_5_{s_6 s_7 }prop^u(t_0,t_3)_{c_3 s_6 | c_0 s_0}prop^u(t_2,t_2)_{c_1 s_3 | c_1 s_2}prop^d(t_3,t_1)_{c_0 s_1 | c_2 s_5}prop^d(t_1,t_0)_{c_2 s_4 | c_3 s_7}\n",
      "-1 PS_{\n",
      "u}_{s_4 s_5 c_3 c_4 x_1 }PS_{\\mu}_{s_2 s_3 c_1 c_2 x_2 }\\gamma_5_{s_0 s_1 }\\gamma_5_{s_6 s_7 }prop^u(t_2,t_3)_{c_1 s_3 | c_0 s_0}prop^u(t_0,t_2)_{c_3 s_6 | c_1 s_2}prop^d(t_3,t_1)_{c_0 s_1 | c_2 s_5}prop^d(t_1,t_0)_{c_2 s_4 | c_3 s_7}\n",
      "1 PS_{\n",
      "u}_{s_4 s_5 c_3 c_4 x_1 }PS_{\\mu}_{s_2 s_3 c_1 c_2 x_2 }\\gamma_5_{s_0 s_1 }\\gamma_5_{s_6 s_7 }prop^u(t_2,t_3)_{c_1 s_3 | c_0 s_0}prop^u(t_0,t_2)_{c_3 s_6 | c_1 s_2}prop^d(t_1,t_1)_{c_2 s_4 | c_2 s_5}prop^d(t_3,t_0)_{c_0 s_1 | c_3 s_7}\n",
      "-1 PS_{\n",
      "u}_{s_4 s_5 c_3 c_4 x_1 }PS_{\\mu}_{s_2 s_3 c_1 c_2 x_2 }\\gamma_5_{s_0 s_1 }\\gamma_5_{s_6 s_7 }prop^u(t_0,t_3)_{c_3 s_6 | c_0 s_0}prop^u(t_2,t_2)_{c_1 s_3 | c_1 s_2}prop^d(t_1,t_1)_{c_2 s_4 | c_2 s_5}prop^d(t_3,t_0)_{c_0 s_1 | c_3 s_7}\n"
     ]
    }
   ],
   "source": [
    "q0=Quark(True,'u','s_0','c_0','t_3','x_3')\n",
    "q1=Quark(False,'d','s_1','c_0','t_3','x_3')\n",
    "\n",
    "q2=Quark(True,'u','s_2','c_1','t_2','x_2')\n",
    "q3=Quark(False,'u','s_3','c_1','t_2','x_2')\n",
    "\n",
    "q4=Quark(False,'d','s_4','c_2','t_1','x_1')\n",
    "q5=Quark(True,'d','s_5','c_2','t_1','x_1')\n",
    "\n",
    "q6=Quark(False,'u','s_6','c_3','t_0','x_0')\n",
    "q7=Quark(True,'d','s_7','c_3','t_0','x_0')\n",
    "\n",
    "o1 = ElementalOperator(1,[g0,g1],[q0,q1,q2,q3])\n",
    "o2 = ElementalOperator(1,[g2,g3],[q4,q5,q6,q7])\n",
    "\n",
    "res_4 = contract(o1,o2)\n",
    "print(len(res_4))\n",
    "\n",
    "for d in res_4:\n",
    "    print(d)"
   ]
  },
  {
   "cell_type": "code",
   "execution_count": 12,
   "metadata": {},
   "outputs": [
    {
     "name": "stdout",
     "output_type": "stream",
     "text": [
      "20\n"
     ]
    }
   ],
   "source": [
    "import copy\n",
    "\n",
    "def latexStr(gamma):\n",
    "    tmp=gamma.name.split('_')\n",
    "    return tmp[0] + '_{' + tmp[1] + '_{' + gamma.indices[0] + gamma.indices[1] + '}}'\n",
    "\n",
    "t_1 = copy.deepcopy(res)\n",
    "t_2 = copy.deepcopy(res_2)\n",
    "t_3 = copy.deepcopy(res_3)\n",
    "t_4 = copy.deepcopy(res_4)    \n",
    "\n",
    "t = t_1+t_2+t_3+t_4\n",
    "\n",
    "print(len(t))\n",
    "\n",
    "for d in t:\n",
    "    for p in d.props:\n",
    "        p.name = 'D^{-1}'\n",
    "        \n",
    "for i in range(len(t)-1,-1,-1):\n",
    "    for j in range(len(t)-1,-1,-1):\n",
    "        if(i!=j):\n",
    "            if(t[i]==t[j]):\n",
    "                t[i].coef+=t[j].coef\n",
    "                t.pop(j)\n",
    "                break"
   ]
  },
  {
   "cell_type": "code",
   "execution_count": 15,
   "metadata": {},
   "outputs": [
    {
     "name": "stdout",
     "output_type": "stream",
     "text": [
      "d_{0}=1 D^{-1}(x_0t_0\\mid x_3t_3)_{\\substack{s_6\\\\c_5}\\substack{s_0\\\\c_0}}D^{-1}(x_1t_1\\mid x_2t_2)_{\\substack{s_4\\\\c_3}\\substack{s_2\\\\c_1}}D^{-1}(x_2t_2\\mid x_1t_1)_{\\substack{s_3\\\\c_2}\\substack{s_5\\\\c_4}}D^{-1}(x_3t_3\\mid x_0t_0)_{\\substack{s_1\\\\c_0}\\substack{s_7\\\\c_5}}PS_{{\n",
      "u}_{s_4s_5}}PS_{{\\mu}_{s_2s_3}}\\gamma_{5_{s_0s_1}}\\gamma_{5_{s_6s_7}}\\\\\n",
      "d_{1}=-1 D^{-1}(x_1t_1\\mid x_3t_3)_{\\substack{s_4\\\\c_3}\\substack{s_0\\\\c_0}}D^{-1}(x_0t_0\\mid x_2t_2)_{\\substack{s_6\\\\c_5}\\substack{s_2\\\\c_1}}D^{-1}(x_2t_2\\mid x_1t_1)_{\\substack{s_3\\\\c_2}\\substack{s_5\\\\c_4}}D^{-1}(x_3t_3\\mid x_0t_0)_{\\substack{s_1\\\\c_0}\\substack{s_7\\\\c_5}}PS_{{\n",
      "u}_{s_4s_5}}PS_{{\\mu}_{s_2s_3}}\\gamma_{5_{s_0s_1}}\\gamma_{5_{s_6s_7}}\\\\\n",
      "d_{2}=1 D^{-1}(x_2t_2\\mid x_3t_3)_{\\substack{s_3\\\\c_2}\\substack{s_0\\\\c_0}}D^{-1}(x_0t_0\\mid x_2t_2)_{\\substack{s_6\\\\c_5}\\substack{s_2\\\\c_1}}D^{-1}(x_1t_1\\mid x_1t_1)_{\\substack{s_4\\\\c_3}\\substack{s_5\\\\c_4}}D^{-1}(x_3t_3\\mid x_0t_0)_{\\substack{s_1\\\\c_0}\\substack{s_7\\\\c_5}}PS_{{\n",
      "u}_{s_4s_5}}PS_{{\\mu}_{s_2s_3}}\\gamma_{5_{s_0s_1}}\\gamma_{5_{s_6s_7}}\\\\\n",
      "d_{3}=-1 D^{-1}(x_0t_0\\mid x_3t_3)_{\\substack{s_6\\\\c_5}\\substack{s_0\\\\c_0}}D^{-1}(x_2t_2\\mid x_2t_2)_{\\substack{s_3\\\\c_2}\\substack{s_2\\\\c_1}}D^{-1}(x_1t_1\\mid x_1t_1)_{\\substack{s_4\\\\c_3}\\substack{s_5\\\\c_4}}D^{-1}(x_3t_3\\mid x_0t_0)_{\\substack{s_1\\\\c_0}\\substack{s_7\\\\c_5}}PS_{{\n",
      "u}_{s_4s_5}}PS_{{\\mu}_{s_2s_3}}\\gamma_{5_{s_0s_1}}\\gamma_{5_{s_6s_7}}\\\\\n",
      "d_{4}=1 D^{-1}(x_1t_1\\mid x_3t_3)_{\\substack{s_4\\\\c_3}\\substack{s_0\\\\c_0}}D^{-1}(x_2t_2\\mid x_2t_2)_{\\substack{s_3\\\\c_2}\\substack{s_2\\\\c_1}}D^{-1}(x_0t_0\\mid x_1t_1)_{\\substack{s_6\\\\c_5}\\substack{s_5\\\\c_4}}D^{-1}(x_3t_3\\mid x_0t_0)_{\\substack{s_1\\\\c_0}\\substack{s_7\\\\c_5}}PS_{{\n",
      "u}_{s_4s_5}}PS_{{\\mu}_{s_2s_3}}\\gamma_{5_{s_0s_1}}\\gamma_{5_{s_6s_7}}\\\\\n",
      "d_{5}=-1 D^{-1}(x_2t_2\\mid x_3t_3)_{\\substack{s_3\\\\c_2}\\substack{s_0\\\\c_0}}D^{-1}(x_1t_1\\mid x_2t_2)_{\\substack{s_4\\\\c_3}\\substack{s_2\\\\c_1}}D^{-1}(x_0t_0\\mid x_1t_1)_{\\substack{s_6\\\\c_5}\\substack{s_5\\\\c_4}}D^{-1}(x_3t_3\\mid x_0t_0)_{\\substack{s_1\\\\c_0}\\substack{s_7\\\\c_5}}PS_{{\n",
      "u}_{s_4s_5}}PS_{{\\mu}_{s_2s_3}}\\gamma_{5_{s_0s_1}}\\gamma_{5_{s_6s_7}}\\\\\n",
      "d_{6}=-1 D^{-1}(x_0t_0\\mid x_3t_3)_{\\substack{s_6\\\\c_3}\\substack{s_0\\\\c_0}}D^{-1}(x_3t_3\\mid x_2t_2)_{\\substack{s_1\\\\c_0}\\substack{s_2\\\\c_1}}D^{-1}(x_2t_2\\mid x_1t_1)_{\\substack{s_3\\\\c_1}\\substack{s_5\\\\c_2}}D^{-1}(x_1t_1\\mid x_0t_0)_{\\substack{s_4\\\\c_2}\\substack{s_7\\\\c_3}}PS_{{\n",
      "u}_{s_4s_5}}PS_{{\\mu}_{s_2s_3}}\\gamma_{5_{s_0s_1}}\\gamma_{5_{s_6s_7}}\\\\\n",
      "d_{7}=-1 D^{-1}(x_0t_0\\mid x_3t_3)_{\\substack{s_6\\\\c_3}\\substack{s_0\\\\c_0}}D^{-1}(x_1t_1\\mid x_2t_2)_{\\substack{s_4\\\\c_2}\\substack{s_2\\\\c_1}}D^{-1}(x_3t_3\\mid x_1t_1)_{\\substack{s_1\\\\c_0}\\substack{s_5\\\\c_2}}D^{-1}(x_2t_2\\mid x_0t_0)_{\\substack{s_3\\\\c_1}\\substack{s_7\\\\c_3}}PS_{{\n",
      "u}_{s_4s_5}}PS_{{\\mu}_{s_2s_3}}\\gamma_{5_{s_0s_1}}\\gamma_{5_{s_6s_7}}\\\\\n",
      "d_{8}=1 D^{-1}(x_0t_0\\mid x_3t_3)_{\\substack{s_6\\\\c_3}\\substack{s_0\\\\c_0}}D^{-1}(x_1t_1\\mid x_2t_2)_{\\substack{s_4\\\\c_2}\\substack{s_2\\\\c_1}}D^{-1}(x_2t_2\\mid x_1t_1)_{\\substack{s_3\\\\c_1}\\substack{s_5\\\\c_2}}D^{-1}(x_3t_3\\mid x_0t_0)_{\\substack{s_1\\\\c_0}\\substack{s_7\\\\c_3}}PS_{{\n",
      "u}_{s_4s_5}}PS_{{\\mu}_{s_2s_3}}\\gamma_{5_{s_0s_1}}\\gamma_{5_{s_6s_7}}\\\\\n",
      "d_{9}=-1 D^{-1}(x_0t_0\\mid x_3t_3)_{\\substack{s_6\\\\c_3}\\substack{s_0\\\\c_0}}D^{-1}(x_2t_2\\mid x_2t_2)_{\\substack{s_3\\\\c_1}\\substack{s_2\\\\c_1}}D^{-1}(x_1t_1\\mid x_1t_1)_{\\substack{s_4\\\\c_2}\\substack{s_5\\\\c_2}}D^{-1}(x_3t_3\\mid x_0t_0)_{\\substack{s_1\\\\c_0}\\substack{s_7\\\\c_3}}PS_{{\n",
      "u}_{s_4s_5}}PS_{{\\mu}_{s_2s_3}}\\gamma_{5_{s_0s_1}}\\gamma_{5_{s_6s_7}}\\\\\n",
      "d_{10}=-1 D^{-1}(x_1t_1\\mid x_3t_3)_{\\substack{s_4\\\\c_2}\\substack{s_0\\\\c_0}}D^{-1}(x_3t_3\\mid x_2t_2)_{\\substack{s_1\\\\c_0}\\substack{s_2\\\\c_1}}D^{-1}(x_0t_0\\mid x_1t_1)_{\\substack{s_6\\\\c_3}\\substack{s_5\\\\c_2}}D^{-1}(x_2t_2\\mid x_0t_0)_{\\substack{s_3\\\\c_1}\\substack{s_7\\\\c_3}}PS_{{\n",
      "u}_{s_4s_5}}PS_{{\\mu}_{s_2s_3}}\\gamma_{5_{s_0s_1}}\\gamma_{5_{s_6s_7}}\\\\\n",
      "d_{11}=2 D^{-1}(x_0t_0\\mid x_3t_3)_{\\substack{s_6\\\\c_3}\\substack{s_0\\\\c_0}}D^{-1}(x_3t_3\\mid x_2t_2)_{\\substack{s_1\\\\c_0}\\substack{s_2\\\\c_1}}D^{-1}(x_1t_1\\mid x_1t_1)_{\\substack{s_4\\\\c_2}\\substack{s_5\\\\c_2}}D^{-1}(x_2t_2\\mid x_0t_0)_{\\substack{s_3\\\\c_1}\\substack{s_7\\\\c_3}}PS_{{\n",
      "u}_{s_4s_5}}PS_{{\\mu}_{s_2s_3}}\\gamma_{5_{s_0s_1}}\\gamma_{5_{s_6s_7}}\\\\\n",
      "d_{12}=1 D^{-1}(x_1t_1\\mid x_3t_3)_{\\substack{s_4\\\\c_2}\\substack{s_0\\\\c_0}}D^{-1}(x_2t_2\\mid x_2t_2)_{\\substack{s_3\\\\c_1}\\substack{s_2\\\\c_1}}D^{-1}(x_0t_0\\mid x_1t_1)_{\\substack{s_6\\\\c_3}\\substack{s_5\\\\c_2}}D^{-1}(x_3t_3\\mid x_0t_0)_{\\substack{s_1\\\\c_0}\\substack{s_7\\\\c_3}}PS_{{\n",
      "u}_{s_4s_5}}PS_{{\\mu}_{s_2s_3}}\\gamma_{5_{s_0s_1}}\\gamma_{5_{s_6s_7}}\\\\\n",
      "d_{13}=2 D^{-1}(x_0t_0\\mid x_3t_3)_{\\substack{s_6\\\\c_3}\\substack{s_0\\\\c_0}}D^{-1}(x_2t_2\\mid x_2t_2)_{\\substack{s_3\\\\c_1}\\substack{s_2\\\\c_1}}D^{-1}(x_3t_3\\mid x_1t_1)_{\\substack{s_1\\\\c_0}\\substack{s_5\\\\c_2}}D^{-1}(x_1t_1\\mid x_0t_0)_{\\substack{s_4\\\\c_2}\\substack{s_7\\\\c_3}}PS_{{\n",
      "u}_{s_4s_5}}PS_{{\\mu}_{s_2s_3}}\\gamma_{5_{s_0s_1}}\\gamma_{5_{s_6s_7}}\\\\\n",
      "d_{14}=-1 D^{-1}(x_2t_2\\mid x_3t_3)_{\\substack{s_3\\\\c_1}\\substack{s_0\\\\c_0}}D^{-1}(x_0t_0\\mid x_2t_2)_{\\substack{s_6\\\\c_3}\\substack{s_2\\\\c_1}}D^{-1}(x_3t_3\\mid x_1t_1)_{\\substack{s_1\\\\c_0}\\substack{s_5\\\\c_2}}D^{-1}(x_1t_1\\mid x_0t_0)_{\\substack{s_4\\\\c_2}\\substack{s_7\\\\c_3}}PS_{{\n",
      "u}_{s_4s_5}}PS_{{\\mu}_{s_2s_3}}\\gamma_{5_{s_0s_1}}\\gamma_{5_{s_6s_7}}\\\\\n",
      "d_{15}=1 D^{-1}(x_2t_2\\mid x_3t_3)_{\\substack{s_3\\\\c_1}\\substack{s_0\\\\c_0}}D^{-1}(x_0t_0\\mid x_2t_2)_{\\substack{s_6\\\\c_3}\\substack{s_2\\\\c_1}}D^{-1}(x_1t_1\\mid x_1t_1)_{\\substack{s_4\\\\c_2}\\substack{s_5\\\\c_2}}D^{-1}(x_3t_3\\mid x_0t_0)_{\\substack{s_1\\\\c_0}\\substack{s_7\\\\c_3}}PS_{{\n",
      "u}_{s_4s_5}}PS_{{\\mu}_{s_2s_3}}\\gamma_{5_{s_0s_1}}\\gamma_{5_{s_6s_7}}\\\\\n",
      "d_{16}=-2 D^{-1}(x_0t_0\\mid x_3t_3)_{\\substack{s_6\\\\c_3}\\substack{s_0\\\\c_0}}D^{-1}(x_2t_2\\mid x_2t_2)_{\\substack{s_3\\\\c_1}\\substack{s_2\\\\c_1}}D^{-1}(x_1t_1\\mid x_1t_1)_{\\substack{s_4\\\\c_2}\\substack{s_5\\\\c_2}}D^{-1}(x_3t_3\\mid x_0t_0)_{\\substack{s_1\\\\c_0}\\substack{s_7\\\\c_3}}PS_{{\n",
      "u}_{s_4s_5}}PS_{{\\mu}_{s_2s_3}}\\gamma_{5_{s_0s_1}}\\gamma_{5_{s_6s_7}}\\\\\n"
     ]
    }
   ],
   "source": [
    "for i,d in enumerate(t):\n",
    "    tmp='d_{'+str(i)+'}='+str(d.coef) + ' '\n",
    "    for p in d.props:\n",
    "        tmp+=p.latexStr()\n",
    "    for c in d.ci:\n",
    "        tmp+=latexStr(c)\n",
    "    print(tmp+'\\\\\\\\')"
   ]
  },
  {
   "cell_type": "code",
   "execution_count": null,
   "metadata": {},
   "outputs": [],
   "source": []
  },
  {
   "cell_type": "code",
   "execution_count": 14,
   "metadata": {},
   "outputs": [
    {
     "name": "stdout",
     "output_type": "stream",
     "text": [
      "d_0:  t_3->t_0   t_2->t_1   t_1->t_2   t_0->t_3   \n",
      "d_1:  t_3->t_1   t_2->t_0   t_1->t_2   t_0->t_3   \n",
      "d_2:  t_3->t_2   t_2->t_0   t_1->t_1   t_0->t_3   \n",
      "d_3:  t_3->t_0   t_2->t_2   t_1->t_1   t_0->t_3   \n",
      "d_4:  t_3->t_1   t_2->t_2   t_1->t_0   t_0->t_3   \n",
      "d_5:  t_3->t_2   t_2->t_1   t_1->t_0   t_0->t_3   \n",
      "d_6:  t_3->t_0   t_2->t_3   t_1->t_2   t_0->t_1   \n",
      "d_7:  t_3->t_0   t_2->t_1   t_1->t_3   t_0->t_2   \n",
      "d_8:  t_3->t_0   t_2->t_1   t_1->t_2   t_0->t_3   \n",
      "d_9:  t_3->t_0   t_2->t_2   t_1->t_1   t_0->t_3   \n",
      "d_10:  t_3->t_1   t_2->t_3   t_1->t_0   t_0->t_2   \n",
      "d_11:  t_3->t_0   t_2->t_3   t_1->t_1   t_0->t_2   \n",
      "d_12:  t_3->t_1   t_2->t_2   t_1->t_0   t_0->t_3   \n",
      "d_13:  t_3->t_0   t_2->t_2   t_1->t_3   t_0->t_1   \n",
      "d_14:  t_3->t_2   t_2->t_0   t_1->t_3   t_0->t_1   \n",
      "d_15:  t_3->t_2   t_2->t_0   t_1->t_1   t_0->t_3   \n",
      "d_16:  t_3->t_0   t_2->t_2   t_1->t_1   t_0->t_3   \n"
     ]
    }
   ],
   "source": [
    "for i,d in enumerate(t):\n",
    "    d_str='d_' + str(i) + ':  '\n",
    "    for p in d.props:\n",
    "        d_str+=p.tf + '->' + p.ti + '   '\n",
    "    print(d_str)"
   ]
  },
  {
   "cell_type": "code",
   "execution_count": null,
   "metadata": {},
   "outputs": [],
   "source": [
    "# d_0 -> z\n"
   ]
  }
 ],
 "metadata": {
  "kernelspec": {
   "display_name": "Python [conda env:LQCD] *",
   "language": "python",
   "name": "conda-env-LQCD-py"
  },
  "language_info": {
   "codemirror_mode": {
    "name": "ipython",
    "version": 3
   },
   "file_extension": ".py",
   "mimetype": "text/x-python",
   "name": "python",
   "nbconvert_exporter": "python",
   "pygments_lexer": "ipython3",
   "version": "3.8.5"
  }
 },
 "nbformat": 4,
 "nbformat_minor": 4
}
