{
 "cells": [
  {
   "cell_type": "code",
   "execution_count": 8,
   "metadata": {},
   "outputs": [],
   "source": [
    "import sys\n",
    "import os\n",
    "\n",
    "sys.path.append(os.getcwd()[:-9])\n",
    "\n",
    "from WickContractions.ops.operator import *\n",
    "from WickContractions.ops.elemental import *\n",
    "from WickContractions.ops.quarks import *\n",
    "from WickContractions.ops.commuting import *\n",
    "from WickContractions.diags.diagram import *\n",
    "from WickContractions.wick.utilities import *\n",
    "from WickContractions.wick.contract import *\n",
    "from WickContractions.laph.diagram import *\n",
    "\n",
    "\n",
    "#from KimmysCode import thing_that_makes_baryon"
   ]
  },
  {
   "cell_type": "code",
   "execution_count": 9,
   "metadata": {},
   "outputs": [],
   "source": [
    "#for term in thing_that_makes_baryon:\n",
    "    term.coef, term.flavors, term.Gamma\n",
    "    \n",
    "    # name SpinMatrix with flavor label.\n",
    "    # plug in quark label flavors\n",
    "    # add elemental operator to list\n",
    "    \n",
    "c0=EpsilonTensor(['c0','c1','c2','c3'])\n",
    "#c1=SpinMatrix('X1',['s0','s1'])\n",
    "#c2=SpinMatrix('X2',['s2','s3'])\n",
    "c1 = SpinMatrix('Gamma_uudd',['s0','s1','s2','s3'])\n",
    "c2 = SpinMatrix('Gamma_dduu',['s0','s1','s2','s3'])\n",
    "    \n",
    "q0u=Quark(False,'u','s0','c0','tf','x1')\n",
    "q1u=Quark(False,'u','s1','c1','tf','x1')\n",
    "q2d=Quark(False,'d','s2','c2','tf','x1')\n",
    "q3d=Quark(False,'d','s3','c3','tf','x1')\n",
    "\n",
    "q0d=Quark(False,'d','s0','c0','tf','x1')\n",
    "q1d=Quark(False,'d','s1','c1','tf','x1')\n",
    "q2u=Quark(False,'u','s2','c2','tf','x1')\n",
    "q3u=Quark(False,'u','s3','c3','tf','x1')\n",
    "\n",
    "\n",
    "annihilate_baryon = Operator(\n",
    "    [ElementalOperator(1,[c0,c1],[q0u,q1u,q2d,q3d]),\n",
    "     ElementalOperator(-1,[c0,c2],[q0d,q1d,q2u,q3u]),\n",
    "    ])\n",
    "\n",
    "\n",
    "### 0.5*uuuu*Gamma[0] + 0.2*uuud*Gamma[1] - 0.8*uudu*Gamma[2] + ...\n",
    "\n",
    "# Gamma[i] is filled with ones/zeros.  Hopefully related to \\gamma matrices.\n",
    "\n",
    "\n",
    "#C(t) = B_uudd*B_uudd + B_uudd*B_dduu  \n",
    "\n",
    "\n",
    "#IF B_uudd=dduu\n",
    "\n",
    "#C(t) = 2*B_uudd*B_dduu\n",
    "\n",
    "\n",
    "\n",
    "c6=EpsilonTensor(['c8','c9','c10','c11'])\n",
    "c7=SpinMatrix('X5',['s8','s9'])\n",
    "c8=SpinMatrix('X6',['s10','s11'])\n",
    "\n",
    "q6u=Quark(True,'u','s8','c8','ti','x2')\n",
    "q7u=Quark(True,'u','s9','c9','ti','x2')\n",
    "q8d=Quark(True,'d','s10','c10','ti','x2')\n",
    "q9d=Quark(True,'d','s11','c11','ti','x2')\n",
    "\n",
    "q6d=Quark(True,'d','s8','c8','ti','x2')\n",
    "q7d=Quark(True,'d','s9','c9','ti','x2')\n",
    "q8u=Quark(True,'u','s10','c10','ti','x2')\n",
    "q9u=Quark(True,'u','s11','c11','ti','x2')\n",
    "\n",
    "create_baryon = Operator(\n",
    "    [ElementalOperator(1,[c6,c7,c8],[q6u,q7u,q8d,q9d]),\n",
    "    ElementalOperator(-1,[c6,c7,c8],[q6d,q7d,q8u,q9u])])"
   ]
  },
  {
   "cell_type": "code",
   "execution_count": 10,
   "metadata": {},
   "outputs": [],
   "source": [
    "res = contract(annihilate_baryon, create_baryon)"
   ]
  },
  {
   "cell_type": "code",
   "execution_count": 11,
   "metadata": {},
   "outputs": [
    {
     "data": {
      "text/plain": [
       "16"
      ]
     },
     "execution_count": 11,
     "metadata": {},
     "output_type": "execute_result"
    }
   ],
   "source": [
    "len(res)"
   ]
  },
  {
   "cell_type": "code",
   "execution_count": 13,
   "metadata": {},
   "outputs": [
    {
     "name": "stdout",
     "output_type": "stream",
     "text": [
      "1.0 B*(Gamma_uudd,tf)_{0 1 2 3}B(X5,X6,ti)_{8 9 10 11}D^{-1}_{u}(tf,ti)_{0,8}D^{-1}_{u}(tf,ti)_{1,9}D^{-1}_{d}(tf,ti)_{2,10}D^{-1}_{d}(tf,ti)_{3,11}\n"
     ]
    },
    {
     "ename": "IndexError",
     "evalue": "list index out of range",
     "output_type": "error",
     "traceback": [
      "\u001b[0;31m---------------------------------------------------------------------------\u001b[0m",
      "\u001b[0;31mIndexError\u001b[0m                                Traceback (most recent call last)",
      "\u001b[0;32m<ipython-input-13-dd2e853cdd9d>\u001b[0m in \u001b[0;36m<module>\u001b[0;34m\u001b[0m\n\u001b[1;32m     11\u001b[0m \u001b[0;32mfor\u001b[0m \u001b[0md\u001b[0m \u001b[0;32min\u001b[0m \u001b[0mtst\u001b[0m\u001b[0;34m:\u001b[0m\u001b[0;34m\u001b[0m\u001b[0;34m\u001b[0m\u001b[0m\n\u001b[1;32m     12\u001b[0m     \u001b[0mprint\u001b[0m\u001b[0;34m(\u001b[0m\u001b[0md\u001b[0m\u001b[0;34m)\u001b[0m\u001b[0;34m\u001b[0m\u001b[0;34m\u001b[0m\u001b[0m\n\u001b[0;32m---> 13\u001b[0;31m     \u001b[0md\u001b[0m\u001b[0;34m.\u001b[0m\u001b[0mcreate_baryon_source\u001b[0m\u001b[0;34m(\u001b[0m\u001b[0;34m)\u001b[0m       \u001b[0;31m# not NC agnostic at the moment.\u001b[0m\u001b[0;34m\u001b[0m\u001b[0;34m\u001b[0m\u001b[0m\n\u001b[0m\u001b[1;32m     14\u001b[0m                                    \u001b[0;31m# not generalized to accomodate mesons + baryons\u001b[0m\u001b[0;34m\u001b[0m\u001b[0;34m\u001b[0m\u001b[0;34m\u001b[0m\u001b[0m\n\u001b[1;32m     15\u001b[0m     \u001b[0mprint\u001b[0m\u001b[0;34m(\u001b[0m\u001b[0;34m)\u001b[0m\u001b[0;34m\u001b[0m\u001b[0;34m\u001b[0m\u001b[0m\n",
      "\u001b[0;32m~/Code/LatticeQCD/WickContractions/WickContractions/laph/diagram.py\u001b[0m in \u001b[0;36mcreate_baryon_source\u001b[0;34m(self)\u001b[0m\n\u001b[1;32m     80\u001b[0m     \u001b[0;32mdef\u001b[0m \u001b[0mcreate_baryon_source\u001b[0m\u001b[0;34m(\u001b[0m\u001b[0mself\u001b[0m\u001b[0;34m)\u001b[0m\u001b[0;34m:\u001b[0m\u001b[0;34m\u001b[0m\u001b[0;34m\u001b[0m\u001b[0m\n\u001b[1;32m     81\u001b[0m         \u001b[0;32mfor\u001b[0m \u001b[0mb\u001b[0m \u001b[0;32min\u001b[0m \u001b[0mself\u001b[0m\u001b[0;34m.\u001b[0m\u001b[0mcommuting\u001b[0m\u001b[0;34m:\u001b[0m\u001b[0;34m\u001b[0m\u001b[0;34m\u001b[0m\u001b[0m\n\u001b[0;32m---> 82\u001b[0;31m             \u001b[0;32mif\u001b[0m \u001b[0mb\u001b[0m\u001b[0;34m.\u001b[0m\u001b[0marguments\u001b[0m\u001b[0;34m[\u001b[0m\u001b[0;36m2\u001b[0m\u001b[0;34m]\u001b[0m\u001b[0;34m==\u001b[0m\u001b[0;34m'tf'\u001b[0m\u001b[0;34m:\u001b[0m \u001b[0;31m#only if the baryon has 2 gammas, aka SU(4) only\u001b[0m\u001b[0;34m\u001b[0m\u001b[0;34m\u001b[0m\u001b[0m\n\u001b[0m\u001b[1;32m     83\u001b[0m                 \u001b[0;32mfor\u001b[0m \u001b[0mi\u001b[0m\u001b[0;34m,\u001b[0m\u001b[0mcontract_idx\u001b[0m \u001b[0;32min\u001b[0m \u001b[0menumerate\u001b[0m\u001b[0;34m(\u001b[0m\u001b[0mb\u001b[0m\u001b[0;34m.\u001b[0m\u001b[0mindices\u001b[0m\u001b[0;34m)\u001b[0m\u001b[0;34m:\u001b[0m\u001b[0;34m\u001b[0m\u001b[0;34m\u001b[0m\u001b[0m\n\u001b[1;32m     84\u001b[0m                     \u001b[0;32mfor\u001b[0m \u001b[0mprop\u001b[0m \u001b[0;32min\u001b[0m \u001b[0mself\u001b[0m\u001b[0;34m.\u001b[0m\u001b[0mprops\u001b[0m\u001b[0;34m:\u001b[0m\u001b[0;34m\u001b[0m\u001b[0;34m\u001b[0m\u001b[0m\n",
      "\u001b[0;31mIndexError\u001b[0m: list index out of range"
     ]
    }
   ],
   "source": [
    "#testing a more generic way to make blocks.\n",
    "for i in range(len(res)):\n",
    "    res[i]=LDiagram(res[i])\n",
    "\n",
    "tst=copy.deepcopy(res)\n",
    "for d in tst:\n",
    "    d.create_baryon_blocks()\n",
    "    #d.create_block('delta','M') # should allow this code to handle any number of mesons/baryons\n",
    "    d.short_props()\n",
    "    \n",
    "for d in tst:\n",
    "    print(d)\n",
    "    d.create_baryon_source()       # not NC agnostic at the moment.\n",
    "                                   # not generalized to accomodate mesons + baryons\n",
    "    print()"
   ]
  },
  {
   "cell_type": "code",
   "execution_count": null,
   "metadata": {},
   "outputs": [],
   "source": []
  }
 ],
 "metadata": {
  "kernelspec": {
   "display_name": "Python [conda env:LQCD] *",
   "language": "python",
   "name": "conda-env-LQCD-py"
  },
  "language_info": {
   "codemirror_mode": {
    "name": "ipython",
    "version": 3
   },
   "file_extension": ".py",
   "mimetype": "text/x-python",
   "name": "python",
   "nbconvert_exporter": "python",
   "pygments_lexer": "ipython3",
   "version": "3.8.5"
  }
 },
 "nbformat": 4,
 "nbformat_minor": 4
}
