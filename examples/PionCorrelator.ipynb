{
 "cells": [
  {
   "cell_type": "markdown",
   "metadata": {},
   "source": [
    "# Pion correlator"
   ]
  },
  {
   "cell_type": "code",
   "execution_count": 1,
   "metadata": {},
   "outputs": [],
   "source": [
    "import sys\n",
    "import os\n",
    "\n",
    "sys.path.append(os.getcwd()[:-9])\n",
    "\n",
    "from WickContractions.ops.operator import *\n",
    "from WickContractions.ops.elemental import *\n",
    "from WickContractions.ops.quarks import *\n",
    "from WickContractions.ops.indexed import *\n",
    "from WickContractions.ops.commuting import *\n",
    "\n",
    "from WickContractions.wick.contract import *"
   ]
  },
  {
   "cell_type": "code",
   "execution_count": 2,
   "metadata": {},
   "outputs": [],
   "source": [
    "# Creation operator for pion\n",
    "# ignore overall +/- sign\n",
    "\n",
    "q0=Quark(True,'u','s_0','c_0','x_0','t_0')\n",
    "q1=Quark(False,'d','s_1','c_1','x_0','t_0')\n",
    "g50=SpinMatrix('\\\\gamma^5',['s_0','s_1'])\n",
    "d0=IndexedObject('\\\\delta',['c_0','c_1'])\n",
    "\n",
    "createPion = Operator([\n",
    "                        ElementalOperator(1,[g50,d0],[q0,q1])\n",
    "                        ])"
   ]
  },
  {
   "cell_type": "code",
   "execution_count": 3,
   "metadata": {},
   "outputs": [],
   "source": [
    "# Annihilation operator for pion\n",
    "# ignore overall +/- sign\n",
    "q2=Quark(True,'d','s_2','c_2','x_1','t_1')\n",
    "q3=Quark(False,'u','s_3','c_3','x_1','t_1')\n",
    "g51=SpinMatrix('\\\\gamma^5',['s_2','s_3'])\n",
    "d1=IndexedObject('\\\\delta',['c_2','c_3'])\n",
    "\n",
    "destroyPion = Operator([\n",
    "                        ElementalOperator(1,[g51,d1],[q2,q3])\n",
    "                        ])"
   ]
  },
  {
   "cell_type": "code",
   "execution_count": 4,
   "metadata": {},
   "outputs": [],
   "source": [
    "pionDiagrams = contract(destroyPion, createPion)"
   ]
  },
  {
   "cell_type": "code",
   "execution_count": 5,
   "metadata": {},
   "outputs": [
    {
     "data": {
      "text/latex": [
       "$\\displaystyle -1.0 \\delta_{c_0 c_1}\\delta_{c_2 c_3}\\gamma^5_{s_0 s_1}\\gamma^5_{s_2 s_3}D^{-1}_{d}(t_0,x_0\\mid t_1,x_1)_{\\substack{s_1\\\\c_1}\\substack{s_2\\\\c_2}}D^{-1}_{u}(t_1,x_1\\mid t_0,x_0)_{\\substack{s_3\\\\c_3}\\substack{s_0\\\\c_0}}$"
      ],
      "text/plain": [
       "<IPython.core.display.Math object>"
      ]
     },
     "metadata": {},
     "output_type": "display_data"
    }
   ],
   "source": [
    "from IPython.display import display, Math\n",
    "for d in pionDiagrams:\n",
    "    display(Math(r\"{}\".format(str(d))))"
   ]
  },
  {
   "cell_type": "code",
   "execution_count": null,
   "metadata": {},
   "outputs": [],
   "source": []
  },
  {
   "cell_type": "code",
   "execution_count": null,
   "metadata": {},
   "outputs": [],
   "source": []
  }
 ],
 "metadata": {
  "kernelspec": {
   "display_name": "Python [conda env:LQCD] *",
   "language": "python",
   "name": "conda-env-LQCD-py"
  },
  "language_info": {
   "codemirror_mode": {
    "name": "ipython",
    "version": 3
   },
   "file_extension": ".py",
   "mimetype": "text/x-python",
   "name": "python",
   "nbconvert_exporter": "python",
   "pygments_lexer": "ipython3",
   "version": "3.8.5"
  }
 },
 "nbformat": 4,
 "nbformat_minor": 4
}
