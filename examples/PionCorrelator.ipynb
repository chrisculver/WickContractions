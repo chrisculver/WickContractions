{
 "cells": [
  {
   "cell_type": "markdown",
   "metadata": {},
   "source": [
    "# Pion correlator\n",
    "\n",
    "To show the code works correctly we first perform the contraction of the charged pion two point function.  \n",
    "\n",
    "The creation operator is \n",
    "$$\n",
    "    O^{\\dagger}(x_0,t_0) = \\delta_{c_0c_1}\\bar{u}_{s_0c_0}(x_0,t_0)\\gamma^5_{s_0s_1}d_{s_1c_2}(x_0,t_0)\n",
    "$$\n",
    "The annihilation operator is \n",
    "$$\n",
    "    O^{\\dagger}(x_t,t_f) = \\delta_{c_2c_3}\\bar{d}_{s_2c_2}(x_1,t_f)\\gamma^5_{s_2s_3}u_{s_3c_3}(x_1,t_f)\n",
    "$$\n",
    "\n",
    "The below code blocks import the necessary library classes, at the end we only need the `Operator` objects, `createPion` and `destroyPion`."
   ]
  },
  {
   "cell_type": "code",
   "execution_count": 9,
   "metadata": {},
   "outputs": [],
   "source": [
    "from WickContractions.ops.operator import Operator\n",
    "from WickContractions.ops.elemental import ElementalOperator\n",
    "from WickContractions.ops.quarks import Quark\n",
    "from WickContractions.ops.indexed import IndexedObject\n",
    "from WickContractions.ops.commuting import SpinMatrix\n",
    "\n",
    "# for pretty printing\n",
    "from IPython.display import display, Math\n",
    "\n",
    "pprint = lambda s : display(Math(r\"{}\".format(str(s))))"
   ]
  },
  {
   "cell_type": "code",
   "execution_count": 16,
   "metadata": {},
   "outputs": [
    {
     "data": {
      "text/latex": [
       "$\\displaystyle 1\\gamma^5_{s_0 s_1}\\delta_{c_0 c_1}\\bar{u}_{s_0 c_0}(t_0, x_0)d_{s_1 c_1}(t_0, x_0)$"
      ],
      "text/plain": [
       "<IPython.core.display.Math object>"
      ]
     },
     "metadata": {},
     "output_type": "display_data"
    }
   ],
   "source": [
    "# Creation operator for pion\n",
    "# ignore overall +/- sign\n",
    "\n",
    "q0=Quark(True,'u','s_0','c_0','x_0','t_0')\n",
    "q1=Quark(False,'d','s_1','c_1','x_0','t_0')\n",
    "g50=SpinMatrix('\\\\gamma^5',['s_0','s_1'])\n",
    "d0=IndexedObject('\\\\delta',['c_0','c_1'])\n",
    "\n",
    "createPion = Operator([\n",
    "                        ElementalOperator(1,[g50,d0],[q0,q1])\n",
    "                        ])\n",
    "pprint(createPion)"
   ]
  },
  {
   "cell_type": "code",
   "execution_count": 17,
   "metadata": {},
   "outputs": [
    {
     "data": {
      "text/latex": [
       "$\\displaystyle 1\\gamma^5_{s_2 s_3}\\delta_{c_2 c_3}\\bar{d}_{s_2 c_2}(t_f, x_1)u_{s_3 c_3}(t_f, x_1)$"
      ],
      "text/plain": [
       "<IPython.core.display.Math object>"
      ]
     },
     "metadata": {},
     "output_type": "display_data"
    }
   ],
   "source": [
    "# Annihilation operator for pion\n",
    "# overall sign is +1 since gamma^4 gamma^5 gamma^4 = - gamma^5\n",
    "\n",
    "q2=Quark(True,'d','s_2','c_2','x_1','t_f')\n",
    "q3=Quark(False,'u','s_3','c_3','x_1','t_f')\n",
    "g51=SpinMatrix('\\\\gamma^5',['s_2','s_3'])\n",
    "d1=IndexedObject('\\\\delta',['c_2','c_3'])\n",
    "\n",
    "destroyPion = Operator([\n",
    "                        ElementalOperator(1,[g51,d1],[q2,q3])\n",
    "                        ])\n",
    "pprint(destroyPion)"
   ]
  },
  {
   "cell_type": "markdown",
   "metadata": {},
   "source": [
    "Now we can compute the correlator of the pion two point function"
   ]
  },
  {
   "cell_type": "code",
   "execution_count": 12,
   "metadata": {},
   "outputs": [],
   "source": [
    "from WickContractions.wick.contract import contract\n",
    "\n",
    "pionCorrelator = contract(destroyPion, createPion)\n"
   ]
  },
  {
   "cell_type": "markdown",
   "metadata": {},
   "source": [
    "We can directly access the diagrams of the correlation function."
   ]
  },
  {
   "cell_type": "code",
   "execution_count": 13,
   "metadata": {},
   "outputs": [
    {
     "data": {
      "text/latex": [
       "$\\displaystyle -1.0 \\delta_{c_0 c_1}\\delta_{c_2 c_3}\\gamma^5_{s_0 s_1}\\gamma^5_{s_2 s_3}D^{-1}_{d}(t_0,x_0\\mid t_f,x_1)_{\\substack{s_1\\\\c_1}\\substack{s_2\\\\c_2}}D^{-1}_{u}(t_f,x_1\\mid t_0,x_0)_{\\substack{s_3\\\\c_3}\\substack{s_0\\\\c_0}}$"
      ],
      "text/plain": [
       "<IPython.core.display.Math object>"
      ]
     },
     "metadata": {},
     "output_type": "display_data"
    }
   ],
   "source": [
    "for d in pionCorrelator.diagrams:\n",
    "    pprint(d)"
   ]
  },
  {
   "cell_type": "markdown",
   "metadata": {},
   "source": [
    "## LapH\n",
    "\n",
    "There are also utilities to help when performing LapH calculations.  First we can convert all of the correlator diagrams to their LapH version.  \n",
    "\n",
    "WORK IN PROGRESS"
   ]
  },
  {
   "cell_type": "code",
   "execution_count": 15,
   "metadata": {},
   "outputs": [
    {
     "data": {
      "text/latex": [
       "$\\displaystyle -1.0 \\delta_{c_0 c_1}\\delta_{c_2 c_3}\\gamma^5_{s_0 s_1}\\gamma^5_{s_2 s_3}V*(t_0,x_0)_{c_1 l_1}V(t_f,x_1)_{c_2 l_2}V*(t_f,x_1)_{c_3 l_3}V(t_0,x_0)_{c_0 l_0}\\tau(t_0,x_0\\mid t_f,x_1)_{\\substack{s_1\\\\l_1}\\substack{s_2\\\\l_2}}\\tau(t_f,x_1\\mid t_0,x_0)_{\\substack{s_3\\\\l_3}\\substack{s_0\\\\l_0}}$"
      ],
      "text/plain": [
       "<IPython.core.display.Math object>"
      ]
     },
     "metadata": {},
     "output_type": "display_data"
    },
    {
     "data": {
      "text/latex": [
       "$\\displaystyle -1.0 \\gamma^5_{s_0 s_1}\\gamma^5_{s_2 s_3}T(t_f,x_1)_{l_2 l_3}T(t_0,x_0)_{l_0 l_1}\\tau(t_0,x_0\\mid t_f,x_1)_{\\substack{s_1\\\\l_1}\\substack{s_2\\\\l_2}}\\tau(t_f,x_1\\mid t_0,x_0)_{\\substack{s_3\\\\l_3}\\substack{s_0\\\\l_0}}$"
      ],
      "text/plain": [
       "<IPython.core.display.Math object>"
      ]
     },
     "metadata": {},
     "output_type": "display_data"
    },
    {
     "data": {
      "text/latex": [
       "$\\displaystyle -1.0 B(t_f,x_1,\\gamma^5)_{l_2 l_3 s_2 s_3}B(t_0,x_0,\\gamma^5)_{l_0 l_1 s_0 s_1}\\tau(t_0,x_0\\mid t_f,x_1)_{\\substack{s_1\\\\l_1}\\substack{s_2\\\\l_2}}\\tau(t_f,x_1\\mid t_0,x_0)_{\\substack{s_3\\\\l_3}\\substack{s_0\\\\l_0}}$"
      ],
      "text/plain": [
       "<IPython.core.display.Math object>"
      ]
     },
     "metadata": {},
     "output_type": "display_data"
    },
    {
     "data": {
      "text/latex": [
       "$\\displaystyle -1.0 B(t_f,x_1,\\gamma^5)_{2 3}B(t_0,x_0,\\gamma^5)_{0 1}\\tau(x_0,x_1)_{1,2}\\tau(x_1,x_0)_{3,0}$"
      ],
      "text/plain": [
       "<IPython.core.display.Math object>"
      ]
     },
     "metadata": {},
     "output_type": "display_data"
    },
    {
     "data": {
      "text/latex": [
       "$\\displaystyle -1.0 B(t_f,x_1,\\gamma^5)_{2 3}B(t_0,x_0,\\gamma^5)_{0 1}\\tau(x_0,x_1)_{1,2}\\tau(x_1,x_0)_{3,0}$"
      ],
      "text/plain": [
       "<IPython.core.display.Math object>"
      ]
     },
     "metadata": {},
     "output_type": "display_data"
    }
   ],
   "source": [
    "from WickContractions.laph.diagram import LDiagram\n",
    "pionCorrelator = contract(destroyPion, createPion)\n",
    "for d in pionCorrelator.diagrams:\n",
    "    d=LDiagram(d)\n",
    "    pprint(d)\n",
    "    d.create_T_blocks()\n",
    "    pprint(d)\n",
    "    d.create_baryon_blocks()\n",
    "    pprint(d)\n",
    "    d.combine_indices()\n",
    "    pprint(d)\n",
    "    d.create_baryon_source()\n",
    "    pprint(d)"
   ]
  },
  {
   "cell_type": "code",
   "execution_count": null,
   "metadata": {},
   "outputs": [],
   "source": []
  },
  {
   "cell_type": "code",
   "execution_count": null,
   "metadata": {},
   "outputs": [],
   "source": []
  }
 ],
 "metadata": {
  "interpreter": {
   "hash": "c8d68fb5c21a4214dd5a6a13117f82199c640d7d02a884ddca486aa724deaf3c"
  },
  "kernelspec": {
   "display_name": "Python [conda env:LQCD] *",
   "language": "python",
   "name": "python3"
  },
  "language_info": {
   "codemirror_mode": {
    "name": "ipython",
    "version": 3
   },
   "file_extension": ".py",
   "mimetype": "text/x-python",
   "name": "python",
   "nbconvert_exporter": "python",
   "pygments_lexer": "ipython3",
   "version": "3.10.6"
  }
 },
 "nbformat": 4,
 "nbformat_minor": 4
}
