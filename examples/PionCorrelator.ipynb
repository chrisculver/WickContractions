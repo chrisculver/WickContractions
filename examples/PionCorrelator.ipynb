{
 "cells": [
  {
   "cell_type": "markdown",
   "metadata": {},
   "source": [
    "# Pion correlator"
   ]
  },
  {
   "cell_type": "code",
   "execution_count": 1,
   "metadata": {},
   "outputs": [],
   "source": [
    "import sys\n",
    "import os\n",
    "\n",
    "sys.path.append(os.getcwd()[:-9])\n",
    "\n",
    "from WickContractions.ops.operator import *\n",
    "from WickContractions.ops.elemental import *\n",
    "from WickContractions.ops.quarks import *\n",
    "from WickContractions.ops.indexed import *\n",
    "from WickContractions.ops.commuting import *\n",
    "\n",
    "from WickContractions.wick.contract import *"
   ]
  },
  {
   "cell_type": "code",
   "execution_count": 2,
   "metadata": {},
   "outputs": [],
   "source": [
    "# Creation operator for pion\n",
    "# ignore overall +/- sign\n",
    "\n",
    "q0=Quark(True,'u','s_0','c_0','x_0','t_0')\n",
    "q1=Quark(False,'d','s_1','c_1','x_0','t_0')\n",
    "g50=SpinMatrix('\\\\gamma^5',['s_0','s_1'])\n",
    "d0=IndexedObject('\\\\delta',['c_0','c_1'])\n",
    "\n",
    "createPion = Operator([\n",
    "                        ElementalOperator(1,[g50,d0],[q0,q1])\n",
    "                        ])"
   ]
  },
  {
   "cell_type": "code",
   "execution_count": 3,
   "metadata": {},
   "outputs": [],
   "source": [
    "# Annihilation operator for pion\n",
    "# ignore overall +/- sign\n",
    "\n",
    "q2=Quark(True,'d','s_2','c_2','x_1','t_1')\n",
    "q3=Quark(False,'u','s_3','c_3','x_1','t_1')\n",
    "g51=SpinMatrix('\\\\gamma^5',['s_2','s_3'])\n",
    "d1=IndexedObject('\\\\delta',['c_2','c_3'])\n",
    "\n",
    "destroyPion = Operator([\n",
    "                        ElementalOperator(1,[g51,d1],[q2,q3])\n",
    "                        ])"
   ]
  },
  {
   "cell_type": "code",
   "execution_count": 4,
   "metadata": {},
   "outputs": [],
   "source": [
    "pionDiagrams = contract(destroyPion, createPion)"
   ]
  },
  {
   "cell_type": "code",
   "execution_count": 5,
   "metadata": {},
   "outputs": [
    {
     "ename": "TypeError",
     "evalue": "'Correlator' object is not iterable",
     "output_type": "error",
     "traceback": [
      "\u001b[0;31m---------------------------------------------------------------------------\u001b[0m",
      "\u001b[0;31mTypeError\u001b[0m                                 Traceback (most recent call last)",
      "\u001b[1;32m/home/chris/Code/LQCD/WickContractions/examples/PionCorrelator.ipynb Cell 6'\u001b[0m in \u001b[0;36m<cell line: 2>\u001b[0;34m()\u001b[0m\n\u001b[1;32m      <a href='vscode-notebook-cell:/home/chris/Code/LQCD/WickContractions/examples/PionCorrelator.ipynb#ch0000005?line=0'>1</a>\u001b[0m \u001b[39mfrom\u001b[39;00m \u001b[39mIPython\u001b[39;00m\u001b[39m.\u001b[39;00m\u001b[39mdisplay\u001b[39;00m \u001b[39mimport\u001b[39;00m display, Math\n\u001b[0;32m----> <a href='vscode-notebook-cell:/home/chris/Code/LQCD/WickContractions/examples/PionCorrelator.ipynb#ch0000005?line=1'>2</a>\u001b[0m \u001b[39mfor\u001b[39;00m d \u001b[39min\u001b[39;00m pionDiagrams:\n\u001b[1;32m      <a href='vscode-notebook-cell:/home/chris/Code/LQCD/WickContractions/examples/PionCorrelator.ipynb#ch0000005?line=2'>3</a>\u001b[0m     display(Math(\u001b[39mr\u001b[39m\u001b[39m\"\u001b[39m\u001b[39m{}\u001b[39;00m\u001b[39m\"\u001b[39m\u001b[39m.\u001b[39mformat(\u001b[39mstr\u001b[39m(d))))\n",
      "\u001b[0;31mTypeError\u001b[0m: 'Correlator' object is not iterable"
     ]
    }
   ],
   "source": [
    "from IPython.display import display, Math\n",
    "for d in pionDiagrams:\n",
    "    display(Math(r\"{}\".format(str(d))))"
   ]
  },
  {
   "cell_type": "code",
   "execution_count": null,
   "metadata": {},
   "outputs": [],
   "source": []
  },
  {
   "cell_type": "code",
   "execution_count": null,
   "metadata": {},
   "outputs": [],
   "source": []
  }
 ],
 "metadata": {
  "interpreter": {
   "hash": "c8d68fb5c21a4214dd5a6a13117f82199c640d7d02a884ddca486aa724deaf3c"
  },
  "kernelspec": {
   "display_name": "Python [conda env:LQCD] *",
   "language": "python",
   "name": "python3"
  },
  "language_info": {
   "codemirror_mode": {
    "name": "ipython",
    "version": 3
   },
   "file_extension": ".py",
   "mimetype": "text/x-python",
   "name": "python",
   "nbconvert_exporter": "python",
   "pygments_lexer": "ipython3",
   "version": "3.9.12"
  }
 },
 "nbformat": 4,
 "nbformat_minor": 4
}
