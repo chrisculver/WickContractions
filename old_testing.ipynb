{
 "cells": [
  {
   "cell_type": "code",
   "execution_count": null,
   "metadata": {},
   "outputs": [],
   "source": [
    "from src.operators import *\n",
    "from src.quarks import *\n",
    "from src.wick_utilities import *\n",
    "from src.wick_contract import *"
   ]
  },
  {
   "cell_type": "markdown",
   "metadata": {},
   "source": [
    "## Testing SU(4) Contractions"
   ]
  },
  {
   "cell_type": "code",
   "execution_count": 2,
   "metadata": {},
   "outputs": [
    {
     "name": "stdout",
     "output_type": "stream",
     "text": [
      "576\n"
     ]
    }
   ],
   "source": [
    "c0=Epsilon_Tensor(['c0','c1','c2','c3'])\n",
    "c1=Spin_Matrix('X1',['s0','s1'])\n",
    "c2=Spin_Matrix('X2',['s2','s3'])\n",
    "                  \n",
    "q0=Quark(False,'u','s0','c0','tf')\n",
    "q1=Quark(False,'u','s1','c1','tf')\n",
    "q2=Quark(False,'d','s2','c2','tf')\n",
    "q3=Quark(False,'d','s3','c3','tf')\n",
    "                                   \n",
    "c3=Epsilon_Tensor(['c4','c5','c6','c7'])  \n",
    "c4=Spin_Matrix('X3',['s4','s5'])\n",
    "c5=Spin_Matrix('X4',['s6','s7'])\n",
    "\n",
    "q4=Quark(False,'u','s4','c4','tf')\n",
    "q5=Quark(False,'u','s5','c5','tf')\n",
    "q6=Quark(False,'d','s6','c6','tf')\n",
    "q7=Quark(False,'d','s7','c7','tf')\n",
    "\n",
    "annihilate_baryon = Operator(1,[c0,c1,c2],[q0,q1,q2,q3])\n",
    "annihilate_two_baryons = Operator(1,[c0,c1,c2,c3,c4,c5],[q0,q1,q2,q3,q4,q5,q6,q7])\n",
    "\n",
    "c6=Epsilon_Tensor(['c8','c9','c10','c11'])\n",
    "c7=Spin_Matrix('X5',['s8','s9'])\n",
    "c8=Spin_Matrix('X6',['s10','s11'])\n",
    "\n",
    "q6=Quark(True,'u','s8','c8','ti')\n",
    "q7=Quark(True,'u','s9','c9','ti')\n",
    "q8=Quark(True,'d','s10','c10','ti')\n",
    "q9=Quark(True,'d','s11','c11','ti')\n",
    "\n",
    "\n",
    "c9=Epsilon_Tensor(['c12','c13','c14','c15'])\n",
    "c10=Spin_Matrix('X7',['s12','s13'])\n",
    "c11=Spin_Matrix('X8',['s14','s15'])\n",
    "\n",
    "q10=Quark(True,'u','s12','c12','ti')\n",
    "q11=Quark(True,'u','s13','c13','ti')\n",
    "q12=Quark(True,'d','s14','c14','ti')\n",
    "q13=Quark(True,'d','s15','c15','ti')\n",
    "\n",
    "create_baryon = Operator(1,[c6,c7,c8],[q6,q7,q8,q9])\n",
    "create_two_baryons = Operator(1,[c6,c7,c8,c9,c10,c11],[q6,q7,q8,q9,q10,q11,q12,q13])\n",
    "\n",
    "res=contract(annihilate_two_baryons, create_two_baryons)\n",
    "print(len(res))\n",
    "# The naive counting for number of diagrams is (4!)^2 = 576"
   ]
  },
  {
   "cell_type": "code",
   "execution_count": 3,
   "metadata": {},
   "outputs": [
    {
     "name": "stdout",
     "output_type": "stream",
     "text": [
      "1 X1_{s0s1}X2_{s2s3}X3_{s4s5}X4_{s6s7}X5_{s8s9}X6_{s10s11}X7_{s12s13}X8_{s14s15}eps_{c0c1c2c3}eps_{c12c13c14c15}eps_{c4c5c6c7}eps_{c8c9c10c11}pBwd_{c0c8s0s8}pBwd_{c1c9s1s9}pBwd_{c2c10s2s10}pBwd_{c3c11s3s11}pBwd_{c4c12s4s12}pBwd_{c5c13s5s13}pBwd_{c6c14s6s14}pBwd_{c7c15s7s15}\n",
      "\n",
      "-1 X1_{s0s1}X2_{s2s3}X3_{s4s5}X4_{s6s7}X5_{s8s9}X6_{s10s11}X7_{s12s13}X8_{s14s15}eps_{c0c1c2c3}eps_{c12c13c14c15}eps_{c4c5c6c7}eps_{c8c9c10c11}pBwd_{c0c9s0s9}pBwd_{c1c8s1s8}pBwd_{c2c10s2s10}pBwd_{c3c11s3s11}pBwd_{c4c12s4s12}pBwd_{c5c13s5s13}pBwd_{c6c14s6s14}pBwd_{c7c15s7s15}\n"
     ]
    }
   ],
   "source": [
    "print(res[0])\n",
    "print()\n",
    "print(res[1])"
   ]
  },
  {
   "cell_type": "code",
   "execution_count": 4,
   "metadata": {},
   "outputs": [
    {
     "name": "stdout",
     "output_type": "stream",
     "text": [
      "pBwd_{c0c8s0s8}     pBwd_{c0c9s0s9}\n",
      "pBwd_{c1c9s1s9}     pBwd_{c1c8s1s8}\n"
     ]
    }
   ],
   "source": [
    "# the only difference between these two diagrams is \n",
    "\n",
    "for i in range(0,len(res[0].ci)):\n",
    "    if(res[0].ci[i]!=res[1].ci[i]):\n",
    "        print(str(res[0].ci[i]) + '     ' + str(res[1].ci[i]))"
   ]
  },
  {
   "cell_type": "markdown",
   "metadata": {},
   "source": [
    "## Reducing number of diagrams"
   ]
  },
  {
   "cell_type": "markdown",
   "metadata": {},
   "source": [
    "From the above, these two diagrams are equivalent to each other, if we relabel c8s8 with c9s9.  These are just arbitrary labels since they are summed over. "
   ]
  },
  {
   "cell_type": "code",
   "execution_count": 5,
   "metadata": {},
   "outputs": [],
   "source": [
    "a=res[0]\n",
    "b=res[1]\n",
    "d=res[100]"
   ]
  },
  {
   "cell_type": "code",
   "execution_count": 6,
   "metadata": {},
   "outputs": [],
   "source": [
    "a_ci=a.ci\n",
    "b_ci=b.ci\n",
    "d_ci=d.ci"
   ]
  },
  {
   "cell_type": "code",
   "execution_count": 7,
   "metadata": {},
   "outputs": [
    {
     "name": "stdout",
     "output_type": "stream",
     "text": [
      "pBwd_{c0c8s0s8}\n",
      "pBwd_{c0c9s0s9}\n",
      "pBwd_{c1c9s1s9}\n",
      "pBwd_{c1c8s1s8}\n"
     ]
    }
   ],
   "source": [
    "import collections\n",
    "for i in range(0,len(a_ci)):\n",
    "    ac = a_ci[i]\n",
    "    bc = b_ci[i]\n",
    "    if(ac!=bc):\n",
    "        print(ac)\n",
    "        print(bc)"
   ]
  },
  {
   "cell_type": "code",
   "execution_count": 8,
   "metadata": {},
   "outputs": [
    {
     "name": "stdout",
     "output_type": "stream",
     "text": [
      "pBwd_{c0c8s0s8}\n",
      "pBwd_{c0c13s0s13}\n",
      "pBwd_{c2c10s2s10}\n",
      "pBwd_{c2c14s2s14}\n",
      "pBwd_{c5c13s5s13}\n",
      "pBwd_{c5c8s5s8}\n",
      "pBwd_{c6c14s6s14}\n",
      "pBwd_{c6c10s6s10}\n"
     ]
    }
   ],
   "source": [
    "for i in range(0,len(a_ci)):\n",
    "    ac = a_ci[i]\n",
    "    bc = d_ci[i]\n",
    "    if(ac!=bc):\n",
    "        print(ac)\n",
    "        print(bc)"
   ]
  },
  {
   "cell_type": "markdown",
   "metadata": {},
   "source": [
    "# Prop+Gamma -> QL"
   ]
  },
  {
   "cell_type": "code",
   "execution_count": 9,
   "metadata": {},
   "outputs": [],
   "source": [
    "#Start by ordering neighboring spins. "
   ]
  },
  {
   "cell_type": "markdown",
   "metadata": {},
   "source": [
    "# Baryon Blocks"
   ]
  },
  {
   "cell_type": "markdown",
   "metadata": {},
   "source": [
    "# Test conversions to code"
   ]
  },
  {
   "cell_type": "code",
   "execution_count": 10,
   "metadata": {},
   "outputs": [],
   "source": []
  },
  {
   "cell_type": "code",
   "execution_count": 11,
   "metadata": {},
   "outputs": [
    {
     "name": "stdout",
     "output_type": "stream",
     "text": [
      "for(size_t s0=0; s0<S; s0++)\n",
      "for(size_t s1=0; s1<S; s1++)\n",
      "for(size_t s2=0; s2<S; s2++)\n",
      "for(size_t s3=0; s3<S; s3++)\n",
      "for(size_t s4=0; s4<S; s4++)\n",
      "for(size_t s5=0; s5<S; s5++)\n",
      "for(size_t s6=0; s6<S; s6++)\n",
      "for(size_t s7=0; s7<S; s7++)\n",
      "for(size_t s8=0; s8<S; s8++)\n",
      "for(size_t s9=0; s9<S; s9++)\n",
      "for(size_t s10=0; s10<S; s10++)\n",
      "for(size_t s11=0; s11<S; s11++)\n",
      "for(size_t s12=0; s12<S; s12++)\n",
      "for(size_t s13=0; s13<S; s13++)\n",
      "for(size_t s14=0; s14<S; s14++)\n",
      "for(size_t s15=0; s15<S; s15++)\n",
      "for(size_t l0=0; l0<L; l0++)\n",
      "for(size_t l1=0; l1<L; l1++)\n",
      "for(size_t l2=0; l2<L; l2++)\n",
      "for(size_t l3=0; l3<L; l3++)\n",
      "for(size_t l12=0; l12<L; l12++)\n",
      "for(size_t l13=0; l13<L; l13++)\n",
      "for(size_t l14=0; l14<L; l14++)\n",
      "for(size_t l15=0; l15<L; l15++)\n",
      "for(size_t l4=0; l4<L; l4++)\n",
      "for(size_t l5=0; l5<L; l5++)\n",
      "for(size_t l6=0; l6<L; l6++)\n",
      "for(size_t l7=0; l7<L; l7++)\n",
      "for(size_t l8=0; l8<L; l8++)\n",
      "for(size_t l9=0; l9<L; l9++)\n",
      "for(size_t l10=0; l10<L; l10++)\n",
      "for(size_t l11=0; l11<L; l11++)\n",
      "{\n",
      "res+=X1(s0,s1)*X2(s2,s3)*X3(s4,s5)*X4(s6,s7)*X5(s8,s9)*X6(s10,s11)*X7(s12,s13)*X8(s14,s15)*eps(l0,l1,l2,l3)*eps(l12,l13,l14,l15)*eps(l4,l5,l6,l7)*eps(l8,l9,l10,l11)*pBwd(l0,l8,s0,s8)*pBwd(l1,l9,s1,s9)*pBwd(l2,l10,s2,s10)*pBwd(l3,l11,s3,s11)*pBwd(l4,l12,s4,s12)*pBwd(l5,l13,s5,s13)*pBwd(l6,l14,s6,s14)*pBwd(l7,l15,s7,s15);\n",
      "}\n"
     ]
    }
   ],
   "source": [
    "#this also identifies the dummy indices could be used above.\n",
    "idx_occurences={}\n",
    "for c in a_ci:\n",
    "    for idx in c.indices:\n",
    "        if idx in idx_occurences:\n",
    "            idx_occurences[idx]+=1\n",
    "        else:\n",
    "            idx_occurences[idx]=1\n",
    "\n",
    "spin_sums=0\n",
    "color_sums=0\n",
    "for idx, num in idx_occurences.items():\n",
    "    if(num==2):\n",
    "        N=0\n",
    "        if(idx[0]=='s'):\n",
    "            N='S'\n",
    "            spin_sums+=1\n",
    "        if(idx[0]=='c'):\n",
    "            idx=idx.replace('c','l') # color and space smeared by LapH\n",
    "            N='L' #only in SU(4)\n",
    "            color_sums+=1\n",
    "        print(\"for(size_t \"+idx+\"=0; \"+idx+\"<\"+str(N)+\"; \"+idx+\"++)\")\n",
    "        \n",
    "#print(spin_sums)\n",
    "#print(color_sums)\n",
    "print(\"{\")\n",
    "\n",
    "diag_str=\"res+=\"\n",
    "for c in range(0,len(a_ci)):\n",
    "    idx_str=\"\"\n",
    "    for i in range(0,len(a_ci[c].indices)):\n",
    "        idx_str+=a_ci[c].indices[i]\n",
    "        if(i!=len(a_ci[c].indices)-1):\n",
    "            idx_str+=\",\"\n",
    "    name = a_ci[c].name\n",
    "    diag_str+=name+\"(\"+idx_str.replace('c','l')+\")\"\n",
    "    if(c!=len(a_ci)-1):\n",
    "        diag_str+=\"*\"\n",
    "    else:\n",
    "        diag_str+=\";\"\n",
    "print(diag_str)\n",
    "print(\"}\")"
   ]
  },
  {
   "cell_type": "code",
   "execution_count": null,
   "metadata": {},
   "outputs": [],
   "source": []
  },
  {
   "cell_type": "code",
   "execution_count": null,
   "metadata": {},
   "outputs": [],
   "source": []
  },
  {
   "cell_type": "code",
   "execution_count": 12,
   "metadata": {},
   "outputs": [],
   "source": [
    "#this also identifies the dummy indices could be used above.\n",
    "idx_occurences={}\n",
    "for c in a_ci:\n",
    "    for idx in c.indices:\n",
    "        if idx in idx_occurences:\n",
    "            idx_occurences[idx].append(c)\n",
    "        else:\n",
    "            idx_occurences[idx]=[c]"
   ]
  },
  {
   "cell_type": "code",
   "execution_count": 13,
   "metadata": {},
   "outputs": [
    {
     "name": "stdout",
     "output_type": "stream",
     "text": [
      "einsum<Index<s0,s1>,Index<c0,c8,s0,s8>>(X1,pBwd);\n",
      "einsum<Index<s0,s1>,Index<c1,c9,s1,s9>>(X1,pBwd);\n",
      "einsum<Index<s2,s3>,Index<c2,c10,s2,s10>>(X2,pBwd);\n",
      "einsum<Index<s2,s3>,Index<c3,c11,s3,s11>>(X2,pBwd);\n",
      "einsum<Index<s4,s5>,Index<c4,c12,s4,s12>>(X3,pBwd);\n",
      "einsum<Index<s4,s5>,Index<c5,c13,s5,s13>>(X3,pBwd);\n",
      "einsum<Index<s6,s7>,Index<c6,c14,s6,s14>>(X4,pBwd);\n",
      "einsum<Index<s6,s7>,Index<c7,c15,s7,s15>>(X4,pBwd);\n",
      "einsum<Index<s8,s9>,Index<c0,c8,s0,s8>>(X5,pBwd);\n",
      "einsum<Index<s8,s9>,Index<c1,c9,s1,s9>>(X5,pBwd);\n",
      "einsum<Index<s10,s11>,Index<c2,c10,s2,s10>>(X6,pBwd);\n",
      "einsum<Index<s10,s11>,Index<c3,c11,s3,s11>>(X6,pBwd);\n",
      "einsum<Index<s12,s13>,Index<c4,c12,s4,s12>>(X7,pBwd);\n",
      "einsum<Index<s12,s13>,Index<c5,c13,s5,s13>>(X7,pBwd);\n",
      "einsum<Index<s14,s15>,Index<c6,c14,s6,s14>>(X8,pBwd);\n",
      "einsum<Index<s14,s15>,Index<c7,c15,s7,s15>>(X8,pBwd);\n",
      "einsum<Index<c0,c1,c2,c3>,Index<c0,c8,s0,s8>>(eps,pBwd);\n",
      "einsum<Index<c0,c1,c2,c3>,Index<c1,c9,s1,s9>>(eps,pBwd);\n",
      "einsum<Index<c0,c1,c2,c3>,Index<c2,c10,s2,s10>>(eps,pBwd);\n",
      "einsum<Index<c0,c1,c2,c3>,Index<c3,c11,s3,s11>>(eps,pBwd);\n",
      "einsum<Index<c12,c13,c14,c15>,Index<c4,c12,s4,s12>>(eps,pBwd);\n",
      "einsum<Index<c12,c13,c14,c15>,Index<c5,c13,s5,s13>>(eps,pBwd);\n",
      "einsum<Index<c12,c13,c14,c15>,Index<c6,c14,s6,s14>>(eps,pBwd);\n",
      "einsum<Index<c12,c13,c14,c15>,Index<c7,c15,s7,s15>>(eps,pBwd);\n",
      "einsum<Index<c4,c5,c6,c7>,Index<c4,c12,s4,s12>>(eps,pBwd);\n",
      "einsum<Index<c4,c5,c6,c7>,Index<c5,c13,s5,s13>>(eps,pBwd);\n",
      "einsum<Index<c4,c5,c6,c7>,Index<c6,c14,s6,s14>>(eps,pBwd);\n",
      "einsum<Index<c4,c5,c6,c7>,Index<c7,c15,s7,s15>>(eps,pBwd);\n",
      "einsum<Index<c8,c9,c10,c11>,Index<c0,c8,s0,s8>>(eps,pBwd);\n",
      "einsum<Index<c8,c9,c10,c11>,Index<c1,c9,s1,s9>>(eps,pBwd);\n",
      "einsum<Index<c8,c9,c10,c11>,Index<c2,c10,s2,s10>>(eps,pBwd);\n",
      "einsum<Index<c8,c9,c10,c11>,Index<c3,c11,s3,s11>>(eps,pBwd);\n"
     ]
    }
   ],
   "source": [
    "for idx in idx_occurences:\n",
    "    line=\"einsum<Index<\"\n",
    "    elem = idx_occurences[idx][0]\n",
    "    line+=elem.FastorIndices()+\">,Index<\"\n",
    "    elem = idx_occurences[idx][1]\n",
    "    line+=elem.FastorIndices()+\">>(\"\n",
    "    elem = idx_occurences[idx][0]\n",
    "    line+=elem.name+\",\"\n",
    "    elem = idx_occurences[idx][1]\n",
    "    line+=elem.name+\");\"\n",
    "    print(line)\n",
    "        "
   ]
  },
  {
   "cell_type": "code",
   "execution_count": 18,
   "metadata": {},
   "outputs": [
    {
     "name": "stdout",
     "output_type": "stream",
     "text": [
      "X1_{s0s1}\n"
     ]
    }
   ],
   "source": [
    "start=a_ci[0]\n",
    "print(start)\n",
    "\n",
    "def str_einsum_line(elem1, elem2):\n",
    "        line=\"einsum<Index<\"\n",
    "        line+=elem1.FastorIndices()+\">,Index<\"\n",
    "        line+=elem2.FastorIndices()+\">>(\"\n",
    "        line+=elem1.name+\",\"\n",
    "        line+=elem2.name+\");\"\n",
    "        return line"
   ]
  },
  {
   "cell_type": "code",
   "execution_count": 80,
   "metadata": {},
   "outputs": [],
   "source": [
    "import copy\n",
    "\n",
    "contractions = copy.deepcopy(a_ci)\n",
    "#for x in a_ci[1:]:\n",
    "#    if(start.indices[1] in x.indices):\n",
    "#        print(str_einsum_line(start, x))\n",
    "#        contractions.remove(start)\n",
    "#        contractions.remove(x)\n",
    "#        leftover_indices=(start.indices+x.indices)\n",
    "#        leftover_indices.remove(start.indices[1])\n",
    "#        contractions.append(Indexed_Object('tmp',leftover_indices))"
   ]
  },
  {
   "cell_type": "code",
   "execution_count": 81,
   "metadata": {},
   "outputs": [
    {
     "name": "stdout",
     "output_type": "stream",
     "text": [
      "enum {s0,s1,s2,s3,s4,s5,s6,s7,s8,s9,s10,s11,s12,s13,s14,s15,c0,c1,c2,c3,c12,c13,c14,c15,c4,c5,c6,c7,c8,c9,c10,c11};\n"
     ]
    }
   ],
   "source": [
    "#for c in contractions:\n",
    "#    print(c)\n",
    "\n",
    "all_indices=[]\n",
    "for c in contractions:\n",
    "    for idx in c.indices:\n",
    "        if idx not in all_indices:\n",
    "            all_indices.append(idx)\n",
    "            \n",
    "enumStr='enum {'\n",
    "for idx in all_indices[:-1]:\n",
    "    enumStr+=idx+','\n",
    "print(enumStr+all_indices[-1]+'};')"
   ]
  },
  {
   "cell_type": "code",
   "execution_count": 82,
   "metadata": {},
   "outputs": [
    {
     "name": "stdout",
     "output_type": "stream",
     "text": [
      "auto QLpBwd0 = einsum<Index<s0,s1>,Index<c0,c8,s0,s8>>(X1,pBwd);\n",
      "auto QLpBwd1 = einsum<Index<s2,s3>,Index<c2,c10,s2,s10>>(X2,pBwd);\n",
      "auto QLpBwd2 = einsum<Index<s4,s5>,Index<c4,c12,s4,s12>>(X3,pBwd);\n",
      "auto QLpBwd3 = einsum<Index<s6,s7>,Index<c6,c14,s6,s14>>(X4,pBwd);\n",
      "auto QLpBwd4 = einsum<Index<s8,s9>,Index<c1,c9,s1,s9>>(X5,pBwd);\n",
      "auto QLpBwd5 = einsum<Index<s10,s11>,Index<c3,c11,s3,s11>>(X6,pBwd);\n",
      "auto QLpBwd6 = einsum<Index<s12,s13>,Index<c5,c13,s5,s13>>(X7,pBwd);\n",
      "auto QLpBwd7 = einsum<Index<s14,s15>,Index<c7,c15,s7,s15>>(X8,pBwd);\n"
     ]
    }
   ],
   "source": [
    "# Make quark lines\n",
    "import copy\n",
    "\n",
    "contractions = copy.deepcopy(a_ci)\n",
    "\n",
    "gammas = [elem for elem in contractions if type(elem)==Spin_Matrix]\n",
    "for g in gammas:\n",
    "    contractions.remove(g)\n",
    "idx=0\n",
    "for g in gammas:\n",
    "    for elem in contractions:\n",
    "        if (g.indices[0] in elem.indices) and (elem.name[:2]!='QL'):\n",
    "            contractions.remove(elem)\n",
    "            tensorIndices = list(filter(g.indices[0].__ne__,(g.indices + elem.indices)))\n",
    "            tensorName = 'QL'+elem.name+str(idx)\n",
    "            contractions.append(Indexed_Object(tensorName,tensorIndices))\n",
    "            print(\"auto \"+tensorName+\" = \"+str_einsum_line(g,elem))\n",
    "            idx+=1\n",
    "        elif (g.indices[1] in elem.indices) and (elem.name[:2]!='QL'):\n",
    "            contractions.remove(elem)\n",
    "            tensorIndices = list(filter(g.indices[1].__ne__,(g.indices + elem.indices)))\n",
    "            tensorName = 'QL'+elem.name+str(idx)\n",
    "            contractions.append(Indexed_Object(tensorName,tensorIndices))          \n",
    "            print(\"auto \"+tensorName+\" = \"+str_einsum_line(g,elem))\n",
    "            idx+=1"
   ]
  },
  {
   "cell_type": "code",
   "execution_count": 83,
   "metadata": {},
   "outputs": [
    {
     "name": "stdout",
     "output_type": "stream",
     "text": [
      "eps_{c0c1c2c3}\n",
      "eps_{c12c13c14c15}\n",
      "eps_{c4c5c6c7}\n",
      "eps_{c8c9c10c11}\n",
      "QLpBwd0_{s1c0c8s8}\n",
      "QLpBwd1_{s3c2c10s10}\n",
      "QLpBwd2_{s5c4c12s12}\n",
      "QLpBwd3_{s7c6c14s14}\n",
      "QLpBwd4_{s8c1c9s1}\n",
      "QLpBwd5_{s10c3c11s3}\n",
      "QLpBwd6_{s12c5c13s5}\n",
      "QLpBwd7_{s14c7c15s7}\n"
     ]
    }
   ],
   "source": [
    "for elem in contractions:\n",
    "    print(elem)"
   ]
  },
  {
   "cell_type": "code",
   "execution_count": null,
   "metadata": {},
   "outputs": [],
   "source": []
  },
  {
   "cell_type": "code",
   "execution_count": null,
   "metadata": {},
   "outputs": [],
   "source": [
    "#Sum over remaining spins\n",
    "\n"
   ]
  }
 ],
 "metadata": {
  "kernelspec": {
   "display_name": "Python [conda env:LQCD] *",
   "language": "python",
   "name": "conda-env-LQCD-py"
  },
  "language_info": {
   "codemirror_mode": {
    "name": "ipython",
    "version": 3
   },
   "file_extension": ".py",
   "mimetype": "text/x-python",
   "name": "python",
   "nbconvert_exporter": "python",
   "pygments_lexer": "ipython3",
   "version": "3.8.5"
  }
 },
 "nbformat": 4,
 "nbformat_minor": 4
}
