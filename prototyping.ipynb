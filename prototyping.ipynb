{
 "cells": [
  {
   "cell_type": "code",
   "execution_count": 1,
   "metadata": {},
   "outputs": [],
   "source": [
    "from src.operators import *\n",
    "from src.quarks import *\n",
    "from src.wick_utilities import *\n",
    "from src.wick_contract import *"
   ]
  },
  {
   "cell_type": "markdown",
   "metadata": {},
   "source": [
    "## Testing SU(4) Contractions"
   ]
  },
  {
   "cell_type": "code",
   "execution_count": 2,
   "metadata": {},
   "outputs": [
    {
     "name": "stdout",
     "output_type": "stream",
     "text": [
      "576\n"
     ]
    }
   ],
   "source": [
    "c0=Epsilon_Tensor(['c0','c1','c2','c3'])\n",
    "c1=Spin_Matrix('X1',['s0','s1','p0'])\n",
    "c2=Spin_Matrix('X2',['s2','s3','p0'])\n",
    "                  \n",
    "q0=Quark(False,'u','s0','c0','tf')\n",
    "q1=Quark(False,'u','s1','c1','tf')\n",
    "q2=Quark(False,'d','s2','c2','tf')\n",
    "q3=Quark(False,'d','s3','c3','tf')\n",
    "                                   \n",
    "c3=Epsilon_Tensor(['c4','c5','c6','c7'])  \n",
    "c4=Spin_Matrix('X3',['s4','s5','p0'])\n",
    "c5=Spin_Matrix('X4',['s6','s7','p0'])\n",
    "\n",
    "q4=Quark(False,'u','s4','c4','tf')\n",
    "q5=Quark(False,'u','s5','c5','tf')\n",
    "q6=Quark(False,'d','s6','c6','tf')\n",
    "q7=Quark(False,'d','s7','c7','tf')\n",
    "\n",
    "annihilate_baryon = Operator(1,[c0,c1,c2],[q0,q1,q2,q3])\n",
    "annihilate_two_baryons = Operator(1,[c0,c1,c2,c3,c4,c5],[q0,q1,q2,q3,q4,q5,q6,q7])\n",
    "\n",
    "c6=Epsilon_Tensor(['c8','c9','c10','c11'])\n",
    "c7=Spin_Matrix('X5',['s8','s9','p0'])\n",
    "c8=Spin_Matrix('X6',['s10','s11','p0'])\n",
    "\n",
    "q6=Quark(True,'u','s8','c8','ti')\n",
    "q7=Quark(True,'u','s9','c9','ti')\n",
    "q8=Quark(True,'d','s10','c10','ti')\n",
    "q9=Quark(True,'d','s11','c11','ti')\n",
    "\n",
    "\n",
    "c9=Epsilon_Tensor(['c12','c13','c14','c15'])\n",
    "c10=Spin_Matrix('X7',['s12','s13','p0'])\n",
    "c11=Spin_Matrix('X8',['s14','s15','p0'])\n",
    "\n",
    "q10=Quark(True,'u','s12','c12','ti')\n",
    "q11=Quark(True,'u','s13','c13','ti')\n",
    "q12=Quark(True,'d','s14','c14','ti')\n",
    "q13=Quark(True,'d','s15','c15','ti')\n",
    "\n",
    "create_baryon = Operator(1,[c6,c7,c8],[q6,q7,q8,q9])\n",
    "create_two_baryons = Operator(1,[c6,c7,c8,c9,c10,c11],[q6,q7,q8,q9,q10,q11,q12,q13])\n",
    "\n",
    "res=contract(annihilate_two_baryons, create_two_baryons)\n",
    "print(len(res))\n",
    "# The naive counting for number of diagrams is (4!)^2 = 576"
   ]
  },
  {
   "cell_type": "code",
   "execution_count": 3,
   "metadata": {},
   "outputs": [
    {
     "name": "stdout",
     "output_type": "stream",
     "text": [
      "1 X1_{s0s1p0}X2_{s2s3p0}X3_{s4s5p0}X4_{s6s7p0}X5_{s8s9p0}X6_{s10s11p0}X7_{s12s13p0}X8_{s14s15p0}eps_{c0c1c2c3}eps_{c12c13c14c15}eps_{c4c5c6c7}eps_{c8c9c10c11}pBwd_{c0s0c8s8}pBwd_{c1s1c9s9}pBwd_{c2s2c10s10}pBwd_{c3s3c11s11}pBwd_{c4s4c12s12}pBwd_{c5s5c13s13}pBwd_{c6s6c14s14}pBwd_{c7s7c15s15}\n",
      "\n",
      "-1 X1_{s0s1p0}X2_{s2s3p0}X3_{s4s5p0}X4_{s6s7p0}X5_{s8s9p0}X6_{s10s11p0}X7_{s12s13p0}X8_{s14s15p0}eps_{c0c1c2c3}eps_{c12c13c14c15}eps_{c4c5c6c7}eps_{c8c9c10c11}pBwd_{c0s0c9s9}pBwd_{c1s1c8s8}pBwd_{c2s2c10s10}pBwd_{c3s3c11s11}pBwd_{c4s4c12s12}pBwd_{c5s5c13s13}pBwd_{c6s6c14s14}pBwd_{c7s7c15s15}\n"
     ]
    }
   ],
   "source": [
    "print(res[0])\n",
    "print()\n",
    "print(res[1])"
   ]
  },
  {
   "cell_type": "code",
   "execution_count": 4,
   "metadata": {},
   "outputs": [
    {
     "name": "stdout",
     "output_type": "stream",
     "text": [
      "pBwd_{c0s0c8s8}     pBwd_{c0s0c9s9}\n",
      "pBwd_{c1s1c9s9}     pBwd_{c1s1c8s8}\n"
     ]
    }
   ],
   "source": [
    "# the only difference between these two diagrams is \n",
    "\n",
    "for i in range(0,len(res[0].ci)):\n",
    "    if(res[0].ci[i]!=res[1].ci[i]):\n",
    "        print(str(res[0].ci[i]) + '     ' + str(res[1].ci[i]))"
   ]
  },
  {
   "cell_type": "markdown",
   "metadata": {},
   "source": [
    "## Reducing number of diagrams"
   ]
  },
  {
   "cell_type": "markdown",
   "metadata": {},
   "source": [
    "From the above, these two diagrams are equivalent to each other, if we relabel c8s8 with c9s9.  These are just arbitrary labels since they are summed over. "
   ]
  },
  {
   "cell_type": "code",
   "execution_count": 5,
   "metadata": {},
   "outputs": [],
   "source": [
    "a=res[0]\n",
    "b=res[1]\n",
    "d=res[100]"
   ]
  },
  {
   "cell_type": "code",
   "execution_count": 6,
   "metadata": {},
   "outputs": [],
   "source": [
    "a_ci=a.ci\n",
    "b_ci=b.ci\n",
    "d_ci=d.ci"
   ]
  },
  {
   "cell_type": "code",
   "execution_count": 7,
   "metadata": {},
   "outputs": [
    {
     "name": "stdout",
     "output_type": "stream",
     "text": [
      "pBwd_{c0s0c8s8}\n",
      "pBwd_{c0s0c9s9}\n",
      "pBwd_{c1s1c9s9}\n",
      "pBwd_{c1s1c8s8}\n"
     ]
    }
   ],
   "source": [
    "import collections\n",
    "for i in range(0,len(a_ci)):\n",
    "    ac = a_ci[i]\n",
    "    bc = b_ci[i]\n",
    "    if(ac!=bc):\n",
    "        print(ac)\n",
    "        print(bc)"
   ]
  },
  {
   "cell_type": "code",
   "execution_count": 8,
   "metadata": {},
   "outputs": [
    {
     "name": "stdout",
     "output_type": "stream",
     "text": [
      "pBwd_{c0s0c8s8}\n",
      "pBwd_{c0s0c13s13}\n",
      "pBwd_{c2s2c10s10}\n",
      "pBwd_{c2s2c14s14}\n",
      "pBwd_{c5s5c13s13}\n",
      "pBwd_{c5s5c8s8}\n",
      "pBwd_{c6s6c14s14}\n",
      "pBwd_{c6s6c10s10}\n"
     ]
    }
   ],
   "source": [
    "for i in range(0,len(a_ci)):\n",
    "    ac = a_ci[i]\n",
    "    bc = d_ci[i]\n",
    "    if(ac!=bc):\n",
    "        print(ac)\n",
    "        print(bc)"
   ]
  },
  {
   "cell_type": "markdown",
   "metadata": {},
   "source": [
    "# Prop+Gamma -> QL"
   ]
  },
  {
   "cell_type": "code",
   "execution_count": 9,
   "metadata": {},
   "outputs": [],
   "source": [
    "#Start by ordering neighboring spins. "
   ]
  },
  {
   "cell_type": "markdown",
   "metadata": {},
   "source": [
    "# Baryon Blocks"
   ]
  },
  {
   "cell_type": "markdown",
   "metadata": {},
   "source": [
    "# Test inefficient conversions to code"
   ]
  },
  {
   "cell_type": "code",
   "execution_count": 10,
   "metadata": {},
   "outputs": [
    {
     "name": "stdout",
     "output_type": "stream",
     "text": [
      "{'s0': 2, 's1': 2, 'p0': 8, 's2': 2, 's3': 2, 's4': 2, 's5': 2, 's6': 2, 's7': 2, 's8': 2, 's9': 2, 's10': 2, 's11': 2, 's12': 2, 's13': 2, 's14': 2, 's15': 2, 'c0': 2, 'c1': 2, 'c2': 2, 'c3': 2, 'c12': 2, 'c13': 2, 'c14': 2, 'c15': 2, 'c4': 2, 'c5': 2, 'c6': 2, 'c7': 2, 'c8': 2, 'c9': 2, 'c10': 2, 'c11': 2}\n"
     ]
    }
   ],
   "source": [
    "#this also identifies the dummy indices could be used above.\n",
    "idx_occurences={}\n",
    "for c in a_ci:\n",
    "    for idx in c.indices:\n",
    "        if idx in idx_occurences:\n",
    "            idx_occurences[idx]+=1\n",
    "        else:\n",
    "            idx_occurences[idx]=1\n",
    "print(idx_occurences)"
   ]
  },
  {
   "cell_type": "code",
   "execution_count": 11,
   "metadata": {},
   "outputs": [
    {
     "name": "stdout",
     "output_type": "stream",
     "text": [
      "for(int s0=0; s0<4; idx++)\n",
      "for(int s1=0; s1<4; idx++)\n",
      "for(int s2=0; s2<4; idx++)\n",
      "for(int s3=0; s3<4; idx++)\n",
      "for(int s4=0; s4<4; idx++)\n",
      "for(int s5=0; s5<4; idx++)\n",
      "for(int s6=0; s6<4; idx++)\n",
      "for(int s7=0; s7<4; idx++)\n",
      "for(int s8=0; s8<4; idx++)\n",
      "for(int s9=0; s9<4; idx++)\n",
      "for(int s10=0; s10<4; idx++)\n",
      "for(int s11=0; s11<4; idx++)\n",
      "for(int s12=0; s12<4; idx++)\n",
      "for(int s13=0; s13<4; idx++)\n",
      "for(int s14=0; s14<4; idx++)\n",
      "for(int s15=0; s15<4; idx++)\n",
      "for(int l0=0; l0<4; idx++)\n",
      "for(int l1=0; l1<4; idx++)\n",
      "for(int l2=0; l2<4; idx++)\n",
      "for(int l3=0; l3<4; idx++)\n",
      "for(int l12=0; l12<4; idx++)\n",
      "for(int l13=0; l13<4; idx++)\n",
      "for(int l14=0; l14<4; idx++)\n",
      "for(int l15=0; l15<4; idx++)\n",
      "for(int l4=0; l4<4; idx++)\n",
      "for(int l5=0; l5<4; idx++)\n",
      "for(int l6=0; l6<4; idx++)\n",
      "for(int l7=0; l7<4; idx++)\n",
      "for(int l8=0; l8<4; idx++)\n",
      "for(int l9=0; l9<4; idx++)\n",
      "for(int l10=0; l10<4; idx++)\n",
      "for(int l11=0; l11<4; idx++)\n",
      "{\n",
      "res+=X1(s0,s1,p0)*X2(s2,s3,p0)*X3(s4,s5,p0)*X4(s6,s7,p0)*X5(s8,s9,p0)*X6(s10,s11,p0)*X7(s12,s13,p0)*X8(s14,s15,p0)*eps(l0,l1,l2,l3)*eps(l12,l13,l14,l15)*eps(l4,l5,l6,l7)*eps(l8,l9,l10,l11)*pBwd(l0,s0,l8,s8)*pBwd(l1,s1,l9,s9)*pBwd(l2,s2,l10,s10)*pBwd(l3,s3,l11,s11)*pBwd(l4,s4,l12,s12)*pBwd(l5,s5,l13,s13)*pBwd(l6,s6,l14,s14)*pBwd(l7,s7,l15,s15);\n",
      "}\n"
     ]
    }
   ],
   "source": [
    "spin_sums=0\n",
    "color_sums=0\n",
    "for idx, num in idx_occurences.items():\n",
    "    if(num==2):\n",
    "        N=0\n",
    "        if(idx[0]=='s'):\n",
    "            N=4\n",
    "            spin_sums+=1\n",
    "        if(idx[0]=='c'):\n",
    "            idx=idx.replace('c','l')\n",
    "            N=4 #only in SU(4)\n",
    "            color_sums+=1\n",
    "        print(\"for(int \"+idx+\"=0; \"+idx+\"<\"+str(N)+\"; idx++)\")\n",
    "        \n",
    "#print(spin_sums)\n",
    "#print(color_sums)\n",
    "print(\"{\")\n",
    "\n",
    "diag_str=\"res+=\"\n",
    "for c in range(0,len(a_ci)):\n",
    "    idx_str=\"\"\n",
    "    for i in range(0,len(a_ci[c].indices)):\n",
    "        idx_str+=a_ci[c].indices[i]\n",
    "        if(i!=len(a_ci[c].indices)-1):\n",
    "            idx_str+=\",\"\n",
    "    name = a_ci[c].name\n",
    "    diag_str+=name+\"(\"+idx_str.replace('c','l')+\")\"\n",
    "    if(c!=len(a_ci)-1):\n",
    "        diag_str+=\"*\"\n",
    "    else:\n",
    "        diag_str+=\";\"\n",
    "print(diag_str)\n",
    "print(\"}\")"
   ]
  },
  {
   "cell_type": "code",
   "execution_count": null,
   "metadata": {},
   "outputs": [],
   "source": []
  },
  {
   "cell_type": "code",
   "execution_count": null,
   "metadata": {},
   "outputs": [],
   "source": []
  },
  {
   "cell_type": "code",
   "execution_count": null,
   "metadata": {},
   "outputs": [],
   "source": []
  }
 ],
 "metadata": {
  "kernelspec": {
   "display_name": "Python 3",
   "language": "python",
   "name": "python3"
  },
  "language_info": {
   "codemirror_mode": {
    "name": "ipython",
    "version": 3
   },
   "file_extension": ".py",
   "mimetype": "text/x-python",
   "name": "python",
   "nbconvert_exporter": "python",
   "pygments_lexer": "ipython3",
   "version": "3.9.5"
  }
 },
 "nbformat": 4,
 "nbformat_minor": 4
}
